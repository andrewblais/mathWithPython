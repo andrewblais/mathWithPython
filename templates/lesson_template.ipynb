{
 "cells": [
  {
   "cell_type": "markdown",
   "metadata": {},
   "source": [
    "# **_Lesson Title_**"
   ]
  },
  {
   "cell_type": "markdown",
   "metadata": {},
   "source": [
    "<hr style=\"height: 0; box-shadow: 0 0 5px 4px crimson; width: 90%;\">"
   ]
  },
  {
   "cell_type": "markdown",
   "metadata": {},
   "source": [
    "## **_Intro:_**"
   ]
  },
  {
   "cell_type": "markdown",
   "metadata": {},
   "source": []
  },
  {
   "cell_type": "markdown",
   "metadata": {},
   "source": []
  },
  {
   "cell_type": "markdown",
   "metadata": {},
   "source": []
  },
  {
   "cell_type": "markdown",
   "metadata": {},
   "source": [
    "<hr style=\"height: 0; box-shadow: 0 0 5px 4px crimson; width: 90%;\">"
   ]
  },
  {
   "cell_type": "markdown",
   "metadata": {},
   "source": [
    "## **_Lesson Pt. 1:_**"
   ]
  },
  {
   "cell_type": "markdown",
   "metadata": {},
   "source": []
  },
  {
   "cell_type": "markdown",
   "metadata": {},
   "source": []
  },
  {
   "cell_type": "markdown",
   "metadata": {},
   "source": []
  },
  {
   "cell_type": "markdown",
   "metadata": {},
   "source": [
    "<hr style=\"height: 0; box-shadow: 0 0 5px 4px crimson; width: 90%;\">"
   ]
  },
  {
   "cell_type": "markdown",
   "metadata": {},
   "source": [
    "## **_Lesson Pt. 2:_**"
   ]
  },
  {
   "cell_type": "markdown",
   "metadata": {},
   "source": [
    "### **_Pt. 2, Sec. 1:_**"
   ]
  },
  {
   "cell_type": "markdown",
   "metadata": {},
   "source": []
  },
  {
   "cell_type": "markdown",
   "metadata": {},
   "source": []
  },
  {
   "cell_type": "markdown",
   "metadata": {},
   "source": []
  },
  {
   "cell_type": "markdown",
   "metadata": {},
   "source": [
    "<hr style=\"height: 0; box-shadow: 0 0 5px 4px dodgerblue; width: 80%;\">"
   ]
  },
  {
   "cell_type": "markdown",
   "metadata": {},
   "source": [
    "### **_Pt. 2, Sec. 2:_**"
   ]
  },
  {
   "cell_type": "markdown",
   "metadata": {},
   "source": [
    "#### **_Pt. 2, Sec 2A:_**"
   ]
  },
  {
   "cell_type": "markdown",
   "metadata": {},
   "source": []
  },
  {
   "cell_type": "markdown",
   "metadata": {},
   "source": []
  },
  {
   "cell_type": "markdown",
   "metadata": {},
   "source": []
  },
  {
   "cell_type": "markdown",
   "metadata": {},
   "source": [
    "<hr style=\"height: 0; box-shadow: 0 0 5px 4px #5EDC1F; width: 70%;\">"
   ]
  },
  {
   "cell_type": "markdown",
   "metadata": {},
   "source": [
    "### **_Pt. 2, Sec 2B:_**"
   ]
  },
  {
   "cell_type": "markdown",
   "metadata": {},
   "source": [
    "#### **_Pt. 2, Sec 2B-I:_**"
   ]
  },
  {
   "cell_type": "markdown",
   "metadata": {},
   "source": []
  },
  {
   "cell_type": "markdown",
   "metadata": {},
   "source": []
  },
  {
   "cell_type": "markdown",
   "metadata": {},
   "source": []
  },
  {
   "cell_type": "markdown",
   "metadata": {},
   "source": [
    "<hr style=\"height: 0; box-shadow: 0 0 5px 4px orangered; width: 60%;\">"
   ]
  },
  {
   "cell_type": "markdown",
   "metadata": {},
   "source": [
    "#### **_Pt. 2, Sec 2B-II:_**"
   ]
  },
  {
   "cell_type": "markdown",
   "metadata": {},
   "source": [
    "##### **_Pt. 2, Sec 2B-II-a:_**"
   ]
  },
  {
   "cell_type": "markdown",
   "metadata": {},
   "source": []
  },
  {
   "cell_type": "markdown",
   "metadata": {},
   "source": []
  },
  {
   "cell_type": "markdown",
   "metadata": {},
   "source": []
  },
  {
   "cell_type": "markdown",
   "metadata": {},
   "source": [
    "<hr style=\"height: 0; box-shadow: 0 0 5px 4px gold; width: 50%;\">"
   ]
  },
  {
   "cell_type": "markdown",
   "metadata": {},
   "source": [
    "##### **_Pt. 2, Sec 2B-II-b:_**"
   ]
  },
  {
   "cell_type": "markdown",
   "metadata": {},
   "source": []
  },
  {
   "cell_type": "markdown",
   "metadata": {},
   "source": []
  },
  {
   "cell_type": "markdown",
   "metadata": {},
   "source": []
  },
  {
   "cell_type": "markdown",
   "metadata": {},
   "source": [
    "<hr style=\"height: 0; box-shadow: 0 0 5px 4px #5EDC1F; width: 75%;\">"
   ]
  },
  {
   "cell_type": "markdown",
   "metadata": {},
   "source": [
    "### **_Pt. 2, Sec 2C:_**"
   ]
  },
  {
   "cell_type": "markdown",
   "metadata": {},
   "source": []
  },
  {
   "cell_type": "markdown",
   "metadata": {},
   "source": []
  },
  {
   "cell_type": "markdown",
   "metadata": {},
   "source": []
  },
  {
   "cell_type": "markdown",
   "metadata": {},
   "source": [
    "<hr style=\"height: 0; box-shadow: 0 0 5px 4px dodgerblue; width: 80%;\">"
   ]
  },
  {
   "cell_type": "markdown",
   "metadata": {},
   "source": [
    "### **_Pt. 2, Sec. 3:_**"
   ]
  },
  {
   "cell_type": "markdown",
   "metadata": {},
   "source": [
    "<font size=6 style=\"color: orangered; font-weight: 500; text-shadow: goldenrod 0.05rem -0.05rem 0.65rem;\">\n",
    "    Some mysterious or important point.\n",
    "</font>"
   ]
  },
  {
   "cell_type": "markdown",
   "metadata": {},
   "source": []
  },
  {
   "cell_type": "markdown",
   "metadata": {},
   "source": []
  },
  {
   "cell_type": "markdown",
   "metadata": {},
   "source": [
    "<hr style=\"height: 0; box-shadow: 0 0 5px 4px crimson; width: 90%;\">"
   ]
  },
  {
   "cell_type": "markdown",
   "metadata": {},
   "source": [
    "## **_Lesson Pt. 3:_**"
   ]
  },
  {
   "cell_type": "markdown",
   "metadata": {},
   "source": [
    "$$\n",
    "\\huge\n",
    "    \\begin{gathered}\n",
    "        \\text{\n",
    "            \\small{\n",
    "                LaTeX MathJax Notes\n",
    "                }\n",
    "            }\n",
    "        \\\\\n",
    "        \\sum_{i=1}^{n} \\\\\n",
    "        \\sqrt{Y} = X \\Rightarrow Y = X^2 \\\\\n",
    "        \\sqrt{4} = 2 \\Rightarrow 4 = 2^2\n",
    "    \\end{gathered}\n",
    "\n",
    "$$"
   ]
  },
  {
   "cell_type": "markdown",
   "metadata": {},
   "source": [
    "<hr style=\"height: 0; box-shadow: 0 0 5px 4px crimson; width: 90%;\">"
   ]
  },
  {
   "cell_type": "markdown",
   "metadata": {},
   "source": [
    "## **_Code:_**"
   ]
  },
  {
   "cell_type": "code",
   "execution_count": null,
   "metadata": {},
   "outputs": [],
   "source": [
    "# Import libraries:\n",
    "import matplotlib.pyplot as plt\n",
    "import numpy as np\n",
    "import scipy as sp\n",
    "import sympy as sym"
   ]
  },
  {
   "cell_type": "code",
   "execution_count": null,
   "metadata": {},
   "outputs": [],
   "source": []
  },
  {
   "cell_type": "code",
   "execution_count": null,
   "metadata": {},
   "outputs": [],
   "source": []
  },
  {
   "cell_type": "code",
   "execution_count": null,
   "metadata": {},
   "outputs": [],
   "source": []
  },
  {
   "cell_type": "code",
   "execution_count": null,
   "metadata": {},
   "outputs": [],
   "source": []
  },
  {
   "cell_type": "markdown",
   "metadata": {},
   "source": [
    "<hr style=\"height: 0; box-shadow: 0 0 5px 4px crimson; width: 90%;\">"
   ]
  },
  {
   "cell_type": "markdown",
   "metadata": {},
   "source": [
    "<hr style=\"height: 0; box-shadow: 0 0 5px 4px dodgerblue; width: 80%;\">"
   ]
  },
  {
   "cell_type": "markdown",
   "metadata": {},
   "source": [
    "<hr style=\"height: 0; box-shadow: 0 0 5px 4px #5EDC1F; width: 70%;\">"
   ]
  },
  {
   "cell_type": "markdown",
   "metadata": {},
   "source": [
    "<hr style=\"height: 0; box-shadow: 0 0 5px 4px orangered; width: 60%;\">"
   ]
  },
  {
   "cell_type": "markdown",
   "metadata": {},
   "source": [
    "<hr style=\"height: 0; box-shadow: 0 0 5px 4px gold; width: 50%;\">"
   ]
  },
  {
   "cell_type": "markdown",
   "metadata": {},
   "source": [
    "<hr style=\"height: 0; box-shadow: 0 0 5px 4px mediumorchid; width: 40%;\">"
   ]
  },
  {
   "cell_type": "markdown",
   "metadata": {},
   "source": [
    "<hr style=\"height: 0; box-shadow: 0 0 5px 4px #5EDC1F; width: 70%; margin-bottom: 1rem;\">\n",
    "<hr style=\"height: 0; box-shadow: 0 0 5px 4px #5EDC1F; width: 70%;\">"
   ]
  },
  {
   "cell_type": "markdown",
   "metadata": {},
   "source": [
    "<hr style=\"height: 0; box-shadow: 0 0 5px 4px deepskyblue; width: 75%; margin-bottom: 1rem;\">\n",
    "<hr style=\"height: 0; box-shadow: 0 0 5px 4px deepskyblue; width: 75%;\">"
   ]
  },
  {
   "cell_type": "markdown",
   "metadata": {},
   "source": [
    "<hr style=\"height: 0; box-shadow: 0 0 5px 4px fuchsia; width: 100%; margin: 1.5rem auto;\">\n",
    "<hr style=\"height: 0; box-shadow: 0 0 5px 4px fuchsia; width: 100%; margin: 1.5rem auto;\">\n",
    "<hr style=\"height: 0; box-shadow: 0 0 5px 4px fuchsia; width: 100%; margin: 1.5rem auto;\">"
   ]
  },
  {
   "cell_type": "markdown",
   "metadata": {},
   "source": [
    "<font style=\"color: goldenrod; font-size: 3.25rem; font-weight: 600; text-shadow: orangered 0.05rem -0.05rem 0.65rem;\">\n",
    "\n",
    "<i>Super Heading</i>\n",
    "\n",
    "</font>"
   ]
  },
  {
   "cell_type": "markdown",
   "metadata": {},
   "source": [
    "<div style=\"border: 3px groove crimson; border-radius: 5px; width: fit-content; text-align: center; padding: 0.35em 0.75em;\">\n",
    "  <span style=\"font-size: 15px; font-weight: bold; color: crimson;\">\n",
    "    CONCLUSIONS\n",
    "  </span>\n",
    "</div>"
   ]
  },
  {
   "cell_type": "markdown",
   "metadata": {},
   "source": [
    "<div style=\"border: 3px groove dodgerblue; border-radius: 5px; width: fit-content; text-align: center; padding: 0.35em 0.75em;\">\n",
    "  <span style=\"font-size: 15px; font-weight: bold; color: dodgerblue;\">\n",
    "    CORRESPONDENCE\n",
    "  </span>\n",
    "</div>\n"
   ]
  },
  {
   "cell_type": "markdown",
   "metadata": {},
   "source": [
    "<div style=\"border: 3px groove #5EDC1F; border-radius: 5px; width: fit-content; text-align: center; padding: 0.35em 0.75em;\">\n",
    "  <span style=\"font-size: 15px; font-weight: bold; color: #5EDC1F;\">\n",
    "    RESUME 00:00\n",
    "  </span>\n",
    "</div>"
   ]
  },
  {
   "cell_type": "markdown",
   "metadata": {},
   "source": [
    "<span style=\"border: 3px groove #5EDC1F; border-radius: 5px; width: fit-content; text-align: center; padding: 0.35em 0.75em;\">\n",
    "  <span style=\"font-size: 15px; font-weight: bold; color: #5EDC1F;\">\n",
    "    RESUME 00:00\n",
    "  </span>\n",
    "</span>\n",
    "&nbsp;\n",
    "<span style=\"border: 3px groove #5EDC1F; border-radius: 5px; width: fit-content; text-align: center; padding: 0.35em 0.75em;\">\n",
    "  <span style=\"font-size: 15px; font-weight: bold; color: #5EDC1F;\">\n",
    "    RESUME 00:00\n",
    "  </span>\n",
    "</span>\n",
    "&nbsp;\n",
    "<span style=\"border: 3px groove #5EDC1F; border-radius: 5px; width: fit-content; text-align: center; padding: 0.35em 0.75em;\">\n",
    "  <span style=\"font-size: 15px; font-weight: bold; color: #5EDC1F;\">\n",
    "    RESUME 00:00\n",
    "  </span>\n",
    "</span>\n",
    "&nbsp;\n",
    "<span style=\"border: 3px groove #5EDC1F; border-radius: 5px; width: fit-content; text-align: center; padding: 0.35em 0.75em;\">\n",
    "  <span style=\"font-size: 15px; font-weight: bold; color: #5EDC1F;\">\n",
    "    RESUME 00:00\n",
    "  </span>\n",
    "</span>\n",
    "&nbsp;\n",
    "<span style=\"border: 3px groove #5EDC1F; border-radius: 5px; width: fit-content; text-align: center; padding: 0.35em 0.75em;\">\n",
    "  <span style=\"font-size: 15px; font-weight: bold; color: #5EDC1F;\">\n",
    "    RESUME 00:00\n",
    "  </span>\n",
    "</span>\n",
    "<br>\n",
    "<br>\n",
    "<span style=\"border: 3px groove #5EDC1F; border-radius: 5px; width: fit-content; text-align: center; padding: 0.35em 0.75em;\">\n",
    "  <span style=\"font-size: 15px; font-weight: bold; color: #5EDC1F;\">\n",
    "    RESUME 00:00\n",
    "  </span>\n",
    "</span>\n",
    "&nbsp;\n",
    "<span style=\"border: 3px groove #5EDC1F; border-radius: 5px; width: fit-content; text-align: center; padding: 0.35em 0.75em;\">\n",
    "  <span style=\"font-size: 15px; font-weight: bold; color: #5EDC1F;\">\n",
    "    RESUME 00:00\n",
    "  </span>\n",
    "</span>\n",
    "&nbsp;\n",
    "<span style=\"border: 3px groove #5EDC1F; border-radius: 5px; width: fit-content; text-align: center; padding: 0.35em 0.75em;\">\n",
    "  <span style=\"font-size: 15px; font-weight: bold; color: #5EDC1F;\">\n",
    "    RESUME 00:00\n",
    "  </span>\n",
    "</span>\n",
    "&nbsp;\n",
    "<span style=\"border: 3px groove #5EDC1F; border-radius: 5px; width: fit-content; text-align: center; padding: 0.35em 0.75em;\">\n",
    "  <span style=\"font-size: 15px; font-weight: bold; color: #5EDC1F;\">\n",
    "    RESUME 00:00\n",
    "  </span>\n",
    "</span>\n",
    "&nbsp;\n",
    "<span style=\"border: 3px groove #5EDC1F; border-radius: 5px; width: fit-content; text-align: center; padding: 0.35em 0.75em;\">\n",
    "  <span style=\"font-size: 15px; font-weight: bold; color: #5EDC1F;\">\n",
    "    RESUME 00:00\n",
    "  </span>\n",
    "</span>\n",
    "<br>\n",
    "<br>\n",
    "<span style=\"border: 3px groove #5EDC1F; border-radius: 5px; width: fit-content; text-align: center; padding: 0.35em 0.75em;\">\n",
    "  <span style=\"font-size: 15px; font-weight: bold; color: #5EDC1F;\">\n",
    "    RESUME 00:00\n",
    "  </span>\n",
    "</span>\n",
    "&nbsp;\n",
    "<span style=\"border: 3px groove #5EDC1F; border-radius: 5px; width: fit-content; text-align: center; padding: 0.35em 0.75em;\">\n",
    "  <span style=\"font-size: 15px; font-weight: bold; color: #5EDC1F;\">\n",
    "    RESUME 00:00\n",
    "  </span>\n",
    "</span>\n",
    "&nbsp;\n",
    "<span style=\"border: 3px groove #5EDC1F; border-radius: 5px; width: fit-content; text-align: center; padding: 0.35em 0.75em;\">\n",
    "  <span style=\"font-size: 15px; font-weight: bold; color: #5EDC1F;\">\n",
    "    RESUME 00:00\n",
    "  </span>\n",
    "</span>\n",
    "&nbsp;\n",
    "<span style=\"border: 3px groove #5EDC1F; border-radius: 5px; width: fit-content; text-align: center; padding: 0.35em 0.75em;\">\n",
    "  <span style=\"font-size: 15px; font-weight: bold; color: #5EDC1F;\">\n",
    "    RESUME 00:00\n",
    "  </span>\n",
    "</span>\n",
    "&nbsp;\n",
    "<span style=\"border: 3px groove #5EDC1F; border-radius: 5px; width: fit-content; text-align: center; padding: 0.35em 0.75em;\">\n",
    "  <span style=\"font-size: 15px; font-weight: bold; color: #5EDC1F;\">\n",
    "    RESUME 00:00\n",
    "  </span>\n",
    "</span>\n",
    "<br>\n",
    "<br>"
   ]
  },
  {
   "cell_type": "markdown",
   "metadata": {},
   "source": [
    "<div style=\"border: 3px groove gold; border-radius: 5px; width: fit-content; text-align: center; padding: 0.35em 0.75em;\">\n",
    "  <span style=\"font-size: 15px; font-weight: bold; color: gold;\">\n",
    "    CODE START\n",
    "  </span>\n",
    "</div>"
   ]
  },
  {
   "cell_type": "markdown",
   "metadata": {},
   "source": [
    "<div style=\"color: orangered; font-size: 2rem; font-weight: 400; text-shadow: goldenrod 0.05rem -0.05rem 0.65rem; text-align: left;\">\n",
    "    Styled HTML Text\n",
    "</div>"
   ]
  },
  {
   "cell_type": "markdown",
   "metadata": {},
   "source": [
    "<font size=6 style=\"color: orangered; font-weight: 500; text-shadow: goldenrod 0.05rem -0.05rem 0.65rem;\">\n",
    "\n",
    "Styled Markdown Text $\\therefore$\n",
    "\n",
    "</font>"
   ]
  },
  {
   "cell_type": "markdown",
   "metadata": {},
   "source": [
    "<font size=4 style=\"color: orangered; font-weight: 500; text-shadow: goldenrod 0.05rem -0.05rem 0.65rem;\">\n",
    "\n",
    "```sh\n",
    "git pull origin main\n",
    "```\n",
    "\n",
    "</font>"
   ]
  },
  {
   "cell_type": "markdown",
   "metadata": {},
   "source": [
    "### **_Compare Columns C:_**\n",
    "\n",
    "<font size=6 style=\"font-size: .7rem; display: flex; flex-wrap: no-wrap; justify-content: center;\">\n",
    "\n",
    "<div>\n",
    "\n",
    "```c\n",
    "printf(\"Frogs are cool\");\n",
    "```\n",
    "\n",
    "</div>\n",
    "\n",
    "<div>\n",
    "\n",
    "```c\n",
    "printf(\"Frogs are great\");\n",
    "```\n",
    "\n",
    "</div>\n",
    "\n",
    "</font>"
   ]
  },
  {
   "cell_type": "markdown",
   "metadata": {},
   "source": [
    "### **_Compare Columns Python:_**\n",
    "\n",
    "<font size=6 style=\"font-size: .7rem; display: flex; flex-wrap: no-wrap; justify-content: center;\">\n",
    "\n",
    "<div>\n",
    "\n",
    "```python\n",
    "print(\"Frogs are cool\")\n",
    "```\n",
    "\n",
    "</div>\n",
    "\n",
    "<div>\n",
    "\n",
    "```python\n",
    "print(\"Frogs are great\")\n",
    "```\n",
    "\n",
    "</div>\n",
    "\n",
    "</font>"
   ]
  },
  {
   "cell_type": "markdown",
   "metadata": {},
   "source": [
    "### **_Compare Columns JS:_**\n",
    "\n",
    "<font size=6 style=\"font-size: .7rem; display: flex; flex-wrap: no-wrap; justify-content: center;\">\n",
    "\n",
    "<div>\n",
    "\n",
    "```js\n",
    "console.log(\"Frogs are cool\")\n",
    "```\n",
    "\n",
    "</div>\n",
    "\n",
    "<div>\n",
    "\n",
    "```js\n",
    "console.log(\"Frogs are great\")\n",
    "```\n",
    "\n",
    "</div>\n",
    "\n",
    "</font>"
   ]
  },
  {
   "cell_type": "markdown",
   "metadata": {},
   "source": [
    "<font size=2>\n",
    "\n",
    "```python\n",
    "# python\n",
    "```\n",
    "\n",
    "</font>"
   ]
  },
  {
   "cell_type": "markdown",
   "metadata": {},
   "source": [
    "<font size=2>\n",
    "\n",
    "```js\n",
    "// js \n",
    "```\n",
    "\n",
    "</font>"
   ]
  },
  {
   "cell_type": "markdown",
   "metadata": {},
   "source": [
    "<font size=2>\n",
    "\n",
    "```motoko\n",
    "// motoko \n",
    "```\n",
    "\n",
    "</font>"
   ]
  },
  {
   "cell_type": "markdown",
   "metadata": {},
   "source": [
    "<font size=2>\n",
    "\n",
    "```c\n",
    "// c \n",
    "```\n",
    "\n",
    "</font>"
   ]
  },
  {
   "cell_type": "markdown",
   "metadata": {},
   "source": [
    "<font size=2>\n",
    "\n",
    "```jsx\n",
    "// jsx\n",
    "```\n",
    "\n",
    "</font>"
   ]
  },
  {
   "cell_type": "markdown",
   "metadata": {},
   "source": [
    "<font size=2>\n",
    "\n",
    "```html\n",
    "<!-- html -->\n",
    "```\n",
    "\n",
    "</font>"
   ]
  },
  {
   "cell_type": "markdown",
   "metadata": {},
   "source": [
    "<font size=2>\n",
    "\n",
    "```css\n",
    "/* css */\n",
    "```\n",
    "\n",
    "</font>"
   ]
  },
  {
   "cell_type": "markdown",
   "metadata": {},
   "source": [
    "<font size=2>\n",
    "\n",
    "```sql\n",
    "-- sql\n",
    "```\n",
    "\n",
    "</font>"
   ]
  },
  {
   "cell_type": "markdown",
   "metadata": {},
   "source": [
    "<font size=2>\n",
    "\n",
    "```console\n",
    "≫ console\n",
    "← \n",
    "```\n",
    "\n",
    "</font>"
   ]
  },
  {
   "cell_type": "markdown",
   "metadata": {},
   "source": [
    "<font size=2>\n",
    "\n",
    "```shell\n",
    "# shell\n",
    "```\n",
    "\n",
    "</font>"
   ]
  },
  {
   "cell_type": "markdown",
   "metadata": {},
   "source": [
    "<font size=2>\n",
    "\n",
    "```\n",
    "<!-- Code Block -->\n",
    "```\n",
    "\n",
    "</font>"
   ]
  },
  {
   "cell_type": "markdown",
   "metadata": {},
   "source": [
    "<font size=5 style=\"color: orangered; font-weight: 500; text-shadow: goldenrod 0.05rem -0.05rem 0.65rem;\">\n",
    "\n",
    "```\n",
    "<!-- Display Code Block -->\n",
    "```\n",
    "\n",
    "</font>"
   ]
  },
  {
   "cell_type": "markdown",
   "metadata": {},
   "source": [
    "<font size=4 style=\"font-weight: 600;\">\n",
    "\n",
    "\n",
    "```js\n",
    "r(\"hut\")\n",
    "    returns r(\"ut\") + \"h\"\n",
    "        returns r(\"t\") + \"u\"\n",
    "            returns \"t\"\n",
    "        returns \"t\" + \"u\" = \"tu\"\n",
    "    returns \"tu\" + \"h\" = \"tuh\"\n",
    "```\n",
    "\n",
    "</font>"
   ]
  }
 ],
 "metadata": {
  "kernelspec": {
   "display_name": "venv",
   "language": "python",
   "name": "python3"
  },
  "language_info": {
   "codemirror_mode": {
    "name": "ipython",
    "version": 3
   },
   "file_extension": ".py",
   "mimetype": "text/x-python",
   "name": "python",
   "nbconvert_exporter": "python",
   "pygments_lexer": "ipython3",
   "version": "3.13.7"
  }
 },
 "nbformat": 4,
 "nbformat_minor": 2
}
