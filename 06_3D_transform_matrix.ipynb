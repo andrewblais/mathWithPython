{
 "cells": [
  {
   "cell_type": "markdown",
   "metadata": {},
   "source": [
    "## **_3D Transformation Matrices:_**\n",
    "\n",
    "# **_Rotate & Stretch/Scale vs. Pure Rotation_**"
   ]
  },
  {
   "cell_type": "markdown",
   "metadata": {},
   "source": [
    "<hr style=\"height: 0; box-shadow: 0 0 5px 4px crimson; width: 95%;\">"
   ]
  },
  {
   "cell_type": "markdown",
   "metadata": {},
   "source": [
    "## **_Background:_**"
   ]
  },
  {
   "cell_type": "markdown",
   "metadata": {},
   "source": [
    "This Python Jupyter notebook consists of suggested extra work to supplement a lesson in 2D Transformation Matrices from Mike X. Cohen's Linear Algebra course on Udemy.\n",
    "\n",
    "-   Udemy course: https://www.udemy.com/course/linear-algebra-theory-and-implementation\n",
    "\n",
    "-   Professor Cohen's website: https://www.mikexcohen.com/"
   ]
  },
  {
   "cell_type": "markdown",
   "metadata": {},
   "source": [
    "<hr style=\"height: 0; box-shadow: 0 0 5px 4px crimson; width: 95%;\">"
   ]
  },
  {
   "cell_type": "markdown",
   "metadata": {},
   "source": [
    "## **_Goal:_**"
   ]
  },
  {
   "cell_type": "markdown",
   "metadata": {},
   "source": [
    "**_Review the lesson on 2D Transformation Matrices and explore their behavior in $\\mathbb{R}^3$._**\n",
    "\n",
    "1. Create and plot the elements for 3D matrix-vector multiplication resulting in an output vector which is a **PURELY SCALED** version of the input vector.\n",
    "\n",
    "2. Create and plot the elements for 3D matrix-vector multiplication to result in an output vector which is a **_ROTATED & SCALED_** version of the original vector.\n",
    "\n",
    "3. Create and plot the elements for 3D matrix-vector multiplication to result in an output vector which differs from the original vector only in its **_ORIENTATION/ROTATION_**."
   ]
  },
  {
   "cell_type": "markdown",
   "metadata": {},
   "source": [
    "<hr style=\"height: 0; box-shadow: 0 0 5px 4px crimson; width: 95%;\">"
   ]
  },
  {
   "cell_type": "markdown",
   "metadata": {},
   "source": [
    "<hr style=\"height: 0; box-shadow: 0 0 5px 4px dodgerblue; width: 85%;\">"
   ]
  },
  {
   "cell_type": "markdown",
   "metadata": {},
   "source": [
    "## **_Pure Stretch/Scale Matrix-Vector Multiplication:_**\n",
    "\n",
    "-   We'll work in $\\mathbb{R}^3$, creating matrix $\\textbf{M}$.\n",
    "\n",
    "-   When multplying $\\textbf{M}$ by vector $\\textbf{v}$ we get the product vector $\\textbf{w}$.\n",
    "\n",
    "-   If vector $\\textbf{w}$ differs from vector $\\textbf{v}$ only in magnitude but not in direction we know that matrix $\\textbf{M}$ and vector $\\textbf{v}$ have a special relationship:\n",
    "\n",
    "-   Matrix $\\textbf{M}$ is effectively acting as a scalar in multiplying vector $\\textbf{v}$.\n",
    "\n",
    "-   In cases like this, where the matrix-vector multiplication acts like scalar-vector multiplication, we can say that the vector $\\textbf{v}$ is an **EIGENVECTOR** of matrix $\\textbf{M}$.\n",
    "\n",
    "-   The scalar value which has the same effect upon multiplying the vector $\\textbf{v}$ as the matrix $\\textbf{M}$ does when multiplying vector $\\textbf{v}$ is called an **EIGENVALUE** of matrix $\\textbf{M}$."
   ]
  },
  {
   "cell_type": "code",
   "execution_count": 106,
   "metadata": {},
   "outputs": [],
   "source": [
    "# Imports:\n",
    "import matplotlib.pyplot as plt\n",
    "import numpy as np\n",
    "from sympy import sympify as symp"
   ]
  },
  {
   "cell_type": "code",
   "execution_count": 86,
   "metadata": {},
   "outputs": [],
   "source": [
    "# Initial matrix:\n",
    "M_STR = np.random.randint(1, 5, (3, 3))\n",
    "# Initial input vector:\n",
    "v_inp_str = np.random.randint(1, 5, 3)\n",
    "\n",
    "# Matrix-vector multplication product\n",
    "#  (output-vector):\n",
    "m_v_str = M_STR @ v_inp_str\n",
    "\n",
    "# Scalar:\n",
    "s_str = np.random.randint(1, 5, 1)\n",
    "\n",
    "# Ensure matrix, vector and scalar\n",
    "#  match criteria for scaling-only\n",
    "#  operation by looping until we\n",
    "#  find equal results indicating\n",
    "#  same effect on vector by scalar\n",
    "#  and matrix:\n",
    "while not (s_str * v_inp_str == m_v_str).all():\n",
    "    M_STR = np.random.randint(1, 5, (3, 3))\n",
    "    v_inp_str = np.random.randint(1, 5, 3)\n",
    "    m_v_str = M_STR @ v_inp_str\n",
    "    s_str = np.random.randint(1, 5, 1)\n",
    "\n",
    "# Get vector lengths:\n",
    "len_v_inp_str = np.round(np.linalg.norm(v_inp_str), 2)\n",
    "len_m_v_str = np.round(np.linalg.norm(m_v_str), 2)    "
   ]
  },
  {
   "cell_type": "markdown",
   "metadata": {},
   "source": [
    "#### **_Print Stretch-Equation's Constituent Elements:_**"
   ]
  },
  {
   "cell_type": "code",
   "execution_count": null,
   "metadata": {},
   "outputs": [],
   "source": [
    "print(\"Matrix:\")\n",
    "display(symp(M_STR))\n",
    "print()\n",
    "\n",
    "print(\"Input Vector:\")\n",
    "display(symp(v_inp_str))\n",
    "display(\"Length:\", symp(len_v_inp_str))\n",
    "print()\n",
    "\n",
    "print(\"Scalar:\")\n",
    "display(symp(s_str))\n",
    "print()\n",
    "\n",
    "print(\"Output Vector (Stretched Only):\")\n",
    "display(symp(m_v_str))\n",
    "display(\"Length:\", symp(len_m_v_str))"
   ]
  },
  {
   "cell_type": "code",
   "execution_count": 88,
   "metadata": {},
   "outputs": [],
   "source": [
    "# Get max value to properly orient\n",
    "#  axis and origin indicator:\n",
    "ax_lim = max(m_v_str)"
   ]
  },
  {
   "cell_type": "markdown",
   "metadata": {},
   "source": [
    "#### **_Plot the Vector and its Stretched Counterpart:_**"
   ]
  },
  {
   "cell_type": "code",
   "execution_count": null,
   "metadata": {},
   "outputs": [],
   "source": [
    "fig = plt.figure(figsize=(7, 7))\n",
    "\n",
    "ax = fig.add_subplot(projection='3d')\n",
    "\n",
    "# Plot the input vector:\n",
    "ax.plot([0, v_inp_str[0]], [0, v_inp_str[1]], [0, v_inp_str[2]],\n",
    "         c='darkorange', lw=3.5, label=f\"Input Vector, len={len_v_inp_str}\")\n",
    "\n",
    "# Plot the scaled, product vector:\n",
    "ax.plot([0, m_v_str[0]], [0, m_v_str[1]], [0, m_v_str[2]], '--',\n",
    "         c='firebrick', lw=2, label=f\"Scaled Vector, len={len_m_v_str}\")\n",
    "\n",
    "# Indicate origin:\n",
    "ax.plot([0, 0], [0, 0], [-ax_lim, ax_lim], 'k--', alpha=.25)\n",
    "ax.plot([0, 0], [-ax_lim, ax_lim], [0, 0], 'k--', alpha=.25)\n",
    "ax.plot([-ax_lim, ax_lim], [0, 0], [0, 0],  'k--', alpha=.25)\n",
    "\n",
    "plt.title(\"Pure-Scale\\nMatrix-Vector Multiplication\", size=20)\n",
    "plt.legend()\n",
    "plt.show()"
   ]
  },
  {
   "cell_type": "markdown",
   "metadata": {},
   "source": [
    "<hr style=\"height: 0; box-shadow: 0 0 5px 4px dodgerblue; width: 85%;\">"
   ]
  },
  {
   "cell_type": "markdown",
   "metadata": {},
   "source": [
    "## **_Rotate & Scale Matrix-Vector Multiplication:_**"
   ]
  },
  {
   "cell_type": "markdown",
   "metadata": {},
   "source": [
    "-   Continuing in $\\mathbb{R}^3$, we'll create a matrix which both rotates and scales its vector post-multiplier.\n",
    "\n",
    "-   Then we'll look at the resultant numbers and visualizations."
   ]
  },
  {
   "cell_type": "code",
   "execution_count": null,
   "metadata": {},
   "outputs": [],
   "source": [
    "# Imports:\n",
    "import matplotlib.pyplot as plt\n",
    "import numpy as np\n",
    "from sympy import sympify as symp"
   ]
  },
  {
   "cell_type": "code",
   "execution_count": 102,
   "metadata": {},
   "outputs": [],
   "source": [
    "# 3D Matrix:\n",
    "M_ROT_STR = np.random.randint(1, 5, (3, 3))\n",
    "\n",
    "# 3D input vector:\n",
    "v_inp_rot_str = np.random.randint(1, 5, 3)\n",
    "len_v_inp_rot_str = np.round(np.linalg.norm(v_inp_rot_str), 2)\n",
    "\n",
    "# 3D product vector:\n",
    "m_v_rot_str = M_ROT_STR @ v_inp_rot_str\n",
    "len_m_v_rot_str = np.round(np.linalg.norm(m_v_rot_str), 2)\n",
    "\n",
    "# Scalar:\n",
    "s_rot_str = np.random.randint(1, 5, 1)  \n",
    "\n",
    "# Ensure matrix, vector and scalar\n",
    "#  match criteria for rotate-stretch\n",
    "#  operation:\n",
    "while (s_rot_str * v_inp_rot_str == m_v_rot_str).all():\n",
    "    M_ROT_STR = np.random.randint(1, 5, (3, 3))\n",
    "    v_inp_rot_str = np.random.randint(1, 5, 3)\n",
    "    m_v_rot_str = M_ROT_STR @ v_inp_rot_str\n",
    "    s_rot_str = np.random.randint(1, 5, 1)"
   ]
  },
  {
   "cell_type": "markdown",
   "metadata": {},
   "source": [
    "#### **_Print Rotate/Scale Equation's Constituent Elements:_**"
   ]
  },
  {
   "cell_type": "code",
   "execution_count": null,
   "metadata": {},
   "outputs": [],
   "source": [
    "print(\"Matrix:\")\n",
    "display(symp(M_ROT_STR))\n",
    "print()\n",
    "\n",
    "print(\"Input Vector:\")\n",
    "display(symp(v_inp_rot_str))\n",
    "display(\"Length:\", symp(len_v_inp_rot_str))\n",
    "print()\n",
    "\n",
    "print(\"Scalar (for Comparison Only):\")\n",
    "display(symp(s_rot_str))\n",
    "print()\n",
    "\n",
    "print(\"Output Vector (Stretched and Rotated):\")\n",
    "display(symp(m_v_rot_str))\n",
    "display(\"Length:\", symp(len_m_v_rot_str))"
   ]
  },
  {
   "cell_type": "code",
   "execution_count": 104,
   "metadata": {},
   "outputs": [],
   "source": [
    "# Get max value to properly orient\n",
    "#  axis and origin indicator:\n",
    "ax_lim = max(m_v_rot_str)"
   ]
  },
  {
   "cell_type": "markdown",
   "metadata": {},
   "source": [
    "#### **_Plot the Vector and its Stretched/Rotated Counterpart:_**"
   ]
  },
  {
   "cell_type": "code",
   "execution_count": null,
   "metadata": {},
   "outputs": [],
   "source": [
    "fig = plt.figure(figsize=(7, 7))\n",
    "\n",
    "ax = fig.add_subplot(projection='3d')\n",
    "\n",
    "# Plot the input vector:\n",
    "ax.plot([0, v_inp_rot_str[0]], [0, v_inp_rot_str[1]], [0, v_inp_rot_str[2]],\n",
    "        c='darkorange', lw=3, label=f\"Input Vector, len={len_v}\")\n",
    "\n",
    "# Plot the scaled, product vector:\n",
    "ax.plot([0, m_v_rot_str[0]], [0, m_v_rot_str[1]], [0, m_v_rot_str[2]], '--',\n",
    "        c='firebrick', lw=2, label=f\"Scaled Vector, len={len_m_v}\")\n",
    "\n",
    "# Indicate origin:\n",
    "ax.plot([0, 0], [0, 0], [-ax_lim, ax_lim], 'k--', alpha=.25)\n",
    "ax.plot([0, 0], [-ax_lim, ax_lim], [0, 0], 'k--', alpha=.25)\n",
    "ax.plot([-ax_lim, ax_lim], [0, 0], [0, 0],  'k--', alpha=.25)\n",
    "\n",
    "plt.title(\"Stretch & Rotate\\nMatrix-Vector Multiplication\", size=20)\n",
    "plt.legend()\n",
    "plt.show()"
   ]
  },
  {
   "cell_type": "markdown",
   "metadata": {},
   "source": [
    "-   Very often, matrix-vector multiplication will result in a vector which is rotated and stretched compared with the original vector.\n",
    "\n",
    "-   This depends on the specific values of the vector and matrix.\n",
    "\n",
    "-   We need to choose the matrix/vector values carefully to get just rotation or just stretch..."
   ]
  },
  {
   "cell_type": "markdown",
   "metadata": {},
   "source": [
    "<hr style=\"height: 0; box-shadow: 0 0 5px 4px dodgerblue; width: 85%;\">"
   ]
  },
  {
   "cell_type": "markdown",
   "metadata": {},
   "source": [
    "## **_Pure Rotation Matrix-Vector Multiplication:_**"
   ]
  },
  {
   "cell_type": "markdown",
   "metadata": {},
   "source": [
    "-   Use boilerplate rotation matrices (in LaTeX below), multiply a vector by each, and analyze the results..."
   ]
  },
  {
   "cell_type": "markdown",
   "metadata": {},
   "source": [
    "#### **_Three Varieties of Rotation Matrices:_**\n",
    "\n",
    "-   Courtesy of [**_math.libretexts.org_**](<https://math.libretexts.org/Bookshelves/Applied_Mathematics/Mathematics_for_Game_Developers_(Burzynski)/04%3A_Matrices/4.06%3A_Rotation_Matrices_in_3-Dimensions>)\n"
   ]
  },
  {
   "cell_type": "markdown",
   "metadata": {},
   "source": [
    "-   $\\mathbb{R}^3$ $x$-axis rotation matrix:\n",
    "\n",
    "$$ \n",
    "\\begin{bmatrix}\n",
    "    1 & 0            & 0            \\\\\n",
    "    0 & \\cos(\\theta) & -sin(\\theta) \\\\\n",
    "    0 & \\sin(\\theta) & \\cos(\\theta)\n",
    "\\end{bmatrix}\n",
    "$$"
   ]
  },
  {
   "cell_type": "markdown",
   "metadata": {},
   "source": [
    "-   $\\mathbb{R}^3$ $y$-axis rotation matrix:\n",
    "\n",
    "$$\n",
    "\\begin{bmatrix}\n",
    "    \\cos(\\theta)  & 0 & sin(\\theta) \\\\\n",
    "    0             & 1 & 0           \\\\\n",
    "    -\\sin(\\theta) & 0 & \\cos(\\theta)\n",
    "\\end{bmatrix}\n",
    "$$"
   ]
  },
  {
   "cell_type": "markdown",
   "metadata": {},
   "source": [
    "-   $\\mathbb{R}^3$ $z$-axis rotation matrix:\n",
    "\n",
    "$$\n",
    "\\begin{bmatrix}\n",
    "    \\cos(\\theta) & -sin(\\theta) & 0 \\\\\n",
    "    \\sin(\\theta) & \\cos(\\theta) & 0 \\\\\n",
    "    0            & 0            & 1\n",
    "\\end{bmatrix}\n",
    "$$"
   ]
  },
  {
   "cell_type": "code",
   "execution_count": null,
   "metadata": {},
   "outputs": [],
   "source": [
    "# Imports:\n",
    "import matplotlib.pyplot as plt\n",
    "import numpy as np\n",
    "from sympy import sympify as symp"
   ]
  },
  {
   "cell_type": "code",
   "execution_count": 94,
   "metadata": {},
   "outputs": [],
   "source": [
    "# Define theta:\n",
    "th = 45\n",
    "\n",
    "# # Create 3D Matrices:\n",
    "# x-axis rotation matrix:\n",
    "M_ROT_X = np.array([[1, 0, 0],\n",
    "                    [0, np.cos(th), -np.sin(th)],\n",
    "                    [0, np.sin(th), np.cos(th)]])\n",
    "\n",
    "# y-axis rotation matrix:\n",
    "M_ROT_Y = np.array([[np.cos(th), 0, np.sin(th)],\n",
    "                    [0, 1, 0],\n",
    "                    [-np.sin(th), 0, np.cos(th)]])\n",
    "\n",
    "# z-axis rotation matrix:\n",
    "M_ROT_Z = np.array([[np.cos(th), -np.sin(th), 0],\n",
    "                    [np.sin(th), np.cos(th), 0],\n",
    "                    [0, 0, 1]])\n",
    "\n",
    "# 3D input vector and its magnitude:\n",
    "v_inp_rot = np.random.randint(1, 5, 3)\n",
    "len_v_inp_rot = np.round(np.linalg.norm(v_inp_rot), 2)\n",
    "\n",
    "# 3D product rotation vectors and their magnitudes:\n",
    "m_v_x_rot = M_ROT_X @ v_inp_rot\n",
    "len_m_v_x_rot = np.round(np.linalg.norm(m_v_x_rot), 2)\n",
    "\n",
    "m_v_y_rot = M_ROT_Y @ v_inp_rot\n",
    "len_m_v_y_rot = np.round(np.linalg.norm(m_v_y_rot), 2)\n",
    "\n",
    "m_v_z_rot = M_ROT_Z @ v_inp_rot\n",
    "len_m_v_z_rot = np.round(np.linalg.norm(m_v_z_rot), 2)\n"
   ]
  },
  {
   "cell_type": "markdown",
   "metadata": {},
   "source": [
    "#### **_Print Rotate/Scale Equation's Constituent Elements:_**"
   ]
  },
  {
   "cell_type": "code",
   "execution_count": 107,
   "metadata": {},
   "outputs": [
    {
     "name": "stdout",
     "output_type": "stream",
     "text": [
      "Matrix X:\n"
     ]
    },
    {
     "data": {
      "text/latex": [
       "$\\displaystyle \\left[\\begin{matrix}1.0 & 0.0 & 0.0\\\\0.0 & 0.52532198881773 & -0.850903524534118\\\\0.0 & 0.850903524534118 & 0.52532198881773\\end{matrix}\\right]$"
      ],
      "text/plain": [
       "[[1.0, 0.0, 0.0], [0.0, 0.52532198881773, -0.850903524534118], [0.0, 0.850903524534118, 0.52532198881773]]"
      ]
     },
     "metadata": {},
     "output_type": "display_data"
    },
    {
     "name": "stdout",
     "output_type": "stream",
     "text": [
      "\n",
      "Matrix Y:\n"
     ]
    },
    {
     "data": {
      "text/latex": [
       "$\\displaystyle \\left[\\begin{matrix}0.52532198881773 & 0.0 & 0.850903524534118\\\\0.0 & 1.0 & 0.0\\\\-0.850903524534118 & 0.0 & 0.52532198881773\\end{matrix}\\right]$"
      ],
      "text/plain": [
       "[[0.52532198881773, 0.0, 0.850903524534118], [0.0, 1.0, 0.0], [-0.850903524534118, 0.0, 0.52532198881773]]"
      ]
     },
     "metadata": {},
     "output_type": "display_data"
    },
    {
     "name": "stdout",
     "output_type": "stream",
     "text": [
      "\n",
      "Matrix Z:\n"
     ]
    },
    {
     "data": {
      "text/latex": [
       "$\\displaystyle \\left[\\begin{matrix}0.52532198881773 & -0.850903524534118 & 0.0\\\\0.850903524534118 & 0.52532198881773 & 0.0\\\\0.0 & 0.0 & 1.0\\end{matrix}\\right]$"
      ],
      "text/plain": [
       "[[0.52532198881773, -0.850903524534118, 0.0], [0.850903524534118, 0.52532198881773, 0.0], [0.0, 0.0, 1.0]]"
      ]
     },
     "metadata": {},
     "output_type": "display_data"
    },
    {
     "name": "stdout",
     "output_type": "stream",
     "text": [
      "\n",
      "Input Vector:\n"
     ]
    },
    {
     "data": {
      "text/latex": [
       "$\\displaystyle \\left[\\begin{matrix}1 & 1 & 2\\end{matrix}\\right]$"
      ],
      "text/plain": [
       "[1, 1, 2]"
      ]
     },
     "metadata": {},
     "output_type": "display_data"
    },
    {
     "data": {
      "text/plain": [
       "'Length:'"
      ]
     },
     "metadata": {},
     "output_type": "display_data"
    },
    {
     "data": {
      "text/latex": [
       "$\\displaystyle 2.45$"
      ],
      "text/plain": [
       "2.45000000000000"
      ]
     },
     "metadata": {},
     "output_type": "display_data"
    },
    {
     "name": "stdout",
     "output_type": "stream",
     "text": [
      "\n",
      "Output Rotated Vector (X-Axis):\n"
     ]
    },
    {
     "data": {
      "text/latex": [
       "$\\displaystyle \\left[\\begin{matrix}1.0 & -1.17648506025051 & 1.90154750216958\\end{matrix}\\right]$"
      ],
      "text/plain": [
       "[1.0, -1.17648506025051, 1.90154750216958]"
      ]
     },
     "metadata": {},
     "output_type": "display_data"
    },
    {
     "data": {
      "text/plain": [
       "'Length:'"
      ]
     },
     "metadata": {},
     "output_type": "display_data"
    },
    {
     "data": {
      "text/latex": [
       "$\\displaystyle 2.45$"
      ],
      "text/plain": [
       "2.45000000000000"
      ]
     },
     "metadata": {},
     "output_type": "display_data"
    },
    {
     "name": "stdout",
     "output_type": "stream",
     "text": [
      "\n",
      "Output Rotated Vector (Y-Axis):\n"
     ]
    },
    {
     "data": {
      "text/latex": [
       "$\\displaystyle \\left[\\begin{matrix}2.22712903788597 & 1.0 & 0.199740453101341\\end{matrix}\\right]$"
      ],
      "text/plain": [
       "[2.22712903788597, 1.0, 0.199740453101341]"
      ]
     },
     "metadata": {},
     "output_type": "display_data"
    },
    {
     "data": {
      "text/plain": [
       "'Length:'"
      ]
     },
     "metadata": {},
     "output_type": "display_data"
    },
    {
     "data": {
      "text/latex": [
       "$\\displaystyle 2.45$"
      ],
      "text/plain": [
       "2.45000000000000"
      ]
     },
     "metadata": {},
     "output_type": "display_data"
    },
    {
     "name": "stdout",
     "output_type": "stream",
     "text": [
      "\n",
      "Output Rotated Vector (Z-Axis):\n"
     ]
    },
    {
     "data": {
      "text/latex": [
       "$\\displaystyle \\left[\\begin{matrix}-0.325581535716389 & 1.37622551335185 & 2.0\\end{matrix}\\right]$"
      ],
      "text/plain": [
       "[-0.325581535716389, 1.37622551335185, 2.0]"
      ]
     },
     "metadata": {},
     "output_type": "display_data"
    },
    {
     "data": {
      "text/plain": [
       "'Length:'"
      ]
     },
     "metadata": {},
     "output_type": "display_data"
    },
    {
     "data": {
      "text/latex": [
       "$\\displaystyle 2.45$"
      ],
      "text/plain": [
       "2.45000000000000"
      ]
     },
     "metadata": {},
     "output_type": "display_data"
    }
   ],
   "source": [
    "print(\"Matrix X:\")\n",
    "display(symp(M_ROT_X))\n",
    "print()\n",
    "\n",
    "print(\"Matrix Y:\")\n",
    "display(symp(M_ROT_Y))\n",
    "print()\n",
    "\n",
    "print(\"Matrix Z:\")\n",
    "display(symp(M_ROT_Z))\n",
    "print()\n",
    "\n",
    "print(\"Input Vector:\")\n",
    "display(symp(v_inp_rot))\n",
    "display(\"Length:\", symp(len_v_inp_rot))\n",
    "print()\n",
    "\n",
    "print(\"Output Rotated Vector (X-Axis):\")\n",
    "display(symp(m_v_x_rot))\n",
    "display(\"Length:\", symp(len_m_v_x_rot))\n",
    "print()\n",
    "\n",
    "print(\"Output Rotated Vector (Y-Axis):\")\n",
    "display(symp(m_v_y_rot))\n",
    "display(\"Length:\", symp(len_m_v_y_rot))\n",
    "print()\n",
    "\n",
    "print(\"Output Rotated Vector (Z-Axis):\")\n",
    "display(symp(m_v_z_rot))\n",
    "display(\"Length:\", symp(len_m_v_z_rot))"
   ]
  },
  {
   "cell_type": "code",
   "execution_count": null,
   "metadata": {},
   "outputs": [],
   "source": [
    "# Get max value to properly orient\n",
    "#  axis and origin indicator:\n",
    "ax_lim = max(max(m_v_x_rot), max(m_v_y_rot), max(m_v_z_rot))\n",
    "print(ax_lim)"
   ]
  },
  {
   "cell_type": "markdown",
   "metadata": {},
   "source": [
    "#### **_Plot the Vector and its Rotated Counterparts:_**"
   ]
  },
  {
   "cell_type": "code",
   "execution_count": null,
   "metadata": {},
   "outputs": [],
   "source": [
    "fig = plt.figure(figsize=(7, 7))\n",
    "\n",
    "ax = fig.add_subplot(projection='3d')\n",
    "\n",
    "# Plot the input vector:\n",
    "ax.plot([0, v_inp_rot[0]], [0, v_inp_rot[1]], [0, v_inp_rot[2]],\n",
    "        c='darkorange', lw=3, label=f\"Input Vector, len={len_v_inp_rot}\")\n",
    "\n",
    "# Plot the x-rotated product vector:\n",
    "ax.plot([0, m_v_x_rot[0]], [0, m_v_x_rot[1]], [0, m_v_x_rot[2]],\n",
    "        c='dodgerblue', lw=2, label=f\"X-Rotated Vector, len={len_m_v_x_rot}\")\n",
    "\n",
    "# Plot the y-rotated product vector:\n",
    "ax.plot([0, m_v_y_rot[0]], [0, m_v_y_rot[1]], [0, m_v_y_rot[2]],\n",
    "        c='magenta', lw=2, label=f\"Y-Rotated Vector, len={len_m_v_y_rot}\")\n",
    "\n",
    "# Plot the z-rotated product vector:\n",
    "ax.plot([0, m_v_z_rot[0]], [0, m_v_z_rot[1]], [0, m_v_z_rot[2]],\n",
    "        c='forestgreen', lw=2, label=f\"Z-Rotated Vector, len={len_m_v_z_rot}\")\n",
    "\n",
    "# Indicate origin:\n",
    "ax.plot([0, 0], [0, 0], [-ax_lim, ax_lim], 'k--', alpha=.25)\n",
    "ax.plot([0, 0], [-ax_lim, ax_lim], [0, 0], 'k--', alpha=.25)\n",
    "ax.plot([-ax_lim, ax_lim], [0, 0], [0, 0],  'k--', alpha=.25)\n",
    "\n",
    "plt.title(\"Pure-Rotate\\nMatrix-Vector Multiplication\", size=20)\n",
    "plt.legend()\n",
    "plt.show()"
   ]
  },
  {
   "cell_type": "markdown",
   "metadata": {},
   "source": [
    "<hr style=\"height: 0; box-shadow: 0 0 5px 4px crimson; width: 95%;\">"
   ]
  },
  {
   "cell_type": "markdown",
   "metadata": {},
   "source": [
    "## **_Conclusions:_**"
   ]
  },
  {
   "cell_type": "markdown",
   "metadata": {},
   "source": [
    "**_Tranformation Matrices of three varieties..._**\n",
    "\n",
    "1. Pure Stretch/Scale\n",
    "\n",
    "2. Stretch/Scale & Rotate\n",
    "\n",
    "3. Pure Rotate\n",
    "\n",
    "**_...operate in $\\mathbb{R}^3$ space the same as they do in $\\mathbb{R}^2$ space._**"
   ]
  },
  {
   "cell_type": "markdown",
   "metadata": {},
   "source": [
    "<hr style=\"height: 0; box-shadow: 0 0 5px 4px crimson; width: 95%;\">"
   ]
  },
  {
   "cell_type": "markdown",
   "metadata": {},
   "source": [
    "## **_Future Project Improvements:_**"
   ]
  },
  {
   "cell_type": "markdown",
   "metadata": {},
   "source": [
    "-   For mathematical consistency, format Python vectors as column vectors.\n",
    "\n",
    "-   Add non-visual analysis for $\\mathbb{R}^4$..."
   ]
  },
  {
   "cell_type": "markdown",
   "metadata": {},
   "source": [
    "<hr style=\"height: 0; box-shadow: 0 0 5px 4px crimson; width: 95%;\">"
   ]
  },
  {
   "cell_type": "markdown",
   "metadata": {},
   "source": [
    "<font size=2>\n",
    "\n",
    "_Andrew Blais, Boston, Massachusetts_\n",
    "\n",
    "GitHub: https://github.com/andrewblais\n",
    "\n",
    "Website/Python Web Development Porfolio: https://www.andrewblais.dev/\n",
    "\n",
    "</font>"
   ]
  }
 ],
 "metadata": {
  "kernelspec": {
   "display_name": ".venv",
   "language": "python",
   "name": "python3"
  },
  "language_info": {
   "codemirror_mode": {
    "name": "ipython",
    "version": 3
   },
   "file_extension": ".py",
   "mimetype": "text/x-python",
   "name": "python",
   "nbconvert_exporter": "python",
   "pygments_lexer": "ipython3",
   "version": "3.12.4"
  }
 },
 "nbformat": 4,
 "nbformat_minor": 2
}
