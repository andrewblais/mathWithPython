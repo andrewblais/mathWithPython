{
 "cells": [
  {
   "cell_type": "markdown",
   "metadata": {},
   "source": [
    "## **_LaTeX Examples for Markdown in Jupyter Notebooks:_**"
   ]
  },
  {
   "cell_type": "markdown",
   "metadata": {},
   "source": [
    "<hr style=\"height: 0; box-shadow: 0 0 5px 4px crimson; width: 95%;\">"
   ]
  },
  {
   "cell_type": "markdown",
   "metadata": {},
   "source": [
    "-   [**_wikibooks_**](https://en.wikibooks.org/wiki/LaTeX/Mathematics)\n",
    "\n",
    "-   [**_wikibooks fonts_**](https://en.wikibooks.org/wiki/LaTeX/Fonts#Font_styles)\n",
    "\n",
    "-   [**_ashki_**](https://ashki23.github.io/markdown-latex.html#latex)"
   ]
  },
  {
   "cell_type": "markdown",
   "metadata": {},
   "source": [
    "<hr style=\"height: 0; box-shadow: 0 0 5px 4px crimson; width: 95%;\">"
   ]
  },
  {
   "cell_type": "markdown",
   "metadata": {},
   "source": [
    "### **_Space types:_**\n",
    "\n",
    "-   `\\quad` space equal to the current font size (= 18 mu)\n",
    "\n",
    "-   `\\,` 3/18 of \\quad (= 3 mu)\n",
    "\n",
    "-   `\\:` 4/18 of \\quad (= 4 mu)\n",
    "\n",
    "-   `\\;` 5/18 of \\quad (= 5 mu)\n",
    "\n",
    "-   `\\!` -3/18 of \\quad (= -3 mu)\n",
    "\n",
    "-   `\\` (space after backslash!) equivalent of space in normal text\n",
    "\n",
    "-   `\\qquad` twice of \\quad (= 36 mu)"
   ]
  },
  {
   "cell_type": "markdown",
   "metadata": {},
   "source": [
    "$$\n",
    "\\huge\n",
    "    1 \\! 2 \\, 3 \\: 4 \\; 5 \\ 6 \\quad 7 \\qquad 8\n",
    "$$\n",
    "\n",
    "```LaTeX\n",
    "1 \\! 2 \\, 3 \\: 4 \\; 5 \\ 6 \\quad 7 \\qquad 8\n",
    "```"
   ]
  },
  {
   "cell_type": "markdown",
   "metadata": {},
   "source": [
    "<hr style=\"height: 0; box-shadow: 0 0 5px 4px crimson; width: 95%;\">"
   ]
  },
  {
   "cell_type": "markdown",
   "metadata": {},
   "source": [
    "### **_Sizing:_**"
   ]
  },
  {
   "cell_type": "markdown",
   "metadata": {},
   "source": [
    "-   $\\tiny{tiny}$\n",
    "\n",
    "-   $\\scriptsize{scriptsize}$\n",
    "\n",
    "-   $\\footnotesize{footnotesize}$\n",
    "\n",
    "-   $\\small{small}$\n",
    "\n",
    "-   $\\normalsize{normalsize}$\n",
    "\n",
    "-   $\\large{large}$\n",
    "\n",
    "-   $\\Large{Large}$\n",
    "\n",
    "-   $\\LARGE{LARGE}$\n",
    "\n",
    "-   $\\huge{huge}$\n",
    "\n",
    "-   $\\Huge{Huge}$"
   ]
  },
  {
   "cell_type": "markdown",
   "metadata": {},
   "source": [
    "```latex\n",
    "\\tiny{tiny}\n",
    "\n",
    "\\scriptsize{scriptsize}\n",
    "\n",
    "\\footnotesize{footnotesize}\n",
    "\n",
    "\\small{small}\n",
    "\n",
    "\\normalsize{normalsize}\n",
    "\n",
    "\\large{large}\n",
    "\n",
    "\\Large{Large}\n",
    "\n",
    "\\LARGE{LARGE}\n",
    "\n",
    "\\huge{huge}\n",
    "\n",
    "\\Huge{Huge}\n",
    "```"
   ]
  },
  {
   "cell_type": "markdown",
   "metadata": {},
   "source": [
    "<hr style=\"height: 0; box-shadow: 0 0 5px 4px crimson; width: 95%;\">"
   ]
  },
  {
   "cell_type": "markdown",
   "metadata": {},
   "source": [
    "### **_Limits:_**"
   ]
  },
  {
   "cell_type": "markdown",
   "metadata": {},
   "source": [
    "\\begin{equation*}\n",
    "    \\huge\n",
    "        \\begin{gathered}\n",
    "            \\lim_{x \\to a} f(x)\n",
    "        \\end{gathered}\n",
    "\\end{equation*}"
   ]
  },
  {
   "cell_type": "markdown",
   "metadata": {},
   "source": [
    "```latex\n",
    "\\begin{equation*}\n",
    "    \\huge\n",
    "        \\begin{gathered}\n",
    "            \\lim_{x \\to a} f(x)\n",
    "        \\end{gathered}\n",
    "\\end{equation*}\n",
    "```"
   ]
  },
  {
   "cell_type": "markdown",
   "metadata": {},
   "source": [
    "<hr style=\"height: 0; box-shadow: 0 0 5px 4px crimson; width: 95%;\">"
   ]
  },
  {
   "cell_type": "markdown",
   "metadata": {},
   "source": [
    "### **_Limit inline under:_**"
   ]
  },
  {
   "cell_type": "markdown",
   "metadata": {},
   "source": [
    "$\\lim\\limits_{x \\to y}$"
   ]
  },
  {
   "cell_type": "markdown",
   "metadata": {},
   "source": [
    "```latex\n",
    "\\lim\\limits_{x \\to y}\n",
    "```"
   ]
  },
  {
   "cell_type": "markdown",
   "metadata": {},
   "source": [
    "<hr style=\"height: 0; box-shadow: 0 0 5px 4px crimson; width: 95%;\">"
   ]
  },
  {
   "cell_type": "markdown",
   "metadata": {},
   "source": [
    "### **_Centered:_**"
   ]
  },
  {
   "cell_type": "markdown",
   "metadata": {},
   "source": [
    "\\begin{equation*}\n",
    "    \\Large\n",
    "        \\begin{gathered}\n",
    "            x^4 + y^4 = 1\\\\\n",
    "            \\therefore y^4 = 1 - x^4\\\\\n",
    "            \\therefore y = (1 - x^4)^{1/4}\n",
    "        \\end{gathered}\n",
    "\\end{equation*}"
   ]
  },
  {
   "cell_type": "markdown",
   "metadata": {},
   "source": [
    "```latex\n",
    "\\begin{equation*}\n",
    "    \\Large\n",
    "        \\begin{gathered}\n",
    "            x^4 + y^4 = 1\\\\\n",
    "            \\therefore y^4 = 1 - x^4\\\\\n",
    "            \\therefore y = (1 - x^4)^{1/4}\n",
    "        \\end{gathered}\n",
    "\\end{equation*}\n",
    "```"
   ]
  },
  {
   "cell_type": "markdown",
   "metadata": {},
   "source": [
    "\\begin{equation}\n",
    "    \\LARGE\n",
    "        \\begin{gathered}\n",
    "            \\sqrt{Y} = X \\Rightarrow Y = X^2 \\\\\n",
    "            \\sqrt{4} = 2 \\Rightarrow 4 = 2^2\n",
    "        \\end{gathered}\n",
    "\\end{equation}"
   ]
  },
  {
   "cell_type": "markdown",
   "metadata": {},
   "source": [
    "```latex\n",
    "\\begin{equation}\n",
    "    \\LARGE\n",
    "        \\begin{gathered}\n",
    "            \\sqrt{Y} = X \\Rightarrow Y = X^2 \\\\\n",
    "            \\sqrt{4} = 2 \\Rightarrow 4 = 2^2\n",
    "        \\end{gathered}\n",
    "\\end{equation}\n",
    "```"
   ]
  },
  {
   "cell_type": "markdown",
   "metadata": {},
   "source": [
    "<hr style=\"height: 0; box-shadow: 0 0 5px 4px crimson; width: 95%;\">"
   ]
  },
  {
   "cell_type": "markdown",
   "metadata": {},
   "source": [
    "### **_With set brackets:_**"
   ]
  },
  {
   "cell_type": "markdown",
   "metadata": {},
   "source": [
    "\\begin{equation*}\n",
    "    \\LARGE\n",
    "        \\text{if } k \\in \\mathbb{Z} \\;\n",
    "        \\begin{cases}\n",
    "            line 1\\\\\n",
    "            line 2\\\\\n",
    "        \\end{cases}\n",
    "\\end{equation*}"
   ]
  },
  {
   "cell_type": "markdown",
   "metadata": {},
   "source": [
    "```latex\n",
    "\\begin{equation*}\n",
    "    \\LARGE\n",
    "        \\text{if } k \\in \\mathbb{Z} \\;\n",
    "        \\begin{cases}\n",
    "            line 1\\\\\n",
    "            line 2\\\\\n",
    "        \\end{cases}\n",
    "\\end{equation*}\n",
    "```"
   ]
  },
  {
   "cell_type": "markdown",
   "metadata": {},
   "source": [
    "<hr style=\"height: 0; box-shadow: 0 0 5px 4px crimson; width: 95%;\">"
   ]
  },
  {
   "cell_type": "markdown",
   "metadata": {},
   "source": [
    "#### **_Kind of centered:_**"
   ]
  },
  {
   "cell_type": "markdown",
   "metadata": {},
   "source": [
    "\\begin{equation*}\n",
    "    \\LARGE\n",
    "        \\begin{aligned}\n",
    "            line 1 \\\\\n",
    "            line 2\n",
    "        \\end{aligned}\n",
    "\\end{equation*}"
   ]
  },
  {
   "cell_type": "markdown",
   "metadata": {},
   "source": [
    "```latex\n",
    "\\begin{equation*}\n",
    "    \\LARGE\n",
    "        \\begin{aligned}\n",
    "            line 1 \\\\\n",
    "            line 2\n",
    "        \\end{aligned}\n",
    "\\end{equation*}\n",
    "```"
   ]
  },
  {
   "cell_type": "markdown",
   "metadata": {},
   "source": [
    "<hr style=\"height: 0; box-shadow: 0 0 5px 4px crimson; width: 95%;\">"
   ]
  },
  {
   "cell_type": "markdown",
   "metadata": {},
   "source": [
    "#### **_Inline LaTeX:_**"
   ]
  },
  {
   "cell_type": "markdown",
   "metadata": {},
   "source": [
    "$x$ example inline LaTex: $\\cos(t)^2$."
   ]
  },
  {
   "cell_type": "markdown",
   "metadata": {},
   "source": [
    "```markdown\n",
    "$x$ example inline LaTex: $\\cos(t)^2$.\n",
    "```"
   ]
  },
  {
   "cell_type": "markdown",
   "metadata": {},
   "source": [
    "<hr style=\"height: 0; box-shadow: 0 0 5px 4px crimson; width: 95%;\">"
   ]
  },
  {
   "cell_type": "markdown",
   "metadata": {},
   "source": [
    "### **_Row Vectors:_**"
   ]
  },
  {
   "cell_type": "markdown",
   "metadata": {},
   "source": [
    "\\begin{equation}\n",
    "    \\huge\n",
    "        \\begin{gathered}\n",
    "            \\begin{bmatrix}\n",
    "                1 & 3 & 2 & 5 & 4\n",
    "            \\end{bmatrix}\n",
    "            \\\\\n",
    "            \\begin{bmatrix}\n",
    "                -1 & -14\n",
    "            \\end{bmatrix}\n",
    "        \\end{gathered}\n",
    "\\end{equation}"
   ]
  },
  {
   "cell_type": "markdown",
   "metadata": {},
   "source": [
    "```latex\n",
    "\\begin{equation}\n",
    "    \\huge\n",
    "        \\begin{gathered}\n",
    "            \\begin{bmatrix}\n",
    "                1 & 3 & 2 & 5 & 4\n",
    "            \\end{bmatrix}\n",
    "            \\\\\n",
    "            \\begin{bmatrix}\n",
    "                -1 & -14\n",
    "            \\end{bmatrix}\n",
    "        \\end{gathered}\n",
    "\\end{equation}\n",
    "```"
   ]
  },
  {
   "cell_type": "markdown",
   "metadata": {},
   "source": [
    "<hr style=\"height: 0; box-shadow: 0 0 5px 4px crimson; width: 95%;\">"
   ]
  },
  {
   "cell_type": "markdown",
   "metadata": {},
   "source": [
    "### **_Column Vectors:_**"
   ]
  },
  {
   "cell_type": "markdown",
   "metadata": {},
   "source": [
    "\\begin{equation}\n",
    "    \\huge\n",
    "        \\begin{gathered}\n",
    "            \\begin{bmatrix}\n",
    "                3 \\\\ 4\n",
    "            \\end{bmatrix}\n",
    "            \\quad\n",
    "            \\begin{bmatrix}\n",
    "                1 \\\\ 0 \\\\ \\pi \\\\ 5i \\\\ -2\n",
    "            \\end{bmatrix}\n",
    "        \\end{gathered}\n",
    "\\end{equation}"
   ]
  },
  {
   "cell_type": "markdown",
   "metadata": {},
   "source": [
    "```latex\n",
    "\\begin{equation}\n",
    "    \\huge\n",
    "        \\begin{gathered}\n",
    "            \\begin{bmatrix}\n",
    "                3 \\\\ 4\n",
    "            \\end{bmatrix}\n",
    "            \\quad\n",
    "            \\begin{bmatrix}\n",
    "                1 \\\\ 0 \\\\ \\pi \\\\ 5i \\\\ -2\n",
    "            \\end{bmatrix}\n",
    "        \\end{gathered}\n",
    "\\end{equation}\n",
    "```"
   ]
  },
  {
   "cell_type": "markdown",
   "metadata": {},
   "source": [
    "<hr style=\"height: 0; box-shadow: 0 0 5px 4px crimson; width: 95%;\">"
   ]
  },
  {
   "cell_type": "markdown",
   "metadata": {},
   "source": [
    "### **_Vectors parentheses:_**"
   ]
  },
  {
   "cell_type": "markdown",
   "metadata": {},
   "source": [
    "\\begin{pmatrix}\n",
    "    1 & 3 & 2 & 5 & 4\n",
    "\\end{pmatrix}"
   ]
  },
  {
   "cell_type": "markdown",
   "metadata": {},
   "source": [
    "```latex\n",
    "\\begin{pmatrix}\n",
    "    1 & 3 & 2 & 5 & 4\n",
    "\\end{pmatrix}\n",
    "```"
   ]
  },
  {
   "cell_type": "markdown",
   "metadata": {},
   "source": [
    "<hr style=\"height: 0; box-shadow: 0 0 5px 4px crimson; width: 95%;\">"
   ]
  },
  {
   "cell_type": "markdown",
   "metadata": {},
   "source": [
    "### **_Inline matrix:_**\n",
    "\n",
    "Here's an inline matrix: $\\begin{bmatrix} 1 & 2 \\end{bmatrix}$."
   ]
  },
  {
   "cell_type": "markdown",
   "metadata": {},
   "source": [
    "```markdown\n",
    "Here's an inline matrix: $\\begin{bmatrix} 1 & 2 \\end{bmatrix}$.\n",
    "```"
   ]
  },
  {
   "cell_type": "markdown",
   "metadata": {},
   "source": [
    "<hr style=\"height: 0; box-shadow: 0 0 5px 4px crimson; width: 95%;\">"
   ]
  },
  {
   "cell_type": "markdown",
   "metadata": {},
   "source": [
    "### **_Summation:_**"
   ]
  },
  {
   "cell_type": "markdown",
   "metadata": {},
   "source": [
    "$\\sum_{i=1}^{n}$"
   ]
  },
  {
   "cell_type": "markdown",
   "metadata": {},
   "source": [
    "```latex\n",
    "\\sum_{i=1}^{n}\n",
    "```"
   ]
  },
  {
   "cell_type": "markdown",
   "metadata": {},
   "source": [
    "<hr style=\"height: 0; box-shadow: 0 0 5px 4px crimson; width: 95%;\">"
   ]
  },
  {
   "cell_type": "markdown",
   "metadata": {},
   "source": [
    "### **_Length/abs value:_**\n",
    "\n",
    "$$\n",
    "\\lvert a \\rvert\n",
    "\\\\\n",
    "\\left\\Vert a \\right\\Vert\n",
    "$$"
   ]
  },
  {
   "cell_type": "markdown",
   "metadata": {},
   "source": [
    "```latex\n",
    "\\lvert a \\rvert\n",
    "\\\\\n",
    "\\left\\Vert a \\right\\Vert\n",
    "```"
   ]
  },
  {
   "cell_type": "markdown",
   "metadata": {},
   "source": [
    "<hr style=\"height: 0; box-shadow: 0 0 5px 4px crimson; width: 95%;\">"
   ]
  },
  {
   "cell_type": "markdown",
   "metadata": {},
   "source": [
    "#### **Stretchable curly braces:**"
   ]
  },
  {
   "cell_type": "markdown",
   "metadata": {},
   "source": [
    "$$\n",
    "\\LARGE\n",
    "    \\left\\{\n",
    "        \\begin{bmatrix}\n",
    "            0 \\\\ 0 \\\\ 0 \\\\ 2 \\\\ 0\n",
    "        \\end{bmatrix}\n",
    "    \\right\\}\n",
    "$$"
   ]
  },
  {
   "cell_type": "markdown",
   "metadata": {},
   "source": [
    "```latex\n",
    "\\LARGE\n",
    "    \\left\\{\n",
    "        \\begin{bmatrix}\n",
    "            0 \\\\ 0 \\\\ 0 \\\\ 2 \\\\ 0\n",
    "        \\end{bmatrix}\n",
    "    \\right\\}\n",
    "```"
   ]
  },
  {
   "cell_type": "markdown",
   "metadata": {},
   "source": [
    "<hr style=\"height: 0; box-shadow: 0 0 5px 4px crimson; width: 95%;\">"
   ]
  },
  {
   "cell_type": "markdown",
   "metadata": {},
   "source": [
    "#### **Concatenate/Augment Matrices (Square Cup):**"
   ]
  },
  {
   "cell_type": "markdown",
   "metadata": {},
   "source": [
    "$$\n",
    "\\LARGE\n",
    "    \\sqcup\n",
    "    \\\\\n",
    "    \\bigsqcup\n",
    "$$"
   ]
  },
  {
   "cell_type": "markdown",
   "metadata": {},
   "source": [
    "```latex\n",
    "\\LARGE\n",
    "    \\sqcup\n",
    "    \\\\\n",
    "    \\bigsqcup\n",
    "```"
   ]
  },
  {
   "cell_type": "markdown",
   "metadata": {},
   "source": [
    "<hr style=\"height: 0; box-shadow: 0 0 5px 4px crimson; width: 95%;\">"
   ]
  },
  {
   "cell_type": "markdown",
   "metadata": {},
   "source": [
    "#### **Angle Brackets:**"
   ]
  },
  {
   "cell_type": "markdown",
   "metadata": {},
   "source": [
    "$$\n",
    "\\huge\n",
    "    \\langle \n",
    "        \\textbf{Av, w}\n",
    "    \\rangle\n",
    "$$"
   ]
  },
  {
   "cell_type": "markdown",
   "metadata": {},
   "source": [
    "```latex\n",
    "\\huge\n",
    "    \\langle \n",
    "        \\textbf{Av, w}\n",
    "    \\rangle\n",
    "```"
   ]
  },
  {
   "cell_type": "markdown",
   "metadata": {},
   "source": [
    "<hr style=\"height: 0; box-shadow: 0 0 5px 4px crimson; width: 95%;\">"
   ]
  },
  {
   "cell_type": "markdown",
   "metadata": {},
   "source": [
    "### **_Font Stuff:_**"
   ]
  },
  {
   "cell_type": "markdown",
   "metadata": {},
   "source": [
    "$$\n",
    "\\LARGE\n",
    "    \\begin{gathered}\n",
    "        \\textit{italic text}\n",
    "        \\\\\n",
    "        \\textbf{bold text}\n",
    "        \\\\\n",
    "        \\textsf{sans serif}\n",
    "        \\\\\n",
    "        \\textrm{serif}\n",
    "        \\\\\n",
    "        \\mathbb{R}^3\n",
    "    \\end{gathered}\n",
    "$$"
   ]
  },
  {
   "cell_type": "markdown",
   "metadata": {},
   "source": [
    "```latex\n",
    "\\LARGE\n",
    "    \\begin{gathered}\n",
    "        \\textit{italic text}\n",
    "        \\\\\n",
    "        \\textbf{bold text}\n",
    "        \\\\\n",
    "        \\textsf{sans serif}\n",
    "        \\\\\n",
    "        \\textrm{serif}\n",
    "        \\\\\n",
    "        \\mathbb{R}^3\n",
    "    \\end{gathered}\n",
    "```"
   ]
  },
  {
   "cell_type": "markdown",
   "metadata": {},
   "source": [
    "<hr style=\"height: 0; box-shadow: 0 0 5px 4px crimson; width: 95%;\">"
   ]
  },
  {
   "cell_type": "markdown",
   "metadata": {},
   "source": [
    "#### **Cross-Out:**"
   ]
  },
  {
   "cell_type": "markdown",
   "metadata": {},
   "source": [
    "$$\n",
    "\\huge\n",
    "    \\not{this}\n",
    "    \\\\\n",
    "    \\cancel{that}\n",
    "$$"
   ]
  },
  {
   "cell_type": "markdown",
   "metadata": {},
   "source": [
    "```latex\n",
    "\\huge\n",
    "    \\not{this}\n",
    "    \\\\\n",
    "    \\cancel{that}\n",
    "```"
   ]
  },
  {
   "cell_type": "markdown",
   "metadata": {},
   "source": [
    "<hr style=\"height: 0; box-shadow: 0 0 5px 4px crimson; width: 95%;\">"
   ]
  },
  {
   "cell_type": "markdown",
   "metadata": {},
   "source": [
    "#### **Text Color:**"
   ]
  },
  {
   "cell_type": "markdown",
   "metadata": {},
   "source": [
    "$$\n",
    "\\huge\n",
    "    \\textcolor{red}{\\textsf{Hello }} \\textcolor{blue}{\\textsf{World!}}\n",
    "$$"
   ]
  },
  {
   "cell_type": "markdown",
   "metadata": {},
   "source": [
    "```latex\n",
    "\\huge\n",
    "    \\textcolor{red}{\\textsf{Hello }} \\textcolor{blue}{\\textsf{World!}}\n",
    "```"
   ]
  },
  {
   "cell_type": "markdown",
   "metadata": {},
   "source": [
    "<hr style=\"height: 0; box-shadow: 0 0 5px 4px crimson; width: 95%;\">"
   ]
  },
  {
   "cell_type": "markdown",
   "metadata": {},
   "source": [
    "#### **Ceiling Brackets:**"
   ]
  },
  {
   "cell_type": "markdown",
   "metadata": {},
   "source": [
    "$$\n",
    "\\huge\n",
    "    k \\; = \\;\n",
    "    \\left\\lceil\n",
    "        \\frac{1}{x + 1}\n",
    "    \\right\\rceil\n",
    "$$"
   ]
  },
  {
   "cell_type": "markdown",
   "metadata": {},
   "source": [
    "```latex\n",
    "\\huge\n",
    "    k \\; = \\;\n",
    "    \\left\\lceil\n",
    "        \\frac{1}{x + 1}\n",
    "    \\right\\rceil\n",
    "```"
   ]
  },
  {
   "cell_type": "markdown",
   "metadata": {},
   "source": [
    "<hr style=\"height: 0; box-shadow: 0 0 5px 4px crimson; width: 95%;\">"
   ]
  },
  {
   "cell_type": "markdown",
   "metadata": {},
   "source": [
    "#### **Sub-Labeling:**"
   ]
  },
  {
   "cell_type": "markdown",
   "metadata": {},
   "source": [
    "$$\n",
    "\\LARGE\n",
    "    \\begin{bmatrix}\n",
    "        -3 \\\\ 1 \\\\ 5\n",
    "    \\end{bmatrix}\n",
    "\n",
    "    \\; = \\;\n",
    "\n",
    "    \\begin{bmatrix}\n",
    "        -1\n",
    "        \\begin{bmatrix}\n",
    "             3 \\\\\n",
    "             5 \\\\\n",
    "             1\n",
    "        \\end{bmatrix}\n",
    "        \\: \\:\n",
    "        3\n",
    "        \\begin{bmatrix}\n",
    "             0 \\\\\n",
    "             2 \\\\\n",
    "             2\n",
    "        \\end{bmatrix}\n",
    "    \\end{bmatrix}\n",
    "\n",
    "    \\; \\Rightarrow \\;\n",
    "\n",
    "    \\underset{\\begin{array}{c} \\scriptsize{3 \\times 2} \\end{array}}\n",
    "    {\\begin{bmatrix}\n",
    "        3 & 0 \\\\\n",
    "        5 & 2 \\\\\n",
    "        1 & 2\n",
    "    \\end{bmatrix}}\n",
    "\n",
    "    \\underset{\\begin{array}{c} \\scriptsize{2 \\times 1} \\end{array}}\n",
    "    {\\begin{bmatrix}\n",
    "        -1 \\\\\n",
    "         3\n",
    "    \\end{bmatrix}}\n",
    "\n",
    "    \\; = \\;\n",
    "\n",
    "    \\underset{\\begin{array}{c} \\scriptsize{3 \\times 1} \\end{array}}\n",
    "    {\\begin{bmatrix}\n",
    "        3 \\\\\n",
    "        1 \\\\\n",
    "        5\n",
    "    \\end{bmatrix}}\n",
    "$$    "
   ]
  },
  {
   "cell_type": "markdown",
   "metadata": {},
   "source": [
    "```latex\n",
    "\\LARGE\n",
    "    \\begin{bmatrix}\n",
    "        -3 \\\\ 1 \\\\ 5\n",
    "    \\end{bmatrix}\n",
    "\n",
    "    \\; = \\;\n",
    "\n",
    "    \\begin{bmatrix}\n",
    "        -1\n",
    "        \\begin{bmatrix}\n",
    "             3 \\\\\n",
    "             5 \\\\\n",
    "             1\n",
    "        \\end{bmatrix}\n",
    "        \\: \\:\n",
    "        3\n",
    "        \\begin{bmatrix}\n",
    "             0 \\\\\n",
    "             2 \\\\\n",
    "             2\n",
    "        \\end{bmatrix}\n",
    "    \\end{bmatrix}\n",
    "\n",
    "    \\; \\Rightarrow \\;\n",
    "\n",
    "    \\underset{\\begin{array}{c} \\scriptsize{3 \\times 2} \\end{array}}\n",
    "    {\\begin{bmatrix}\n",
    "        3 & 0 \\\\\n",
    "        5 & 2 \\\\\n",
    "        1 & 2\n",
    "    \\end{bmatrix}}\n",
    "\n",
    "    \\underset{\\begin{array}{c} \\scriptsize{2 \\times 1} \\end{array}}\n",
    "    {\\begin{bmatrix}\n",
    "        -1 \\\\\n",
    "         3\n",
    "    \\end{bmatrix}}\n",
    "\n",
    "    \\; = \\;\n",
    "\n",
    "    \\underset{\\begin{array}{c} \\scriptsize{3 \\times 1} \\end{array}}\n",
    "    {\\begin{bmatrix}\n",
    "        3 \\\\\n",
    "        1 \\\\\n",
    "        5\n",
    "    \\end{bmatrix}}\n",
    "```"
   ]
  },
  {
   "cell_type": "markdown",
   "metadata": {},
   "source": [
    "<hr style=\"height: 0; box-shadow: 0 0 5px 4px crimson; width: 95%;\">"
   ]
  },
  {
   "cell_type": "markdown",
   "metadata": {},
   "source": [
    "#### **Super-Labeling:**"
   ]
  },
  {
   "cell_type": "markdown",
   "metadata": {},
   "source": [
    "$$\n",
    "\\Large\n",
    "    \\overset{\\begin{array}{c} \\textsf{Column Space} \\end{array}}\n",
    "    {\n",
    "        \\begin{bmatrix}\n",
    "            3 & 0 \\\\\n",
    "            5 & 2 \\\\\n",
    "            1 & 2\n",
    "        \\end{bmatrix}\n",
    "        \\begin{bmatrix}\n",
    "            -1 \\\\\n",
    "            3\n",
    "        \\end{bmatrix}\n",
    "        \\; = \\;\n",
    "        \\begin{bmatrix}\n",
    "            -3 \\\\\n",
    "             1 \\\\\n",
    "             5\n",
    "        \\end{bmatrix}\n",
    "    }\n",
    "\n",
    "    \\quad \\quad\n",
    "    \n",
    "    \\overset{\\begin{array}{c} \\textsf{Row Space} \\end{array}}\n",
    "    {\n",
    "        \\begin{bmatrix}\n",
    "            -1 & 0 & 3\n",
    "        \\end{bmatrix}\n",
    "        \\begin{bmatrix}\n",
    "            3 & 0 \\\\\n",
    "            5 & 2 \\\\\n",
    "            1 & 2\n",
    "        \\end{bmatrix}\n",
    "        \\; = \\;\n",
    "        \\begin{bmatrix}\n",
    "            -0 & 6\n",
    "        \\end{bmatrix}\n",
    "    }\n",
    "$$    "
   ]
  },
  {
   "cell_type": "markdown",
   "metadata": {},
   "source": [
    "```LaTeX\n",
    "\\Large\n",
    "    \\overset{\\begin{array}{c} \\textsf{Column Space} \\end{array}}\n",
    "    {\n",
    "        \\begin{bmatrix}\n",
    "            3 & 0 \\\\\n",
    "            5 & 2 \\\\\n",
    "            1 & 2\n",
    "        \\end{bmatrix}\n",
    "        \\begin{bmatrix}\n",
    "            -1 \\\\\n",
    "            3\n",
    "        \\end{bmatrix}\n",
    "        \\; = \\;\n",
    "        \\begin{bmatrix}\n",
    "            -3 \\\\\n",
    "             1 \\\\\n",
    "             5\n",
    "        \\end{bmatrix}\n",
    "    }\n",
    "\n",
    "    \\quad \\quad\n",
    "    \n",
    "    \\overset{\\begin{array}{c} \\textsf{Row Space} \\end{array}}\n",
    "    {\n",
    "        \\begin{bmatrix}\n",
    "            -1 & 0 & 3\n",
    "        \\end{bmatrix}\n",
    "        \\begin{bmatrix}\n",
    "            3 & 0 \\\\\n",
    "            5 & 2 \\\\\n",
    "            1 & 2\n",
    "        \\end{bmatrix}\n",
    "        \\; = \\;\n",
    "        \\begin{bmatrix}\n",
    "            -0 & 6\n",
    "        \\end{bmatrix}\n",
    "    }\n",
    "```"
   ]
  },
  {
   "cell_type": "markdown",
   "metadata": {},
   "source": [
    "<hr style=\"height: 0; box-shadow: 0 0 5px 4px crimson; width: 95%;\">"
   ]
  },
  {
   "cell_type": "markdown",
   "metadata": {},
   "source": [
    "```latex\n",
    "% LaTeX syntax\n",
    "```"
   ]
  }
 ],
 "metadata": {
  "language_info": {
   "name": "python"
  }
 },
 "nbformat": 4,
 "nbformat_minor": 2
}
