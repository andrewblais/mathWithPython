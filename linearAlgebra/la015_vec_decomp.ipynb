{
 "cells": [
  {
   "cell_type": "markdown",
   "metadata": {},
   "source": [
    "# **_Decomposing a Vector Relative to Some Other Reference Vector_**"
   ]
  },
  {
   "cell_type": "markdown",
   "metadata": {},
   "source": [
    "<hr style=\"height: 0; box-shadow: 0 0 5px 4px crimson; width: 95%;\">"
   ]
  },
  {
   "cell_type": "markdown",
   "metadata": {},
   "source": [
    "This notebook demonstrates concepts from lessons/challenges I studied in Mike X. Cohen's Linear Algebra course on Udemy.\n",
    "\n",
    "This is basically my homework which serves as a step-by-step walkthrough/review and a quick-reference."
   ]
  },
  {
   "cell_type": "markdown",
   "metadata": {},
   "source": [
    "Please visit Dr. Cohen's course here, it's fantastic and has helped keep me on-track toward my goal of contributing to the AI Safety conversation:\n",
    "\n",
    "-   Udemy course: https://www.udemy.com/course/linear-algebra-theory-and-implementation\n",
    "\n",
    "-   Professor Cohen's website: https://www.mikexcohen.com/"
   ]
  },
  {
   "cell_type": "markdown",
   "metadata": {},
   "source": [
    "<hr style=\"height: 0; box-shadow: 0 0 5px 4px crimson; width: 90%;\">"
   ]
  },
  {
   "cell_type": "markdown",
   "metadata": {},
   "source": [
    "## **_Goal:_**"
   ]
  },
  {
   "cell_type": "markdown",
   "metadata": {},
   "source": [
    "Decompose a vector in $\\mathbb{R}^2$ into orthogonal and parallel components relative to some other reference vector.\n",
    "\n",
    "Describe the process Algebraically and Geometrically."
   ]
  },
  {
   "cell_type": "markdown",
   "metadata": {},
   "source": [
    "<hr style=\"height: 0; box-shadow: 0 0 5px 4px crimson; width: 90%;\">"
   ]
  },
  {
   "cell_type": "markdown",
   "metadata": {},
   "source": [
    "## **_Pre-Analysis:_**"
   ]
  },
  {
   "cell_type": "markdown",
   "metadata": {},
   "source": [
    "We begin with two vectors in $\\mathbb{R}^2$:\n",
    "\n",
    "- $\\vec{v}_1$ — the **target vector** to decompose.\n",
    "\n",
    "- $\\vec{v}_2$ — the **reference vector** for the decomposition.\n",
    "\n",
    "Our goal is to split $\\vec{v}_1$ into two components:\n",
    "\n",
    "- One **parallel** to $\\vec{v}_2$.\n",
    "\n",
    "- One **orthogonal** (perpendicular) to $\\vec{v}_2$.\n",
    "\n",
    "These two components will sum to recreate $\\vec{v}_1$:"
   ]
  },
  {
   "cell_type": "markdown",
   "metadata": {},
   "source": [
    "$$\n",
    "\\Large\n",
    "    \\vec{v}_1 = \\vec{v}_{1 \\parallel} + \\vec{v}_{1 \\perp}\n",
    "$$"
   ]
  },
  {
   "cell_type": "markdown",
   "metadata": {},
   "source": [
    "To find the **parallel component**, $\\vec{v}_{1 \\parallel}$, we:\n",
    "\n",
    "1. Project $\\vec{v}_1$ onto $\\vec{v}_2$ — in other words, find the point on the line defined by $\\vec{v}_2$ that is **closest** to the endpoint of $\\vec{v}_1$.\n",
    "\n",
    "2. This is equivalent to scaling $\\vec{v}_2$ by a factor that captures how much of $\\vec{v}_1$ \"points in the direction of\" $\\vec{v}_2$.\n",
    "\n",
    "$$\n",
    "\\Large\n",
    "    \\vec{v}_{1 \\parallel} = \\frac{\\vec{v}_1 \\cdot \\vec{v}_2}{\\vec{v}_2 \\cdot \\vec{v}_2} \\cdot \\vec{v}_2\n",
    "$$"
   ]
  },
  {
   "cell_type": "markdown",
   "metadata": {},
   "source": [
    "The **orthogonal component** is then what's “left over” after removing the parallel part from $\\vec{v}_1$:\n",
    "\n",
    "$$\n",
    "\\Large\n",
    "    \\vec{v}_{1 \\perp} = \\vec{v}_1 - \\vec{v}_{1 \\parallel}\n",
    "$$"
   ]
  },
  {
   "cell_type": "markdown",
   "metadata": {},
   "source": [
    "By construction, the two components are **orthogonal**:"
   ]
  },
  {
   "cell_type": "markdown",
   "metadata": {},
   "source": [
    "$$\n",
    "\\Large\n",
    "    \\vec{v}_{1 \\parallel} \\cdot \\vec{v}_{1 \\perp} = 0\n",
    "$$\n"
   ]
  },
  {
   "cell_type": "markdown",
   "metadata": {},
   "source": [
    "<hr style=\"height: 0; box-shadow: 0 0 5px 4px crimson; width: 90%;\">"
   ]
  },
  {
   "cell_type": "markdown",
   "metadata": {},
   "source": [
    "## **_Testing the Equations with Two Example Vectors:_**"
   ]
  },
  {
   "cell_type": "markdown",
   "metadata": {},
   "source": [
    "Equations for the parallel and orthogonal components:\n",
    "\n",
    "$$\n",
    "\\huge\n",
    "    \\boxed{\n",
    "        \\textcolor{orangered}{\\vec{v}_{1 \\parallel} = \\frac{\\vec{v}_1 \\cdot \\vec{v}_2}{\\vec{v}_{2} \\cdot \\vec{v}_2} \\cdot \\vec{v}_2}\n",
    "        \\qquad\n",
    "        \\textcolor{dodgerblue}{\\vec{v}_{1 \\perp} = \\vec{v}_1 - \\vec{v}_{1 \\parallel}}\n",
    "    }\n",
    "$$"
   ]
  },
  {
   "cell_type": "markdown",
   "metadata": {},
   "source": [
    "$\\vec{v}_1$ is the example vector to decompose, $\\vec{v}_2$ the reference vector:\n",
    "\n",
    "$$\n",
    "\\LARGE\n",
    "    \\vec{v}_1 =\\begin{bmatrix} 3 \\\\ 5 \\end{bmatrix}\n",
    "    \\;, \\quad\n",
    "    \\vec{v}_2 = \\begin{bmatrix} 7 \\\\ 4 \\end{bmatrix}\n",
    "$$"
   ]
  },
  {
   "cell_type": "markdown",
   "metadata": {},
   "source": [
    "<hr style=\"height: 0; box-shadow: 0 0 5px 4px dodgerblue; width: 80%;\">"
   ]
  },
  {
   "cell_type": "markdown",
   "metadata": {},
   "source": [
    "### **_1. LaTeX Test:_**"
   ]
  },
  {
   "cell_type": "markdown",
   "metadata": {},
   "source": [
    "Test the equation with these example vectors:\n",
    "\n",
    "$$\n",
    "\\large\n",
    "    \\begin{gathered}\n",
    "\n",
    "        \\vec{v}_{1 \\parallel} = \\frac{\\vec{v}_1 \\cdot \\vec{v}_2}{\\vec{v}_{2} \\cdot \\vec{v}_2} \\cdot \\vec{v}_2\n",
    "\n",
    "        \\\\ \\\\\n",
    "\n",
    "        \\vec{v}_{1 \\perp} = \\vec{v}_1 - \\vec{v}_{1 \\parallel}\n",
    "\n",
    "        \\\\ \\\\\n",
    "        \\Downarrow\n",
    "        \\\\ \\\\\n",
    "\n",
    "        \\vec{v}_{1 \\parallel}\n",
    "        =\n",
    "        \\frac{\n",
    "                \\begin{bmatrix} 3 \\\\ 5 \\end{bmatrix} \\cdot \\begin{bmatrix} 7 \\\\ 4 \\end{bmatrix}\n",
    "            }{\n",
    "                \\begin{bmatrix} 7 \\\\ 4 \\end{bmatrix} \\cdot \\begin{bmatrix} 7 \\\\ 4 \\end{bmatrix}\n",
    "            }\n",
    "        \\;\n",
    "        \\begin{bmatrix} 7 \\\\ 4 \\end{bmatrix}\n",
    "\n",
    "        \\\\ \\\\\n",
    "\n",
    "        \\vec{v}_{1 \\perp} = \\vec{v}_1 - \\vec{v}_{1 \\parallel}\n",
    "\n",
    "        \\\\ \\\\\n",
    "        \\Downarrow\n",
    "        \\\\ \\\\\n",
    "\n",
    "        \\vec{v}_{1 \\parallel}\n",
    "        =\n",
    "        \\frac{3 \\times 7 + 5 \\times 4}{7 \\times 7 + 4 \\times 4}\n",
    "        \\;\n",
    "        \\begin{bmatrix} 7 \\\\ 4 \\end{bmatrix}\n",
    "\n",
    "        \\\\ \\\\\n",
    "\n",
    "        \\vec{v}_{1 \\perp} = \\vec{v}_1 - \\vec{v}_{1 \\parallel}\n",
    "\n",
    "        \\\\ \\\\\n",
    "        \\Downarrow\n",
    "        \\\\ \\\\\n",
    "\n",
    "        \\vec{v}_{1 \\parallel}\n",
    "        =\n",
    "        \\frac{21 + 20}{49 + 16}\n",
    "        \\;\n",
    "        \\begin{bmatrix} 7 \\\\ 4 \\end{bmatrix}\n",
    "\n",
    "        \\\\ \\\\\n",
    "\n",
    "        \\vec{v}_{1 \\perp} = \\vec{v}_1 - \\vec{v}_{1 \\parallel}\n",
    "\n",
    "        \\\\ \\\\\n",
    "        \\Downarrow\n",
    "        \\\\ \\\\\n",
    "\n",
    "        \\vec{v}_{1 \\parallel}\n",
    "        =\n",
    "        \\frac{41}{65}\n",
    "        \\;\n",
    "        \\begin{bmatrix} 7 \\\\ 4 \\end{bmatrix}\n",
    "\n",
    "        \\\\ \\\\\n",
    "\n",
    "        \\vec{v}_{1 \\perp} = \\vec{v}_1 - \\vec{v}_{1 \\parallel}\n",
    "\n",
    "        \\\\ \\\\\n",
    "        \\Downarrow\n",
    "        \\\\ \\\\\n",
    "\n",
    "        \\vec{v}_{1 \\parallel}\n",
    "        =\n",
    "        \\begin{bmatrix} 7 \\times \\frac{41}{65} \\\\ \\\\ 4 \\times \\frac{41}{65} \\end{bmatrix}\n",
    "\n",
    "        \\\\ \\\\\n",
    "\n",
    "        \\vec{v}_{1 \\perp} = \\vec{v}_1 - \\vec{v}_{1 \\parallel}\n",
    "\n",
    "        \\\\ \\\\\n",
    "        \\Downarrow\n",
    "        \\\\ \\\\\n",
    "\n",
    "        \\vec{v}_{1 \\parallel} = \\begin{bmatrix} \\frac{287}{65} \\\\ \\\\ \\frac{164}{65} \\end{bmatrix}\n",
    "\n",
    "        \\\\ \\\\\n",
    "\n",
    "        \\vec{v}_{1 \\perp} = \\vec{v}_1 - \\vec{v}_{1 \\parallel}\n",
    "\n",
    "        \\\\ \\\\\n",
    "        \\Downarrow\n",
    "        \\\\ \\\\\n",
    "\n",
    "        \\vec{v}_{1 \\parallel} = \\begin{bmatrix} \\frac{287}{65} \\\\ \\\\ \\frac{164}{65} \\end{bmatrix}\n",
    "\n",
    "        \\\\ \\\\\n",
    "\n",
    "        \\vec{v}_{1 \\perp} = \\begin{bmatrix} 3 \\\\ 5 \\end{bmatrix}\n",
    "        -\n",
    "        \\begin{bmatrix} \\frac{287}{65} \\\\ \\\\ \\frac{164}{65} \\end{bmatrix}\n",
    "\n",
    "        \\\\ \\\\\n",
    "        \\Downarrow\n",
    "        \\\\ \\\\\n",
    "\n",
    "        \\vec{v}_{1 \\parallel} = \\begin{bmatrix} \\frac{287}{65} \\\\ \\\\ \\frac{164}{65} \\end{bmatrix}\n",
    "\n",
    "        \\\\ \\\\\n",
    "\n",
    "        \\vec{v}_{1 \\perp} = \\begin{bmatrix} \\frac{195}{65} \\\\ \\\\ \\frac{325}{65} \\end{bmatrix}\n",
    "        -\n",
    "        \\begin{bmatrix} \\frac{287}{65} \\\\ \\\\ \\frac{164}{65} \\end{bmatrix}\n",
    "\n",
    "        \\\\ \\\\\n",
    "        \\Downarrow\n",
    "        \\\\ \\\\\n",
    "\n",
    "        \\vec{v}_{1 \\parallel} = \\begin{bmatrix} \\frac{287}{65} \\\\ \\\\ \\frac{164}{65} \\end{bmatrix}\n",
    "\n",
    "        \\\\ \\\\\n",
    "\n",
    "        \\vec{v}_{1 \\perp} = \\begin{bmatrix} \\frac{-92}{65} \\\\ \\\\ \\frac{161}{65} \\end{bmatrix}\n",
    "\n",
    "        \\\\ \\\\\n",
    "        \\Downarrow\n",
    "        \\\\ \\\\\n",
    "\n",
    "        \\vec{v}_{1 \\parallel} = \\frac{1}{65} \\begin{bmatrix} 287 \\\\ \\\\ 164 \\end{bmatrix}\n",
    "\n",
    "        \\\\ \\\\\n",
    "\n",
    "        \\vec{v}_{1 \\perp} = \\frac{1}{65} \\begin{bmatrix} -92 \\\\ \\\\ 161 \\end{bmatrix}\n",
    "\n",
    "    \\end{gathered}\n",
    "$$"
   ]
  },
  {
   "cell_type": "markdown",
   "metadata": {},
   "source": [
    "Resulting $\\vec{v}_1$ components, parallel and orthogonal to $\\vec{v}_2$:\n",
    "\n",
    "$$\n",
    "\\huge\n",
    "    \\boxed{\n",
    "        \\textcolor{orangered}{\n",
    "            \\vec{v}_{1 \\parallel} = \\frac{1}{65} \\begin{bmatrix} 287 \\\\ \\\\ 164 \\end{bmatrix}\n",
    "            }\n",
    "        \\qquad\n",
    "        \\textcolor{dodgerblue}{\n",
    "            \\vec{v}_{1 \\perp} = \\frac{1}{65} \\begin{bmatrix} -92 \\\\ \\\\ 161 \\end{bmatrix}\n",
    "            }\n",
    "    }\n",
    "$$"
   ]
  },
  {
   "cell_type": "markdown",
   "metadata": {},
   "source": [
    "<hr style=\"height: 0; box-shadow: 0 0 5px 4px dodgerblue; width: 80%;\">"
   ]
  },
  {
   "cell_type": "markdown",
   "metadata": {},
   "source": [
    "### **_2. Python Test:_**"
   ]
  },
  {
   "cell_type": "markdown",
   "metadata": {},
   "source": [
    "Translating from Math notation to Python..."
   ]
  },
  {
   "cell_type": "markdown",
   "metadata": {},
   "source": [
    "$\n",
    "\\LARGE\n",
    "    \\vec{v}_\\parallel = \\frac{\\vec{v}_1 \\cdot \\vec{v}_2}{\\vec{v}_2 \\cdot \\vec{v}_2} \\cdot \\vec{v}_2\n",
    "    \\;, \\quad\n",
    "    \\vec{v}_\\perp = \\vec{v}_1 - \\vec{v}_\\parallel\n",
    "$"
   ]
  },
  {
   "cell_type": "markdown",
   "metadata": {},
   "source": [
    "$\n",
    "\\LARGE\n",
    "    \\Downarrow\n",
    "$"
   ]
  },
  {
   "cell_type": "markdown",
   "metadata": {},
   "source": [
    "```\n",
    "<!-- Pseudocode: -->\n",
    "v1_parallel = ((v1.T ⋅ v2)/(v2.T ⋅ v2)) * v2\n",
    "v1_perp = v1 - v1_parallel\n",
    "```"
   ]
  },
  {
   "cell_type": "markdown",
   "metadata": {},
   "source": [
    "$\n",
    "\\LARGE\n",
    "    \\Downarrow\n",
    "$"
   ]
  },
  {
   "cell_type": "markdown",
   "metadata": {},
   "source": [
    "```python\n",
    "# Python:\n",
    "v1_parallel = (np.dot(v1.T ⋅ v2)/ np.dot(v2.T ⋅ v2)) * v2\n",
    "v1_perp = v1 - v1_parallel\n",
    "```"
   ]
  },
  {
   "cell_type": "markdown",
   "metadata": {},
   "source": [
    "$\n",
    "\\LARGE\n",
    "    \\Downarrow\n",
    "$"
   ]
  },
  {
   "cell_type": "code",
   "execution_count": null,
   "metadata": {},
   "outputs": [
    {
     "name": "stdout",
     "output_type": "stream",
     "text": [
      "Dot product approximately equal to 0: True\n",
      "\n",
      "v1_parallel (via Python) = [4.41538462 2.52307692]\n",
      "Manual calculation = [4.41538462 2.52307692]\n",
      "\n",
      "v1_perp (via Python)= [-1.41538462  2.47692308]\n",
      "Manual calculation = [-1.41538462  2.47692308]\n"
     ]
    }
   ],
   "source": [
    "# Implement the equation with code:\n",
    "import numpy as np\n",
    "\n",
    "v1 = np.array([3, 5])\n",
    "v2 = np.array([7, 4])\n",
    "\n",
    "# Parallel component (projection of v1 onto v2):\n",
    "v1_parallel = (np.dot(v1, v2) / np.dot(v2, v2)) * v2\n",
    "\n",
    "# Orthogonal component (the rest the length of v1):\n",
    "v1_perp = v1 - v1_parallel\n",
    "\n",
    "# Verify orthogonality: dot product ≈ 0:\n",
    "print(\"Dot product approximately equal to 0:\", np.round(np.dot(v1_parallel, v1_perp), 13) == 0)\n",
    "print()\n",
    "\n",
    "# Compare against manual calculation from LaTeX section:\n",
    "v1_parallel_check = np.array([287, 164]) / 65\n",
    "v1_perp_check = np.array([-92, 161]) / 65\n",
    "\n",
    "print(\"v1_parallel (via Python) =\", v1_parallel)\n",
    "print(\"Manual calculation =\", v1_parallel_check)\n",
    "\n",
    "print()\n",
    "\n",
    "print(\"v1_perp (via Python)=\", v1_perp)\n",
    "print(\"Manual calculation =\", v1_perp_check)"
   ]
  },
  {
   "cell_type": "markdown",
   "metadata": {},
   "source": [
    "Manual and programmatic solution match, all systems go.\n",
    "\n",
    "On to the lengthier code section with visualization..."
   ]
  },
  {
   "cell_type": "markdown",
   "metadata": {},
   "source": [
    "<hr style=\"height: 0; box-shadow: 0 0 5px 4px crimson; width: 90%;\">"
   ]
  },
  {
   "cell_type": "markdown",
   "metadata": {},
   "source": [
    "## **_Implement in Code:_**"
   ]
  },
  {
   "cell_type": "code",
   "execution_count": 93,
   "metadata": {},
   "outputs": [
    {
     "data": {
      "image/png": "[encoded data removed]",
      "text/plain": [
       "<Figure size 1400x900 with 2 Axes>"
      ]
     },
     "metadata": {},
     "output_type": "display_data"
    }
   ],
   "source": [
    "import matplotlib.pyplot as plt\n",
    "import numpy as np\n",
    "from numpy.random import randint\n",
    "\n",
    "# Define colors to display:\n",
    "COL_VEC1 = \"navy\"\n",
    "COL_VEC2 = \"firebrick\"\n",
    "COL_VEC1_COMP = \"dodgerblue\"\n",
    "COL_VEC2_COMP = \"crimson\"\n",
    "\n",
    "\n",
    "def round_up_mult_5(num):\n",
    "    \"\"\"\n",
    "    Round a number up to the next multiple of 5.\n",
    "\n",
    "    :param num: Number to round.\n",
    "    :return: Tuple of (rounded value, step increment for axis ticks).\n",
    "    \"\"\"\n",
    "    rounded = (num // 5 + (num % 5 > 0)) * 5\n",
    "    return rounded, rounded // 5\n",
    "\n",
    "\n",
    "def max_abs_arrays(*arrays):\n",
    "    \"\"\"\n",
    "    Compute the maximum absolute value across multiple arrays.\n",
    "\n",
    "    :param arrays: Any number of arrays.\n",
    "    :return: Maximum absolute value among all elements.\n",
    "    \"\"\"\n",
    "    arrays = np.concatenate(arrays)\n",
    "    return np.ceil(np.max(np.abs(arrays)))\n",
    "\n",
    "\n",
    "def create_vector_components(vec, ref_vec):\n",
    "    \"\"\"\n",
    "    Decompose a vector into components parallel and orthogonal to a reference vector.\n",
    "\n",
    "    :param vec: The vector to decompose.\n",
    "    :param ref_vec: The reference vector.\n",
    "    :return: Tuple (parallel_component, orthogonal_component).\n",
    "    \"\"\"\n",
    "    parallel = np.dot(vec.T, ref_vec) / np.dot(ref_vec.T, ref_vec) * ref_vec\n",
    "    orthogonal = vec - parallel\n",
    "    return parallel, orthogonal\n",
    "\n",
    "\n",
    "def plot_main_vectors(axis, vec_a, vec_b, name_a, name_b):\n",
    "    \"\"\"\n",
    "    Plot two main vectors with labels.\n",
    "\n",
    "    :param axis: The axis object to plot on.\n",
    "    :param vec_a: First vector.\n",
    "    :param vec_b: Second vector.\n",
    "    :param name_a: Label name for first vector.\n",
    "    :param name_b: Label name for second vector.\n",
    "    \"\"\"\n",
    "    arr_a = array_string(vec_a)\n",
    "    arr_b = array_string(vec_b)\n",
    "    axis.plot([0, vec_a[0]], [0, vec_a[1]], label=f\"${name_a} \\\\ \\\\ {arr_a}$\", lw=5, c=COL_VEC1)\n",
    "    axis.plot([0, vec_b[0]], [0, vec_b[1]], label=f\"${name_b} \\\\ \\\\ {arr_b}$\", lw=5, c=COL_VEC2)\n",
    "\n",
    "\n",
    "def array_string(array):\n",
    "    \"\"\"\n",
    "    Convert a 2D vector array to a rounded string representation.\n",
    "\n",
    "    :param array: The input vector.\n",
    "    :return: Formatted string.\n",
    "    \"\"\"\n",
    "    array = np.round(array, 1)\n",
    "    return f\"[{array[0]}, {array[1]}]\"\n",
    "\n",
    "\n",
    "def plot_comp_vectors(axis, comps, names, color):\n",
    "    \"\"\"\n",
    "    Plot parallel and orthogonal vector components.\n",
    "\n",
    "    :param axis: The axis object to plot on.\n",
    "    :param comps: List of two components [parallel, orthogonal].\n",
    "    :param names: List of two names [target_vec, reference_vec].\n",
    "    :param color: Color to use for plotting.\n",
    "    \"\"\"\n",
    "    subscripts = [\"\\\\parallel\", \"\\\\perp\"]\n",
    "    for i in range(2):\n",
    "        axis.plot(\n",
    "            [0, comps[i][0]],\n",
    "            [0, comps[i][1]],\n",
    "            label=f\"${names[0]}_{{{subscripts[i]}}} \\\\ \\\\ {array_string(comps[i])}$\",\n",
    "            lw=[11, 6.5][i],\n",
    "            ls=[(0, (0.25, 0.45)), (0, (1.05, 0.65))][i],\n",
    "            color=color,\n",
    "            alpha=0.75,\n",
    "        )\n",
    "        axis.set_title(f\"${names[0]}$ components relative to ${names[1]}$\", size=20)\n",
    "\n",
    "\n",
    "def create_main_vectors(bound=10):\n",
    "    \"\"\"\n",
    "    Generate two random 2D vectors.\n",
    "\n",
    "    :param bound: The range limit for random values.\n",
    "    :return: Tuple of vectors (v1, v2).\n",
    "    \"\"\"\n",
    "    return randint(-bound, bound + 1, 2), randint(-bound, bound + 1, 2)\n",
    "\n",
    "\n",
    "def display_vector_decomposition():\n",
    "    \"\"\"\n",
    "    Generate and display vector decompositions:\n",
    "    - v1 relative to v2\n",
    "    - v2 relative to v1\n",
    "    \"\"\"\n",
    "    v1, v2 = create_main_vectors(bound=10)\n",
    "    v1_parallel, v1_orthogonal = create_vector_components(v1, v2)\n",
    "    v2_parallel, v2_orthogonal = create_vector_components(v2, v1)\n",
    "\n",
    "    fig, axes = plt.subplots(1, 2, figsize=(14, 9))\n",
    "\n",
    "    plot_main_vectors(axes[0], v1, v2, \"v1\", \"v2\")\n",
    "    plot_comp_vectors(axes[0], [v1_parallel, v1_orthogonal], [\"v1\", \"v2\"], COL_VEC1_COMP)\n",
    "\n",
    "    plot_main_vectors(axes[1], v1, v2, \"v1\", \"v2\")\n",
    "    plot_comp_vectors(axes[1], [v2_parallel, v2_orthogonal], [\"v2\", \"v1\"], COL_VEC2_COMP)\n",
    "\n",
    "    max_val = max_abs_arrays(v1, v2, v1_parallel, v1_orthogonal, v2_parallel, v2_orthogonal)\n",
    "    limit, increment = round_up_mult_5(max_val)\n",
    "    ticks = np.arange(-limit, limit + 1, increment)\n",
    "\n",
    "    for ax in axes:\n",
    "        ax.set_xlim(-limit, limit)\n",
    "        ax.set_ylim(-limit, limit)\n",
    "        ax.set_xticks(ticks)\n",
    "        ax.set_yticks(ticks)\n",
    "        ax.set_aspect(\"equal\")\n",
    "        ax.grid(True)\n",
    "        ax.legend(fontsize=16)\n",
    "\n",
    "    sup_title = (\n",
    "        \"A Vector's Orthogonal and Parallel Components\"\n",
    "        \"\\nRelative to Some Reference Vector.\"\n",
    "        f\"\\nVector = {array_string(v1)}\"\n",
    "        f\"\\nReference Vector = {array_string(v2)}\\n\\n\"\n",
    "    )\n",
    "    plt.suptitle(sup_title, size=26)\n",
    "    plt.tight_layout()\n",
    "    plt.show()\n",
    "\n",
    "\n",
    "display_vector_decomposition()"
   ]
  },
  {
   "cell_type": "markdown",
   "metadata": {},
   "source": [
    "<hr style=\"height: 0; box-shadow: 0 0 5px 4px crimson; width: 90%;\">"
   ]
  },
  {
   "cell_type": "markdown",
   "metadata": {},
   "source": [
    "## **_Wrap-up_**"
   ]
  },
  {
   "cell_type": "markdown",
   "metadata": {},
   "source": [
    "### **_Conclusions:_**"
   ]
  },
  {
   "cell_type": "markdown",
   "metadata": {},
   "source": [
    "That was a lot to unpack.\n",
    "\n",
    "I'm feeling a bit clearer on what it means to decompose a vector into components parallel and orthogonal to some other referece vector.\n",
    "\n",
    "The core concepts, although disguised with much more advanced implementation than I'm used to, show a pretty logical and simple algebraic and geometric approach to understanding how two vectors relate to one another.\n",
    "\n",
    "Every vector in the same subspace will share this special relationship with any other vector in the same subspace, though the form each of these relationship takes will be unique. Like snowflakes?\n",
    "\n",
    "Does this somehow have broader philosophical implications?\n",
    "\n",
    "I may never know..."
   ]
  },
  {
   "cell_type": "markdown",
   "metadata": {},
   "source": [
    "<hr style=\"height: 0; box-shadow: 0 0 5px 4px dodgerblue; width: 80%;\">"
   ]
  },
  {
   "cell_type": "markdown",
   "metadata": {},
   "source": [
    "#### **_Potential Updates:_**\n",
    "\n",
    "- 'Program' in the desired angle where $\\vec{v}_1$ and $\\vec{v}_1$ meet.\n",
    "\n",
    "- Add a _third_ vector to the mix and get a little wild...\n",
    "\n",
    "- Add `random.seed()` functionality to note interesting vector relationships and recreate them.\n",
    "\n",
    "- Create an art project utilizing this functionality."
   ]
  },
  {
   "cell_type": "markdown",
   "metadata": {},
   "source": [
    "<hr style=\"height: 0; box-shadow: 0 0 5px 4px dodgerblue; width: 80%;\">"
   ]
  },
  {
   "cell_type": "markdown",
   "metadata": {},
   "source": [
    "#### **_Potential Code Improvements:_**\n",
    "\n",
    "- **_Allow angle targeting:_** Enable control over the angle between $\\vec{v}_1$ and $\\vec{v}_2$ via input parameters.\n",
    "\n",
    "- **_Add a third vector:_** Introduce a third vector to explore more complex relationships.\n",
    "\n",
    "- **_Add `random.seed()` support:_** Allow reproducibility for specific vector relationships.\n",
    "\n",
    "- **_Make it generative art:_** Create colorful and possible structured visuals based on these concepts and this functionality."
   ]
  },
  {
   "cell_type": "markdown",
   "metadata": {},
   "source": [
    "<hr style=\"height: 0; box-shadow: 0 0 5px 4px dodgerblue; width: 80%;\">"
   ]
  },
  {
   "cell_type": "markdown",
   "metadata": {},
   "source": [
    "#### **_Potential Code Improvements:_**\n",
    "\n",
    "- **_Allow angle targeting:_** Enable control over the angle between $\\vec{v}_1$ and $\\vec{v}_2$ via input parameters.\n",
    "\n",
    "- **_Add a third vector:_** Introduce a third vector to explore more complex relationships.\n",
    "\n",
    "- **_Add `random.seed()` support:_** Allow reproducibility for specific vector relationships.\n",
    "\n",
    "- **_Make it generative art:_** Create colorful and possible structured visuals based on these concepts and this functionality.\n",
    "\n",
    "- **_Error:_** Deal with `ValueError` sometimes caused via `ticks = np.arange(-limit, limit + 1, increment)`. "
   ]
  },
  {
   "cell_type": "markdown",
   "metadata": {},
   "source": [
    "<hr style=\"height: 0; box-shadow: 0 0 5px 4px crimson; width: 90%;\">"
   ]
  },
  {
   "cell_type": "markdown",
   "metadata": {},
   "source": [
    "<hr style=\"height: 0; box-shadow: 0 0 5px 4px dodgerblue; width: 80%;\">"
   ]
  },
  {
   "cell_type": "markdown",
   "metadata": {},
   "source": [
    "<hr style=\"height: 0; box-shadow: 0 0 5px 4px #5EDC1F; width: 70%;\">"
   ]
  },
  {
   "cell_type": "markdown",
   "metadata": {},
   "source": [
    "<hr style=\"height: 0; box-shadow: 0 0 5px 4px orangered; width: 60%;\">"
   ]
  },
  {
   "cell_type": "markdown",
   "metadata": {},
   "source": [
    "<hr style=\"height: 0; box-shadow: 0 0 5px 4px gold; width: 50%;\">"
   ]
  },
  {
   "cell_type": "markdown",
   "metadata": {},
   "source": [
    "<font size=2>\n",
    "\n",
    "_Andrew Blais, Boston, Massachusetts_\n",
    "\n",
    "GitHub: https://github.com/andrewblais\n",
    "\n",
    "Website: https://www.andrewblais.dev/\n",
    "\n",
    "</font>"
   ]
  }
 ],
 "metadata": {
  "kernelspec": {
   "display_name": "venv",
   "language": "python",
   "name": "python3"
  },
  "language_info": {
   "codemirror_mode": {
    "name": "ipython",
    "version": 3
   },
   "file_extension": ".py",
   "mimetype": "text/x-python",
   "name": "python",
   "nbconvert_exporter": "python",
   "pygments_lexer": "ipython3",
   "version": "3.13.3"
  }
 },
 "nbformat": 4,
 "nbformat_minor": 2
}
