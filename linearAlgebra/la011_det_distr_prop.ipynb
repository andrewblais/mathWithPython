{
 "cells": [
  {
   "cell_type": "markdown",
   "metadata": {},
   "source": [
    "# **_The Distributive Property of the Matrix Determinant:_**"
   ]
  },
  {
   "cell_type": "markdown",
   "metadata": {},
   "source": [
    "<hr style=\"height: 0; box-shadow: 0 0 5px 4px crimson; width: 95%;\">"
   ]
  },
  {
   "cell_type": "markdown",
   "metadata": {},
   "source": [
    "## **_Goal:_**"
   ]
  },
  {
   "cell_type": "markdown",
   "metadata": {},
   "source": [
    "-   Given two equally sized square matrices, `A` and `B`, demonstrate that the **DISTRIBUTIVE PROPERTY** applies when multiplying their determinants:\n",
    "\n",
    "$$\n",
    "\\LARGE\n",
    "    \\text{det} (\\textbf{AB}) = \\text{det} (\\textbf{A}) \\times \\text{det} (\\textbf{B})\n",
    "$$"
   ]
  },
  {
   "cell_type": "markdown",
   "metadata": {},
   "source": [
    "<hr style=\"height: 0; box-shadow: 0 0 5px 4px crimson; width: 95%;\">"
   ]
  },
  {
   "cell_type": "markdown",
   "metadata": {},
   "source": [
    "This Python Jupyter notebook extrapolates from an exercise in Mike X. Cohen's Linear Algebra course on Udemy.\n",
    "\n",
    "-   Udemy course: https://www.udemy.com/course/linear-algebra-theory-and-implementation\n",
    "\n",
    "-   Professor Cohen's website: https://www.mikexcohen.com/"
   ]
  },
  {
   "cell_type": "markdown",
   "metadata": {},
   "source": [
    "<hr style=\"height: 0; box-shadow: 0 0 5px 4px crimson; width: 95%;\">"
   ]
  },
  {
   "cell_type": "markdown",
   "metadata": {},
   "source": [
    "## **_Code:_**"
   ]
  },
  {
   "cell_type": "code",
   "execution_count": 6,
   "metadata": {},
   "outputs": [],
   "source": [
    "# Import libraries:\n",
    "import matplotlib.pyplot as plt\n",
    "import numpy as np"
   ]
  },
  {
   "cell_type": "code",
   "execution_count": 7,
   "metadata": {},
   "outputs": [],
   "source": [
    "def prop_check(QA, QB):\n",
    "    \"\"\"Given two square/full-rank/same-sized matrices, QA and QB:\n",
    "       This function calculates and returns the difference between:\n",
    "       1. The determinant of the product matrix of QA and QB.\n",
    "       2. The product of the individual determinants of QA and QB.\n",
    "\n",
    "       :param QA: A square, full-rank matrix.\n",
    "       :type QA: numpy.ndarray\n",
    "       :param QB: A square, full-rank matrix, the same size as QA.\n",
    "       :type QB: numpy.ndarray\n",
    "       :returns: The difference between the determinant of (QA and QB's\n",
    "                 product matrix) and (the product of the each matrices\n",
    "                 determinant). \n",
    "       :rtype: numpy.float64 \n",
    "    \"\"\"\n",
    "    together = np.linalg.det(QA @ QB)\n",
    "    separate = np.linalg.det(QA) * np.linalg.det(QB)\n",
    "    return together - separate"
   ]
  },
  {
   "cell_type": "code",
   "execution_count": 8,
   "metadata": {},
   "outputs": [],
   "source": [
    "def prop_check(QA, QB):\n",
    "    together = np.linalg.det(QA @ QB)\n",
    "    separate = np.linalg.det(QA) * np.linalg.det(QB)\n",
    "    return together - separate"
   ]
  },
  {
   "cell_type": "code",
   "execution_count": 9,
   "metadata": {},
   "outputs": [
    {
     "data": {
      "image/png": "[encoded data removed]",
      "text/plain": [
       "<Figure size 700x500 with 2 Axes>"
      ]
     },
     "metadata": {},
     "output_type": "display_data"
    }
   ],
   "source": [
    "m = 3\n",
    "\n",
    "A3 = np.random.randn(m, m)\n",
    "B3 = np.random.randn(m, m)\n",
    "\n",
    "prop_check(A3, B3)\n",
    "\n",
    "range_ms = np.arange(40)\n",
    "prop_checks = np.zeros(len(range_ms))\n",
    "\n",
    "for i in range(len(range_ms)):\n",
    "    AI = np.random.randn(range_ms[i], range_ms[i])\n",
    "    BI = np.random.randn(range_ms[i], range_ms[i])\n",
    "    prop_checks[i] = prop_check(AI, BI)\n",
    "\n",
    "fig, axes = plt.subplots(2, 1, figsize=(7, 5))\n",
    "\n",
    "axes[0].plot(prop_checks, 's-')\n",
    "axes[0].set_title(\"Regular View\")\n",
    "\n",
    "axes[1].plot(prop_checks, 's-')\n",
    "axes[1].set_title(\"Zoomed\")\n",
    "axes[1].set_ylim(-1, 1)\n",
    "\n",
    "plt.tight_layout()\n",
    "plt.show()"
   ]
  },
  {
   "cell_type": "code",
   "execution_count": 10,
   "metadata": {},
   "outputs": [
    {
     "name": "stdout",
     "output_type": "stream",
     "text": [
      "Largest measured determinant magnitude in our dataset:\n",
      "373,238,921,844,542,152,882,085,953,536.00\n"
     ]
    }
   ],
   "source": [
    "max_det_magnitude = abs(max(prop_checks))\n",
    "print(f\"Largest measured determinant magnitude in our dataset:\\n{max_det_magnitude:,.2f}\")"
   ]
  },
  {
   "cell_type": "markdown",
   "metadata": {},
   "source": [
    "-   The principle that $\\text{det} (\\textbf{AB}) = \\text{det} (\\textbf{A}) \\times \\text{det} (\\textbf{B})$ holds for matrix dimensions through `(15, 15)` or so.\n",
    "\n",
    "-   `numpy.linalg.det` becomes numerically unstable around `m > 16`. This is especially clear in the second zoomed-in plot."
   ]
  },
  {
   "cell_type": "markdown",
   "metadata": {},
   "source": [
    "<hr style=\"height: 0; box-shadow: 0 0 5px 4px crimson; width: 95%;\">"
   ]
  },
  {
   "cell_type": "markdown",
   "metadata": {},
   "source": [
    "<hr style=\"height: 0; box-shadow: 0 0 5px 4px dodgerblue; width: 85%;\">"
   ]
  },
  {
   "cell_type": "markdown",
   "metadata": {},
   "source": [
    "<hr style=\"height: 0; box-shadow: 0 0 5px 4px #5EDC1F; width: 75%;\">\n"
   ]
  },
  {
   "cell_type": "markdown",
   "metadata": {},
   "source": [
    "<hr style=\"height: 0; box-shadow: 0 0 5px 4px magenta; width: 65%;\">\n"
   ]
  },
  {
   "cell_type": "markdown",
   "metadata": {},
   "source": [
    "<hr style=\"height: 0; box-shadow: 0 0 5px 4px gold; width: 55%;\">"
   ]
  },
  {
   "cell_type": "markdown",
   "metadata": {},
   "source": [
    "<font size=2>\n",
    "\n",
    "_Andrew Blais, Boston, Massachusetts_\n",
    "\n",
    "GitHub: https://github.com/andrewblais\n",
    "\n",
    "Website/Python Web Development Porfolio: https://www.andrewblais.dev/\n",
    "\n",
    "</font>"
   ]
  }
 ],
 "metadata": {
  "kernelspec": {
   "display_name": "venv",
   "language": "python",
   "name": "python3"
  },
  "language_info": {
   "codemirror_mode": {
    "name": "ipython",
    "version": 3
   },
   "file_extension": ".py",
   "mimetype": "text/x-python",
   "name": "python",
   "nbconvert_exporter": "python",
   "pygments_lexer": "ipython3",
   "version": "3.13.0"
  }
 },
 "nbformat": 4,
 "nbformat_minor": 2
}
