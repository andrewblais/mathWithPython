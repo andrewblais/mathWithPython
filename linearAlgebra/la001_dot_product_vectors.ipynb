{
 "cells": [
  {
   "cell_type": "markdown",
   "metadata": {},
   "source": [
    "# **_Linear Algebra: Computing Dot Products from Matrix Columns as Vectors_**"
   ]
  },
  {
   "cell_type": "markdown",
   "metadata": {},
   "source": [
    "This Python Jupyter notebook consists of my solution to an exercise from Mike X. Cohen's Linear Algebra course on Udemy.\n",
    "\n",
    "-   Udemy course: https://www.udemy.com/course/linear-algebra-theory-and-implementation\n",
    "\n",
    "-   Professor Cohen's website: https://www.mikexcohen.com/"
   ]
  },
  {
   "cell_type": "markdown",
   "metadata": {},
   "source": [
    "---"
   ]
  },
  {
   "cell_type": "markdown",
   "metadata": {},
   "source": [
    "## **_Instructions:_**"
   ]
  },
  {
   "cell_type": "markdown",
   "metadata": {},
   "source": [
    "-   Create 2 4x6 matrices of random numbers.\n",
    "\n",
    "-   Use a for-loop to compute dot products between corresponding columns."
   ]
  },
  {
   "cell_type": "markdown",
   "metadata": {},
   "source": [
    "---"
   ]
  },
  {
   "cell_type": "markdown",
   "metadata": {},
   "source": [
    "## **_My solution:_**"
   ]
  },
  {
   "cell_type": "code",
   "execution_count": 1,
   "metadata": {},
   "outputs": [
    {
     "name": "stdout",
     "output_type": "stream",
     "text": [
      "Manual DP calculations: [1.07594595 0.77405595 0.84438756 0.61384777 1.01456809 0.82632166]\n",
      "NumPy  DP calculations: [1.07594595 0.77405595 0.84438756 0.61384777 1.01456809 0.82632166]\n",
      "Check equality between outputs: [False  True  True  True False  True]\n",
      "\n",
      "Manual rounded: [1.076 0.774 0.844 0.614 1.015 0.826]\n",
      "NumPy  rounded: [1.076 0.774 0.844 0.614 1.015 0.826]\n",
      "Rounded equality: [ True  True  True  True  True  True]\n"
     ]
    }
   ],
   "source": [
    "# Import external library:\n",
    "import numpy as np\n",
    "\n",
    "# Indicate row and column numbers:\n",
    "rows = 4\n",
    "cols = 6\n",
    "\n",
    "# Create matrices with said dimensions:\n",
    "M_1 = np.random.rand(rows, cols)\n",
    "M_2 = np.random.rand(rows, cols)\n",
    "\n",
    "# Instantiate zeros matrices, first to populate manually,\n",
    "#  second to create with NumPy `.dot()` method:\n",
    "M_DOT_MAN = np.zeros(cols)\n",
    "M_DOT_TEST = np.zeros(cols)\n",
    "\n",
    "# Populate manual and NumPy assisted matrices:\n",
    "for col in range(cols):\n",
    "    # Begin cumulative count at 0:\n",
    "    dot_cumulative = 0\n",
    "    for row in range(rows):\n",
    "        # Get value for each vector at given row:\n",
    "        m_1_val = M_1[row, col]\n",
    "        m_2_val = M_2[row, col]\n",
    "        M_DOT_MAN[col] += m_1_val * m_2_val\n",
    "    M_DOT_TEST[col] = np.dot(M_1[:, col], M_2[:, col])\n",
    "\n",
    "# Visually inspect equality of dot products:\n",
    "print(\"Manual DP calculations:\", M_DOT_MAN)\n",
    "print(\"NumPy  DP calculations:\", M_DOT_TEST)\n",
    "# (Looks good!)\n",
    "\n",
    "# But Python equality check doesn't always return True.\n",
    "#  Some very minute differences between the numbers, perhaps:\n",
    "print(\"Check equality between outputs:\", M_DOT_MAN == M_DOT_TEST, end=\"\\n\\n\")\n",
    "\n",
    "# So test equality with rounding:\n",
    "precision = 3\n",
    "print(\"Manual rounded:\", np.round(M_DOT_MAN, precision))\n",
    "print(\"NumPy  rounded:\", np.round(M_DOT_TEST, precision))\n",
    "print(\"Rounded equality:\", np.round(M_DOT_MAN, precision) == np.round(M_DOT_TEST, precision))"
   ]
  },
  {
   "cell_type": "markdown",
   "metadata": {},
   "source": [
    "---"
   ]
  },
  {
   "cell_type": "markdown",
   "metadata": {},
   "source": [
    "## **_Conclusions:_**\n",
    "\n",
    "1. Math good.\n",
    "\n",
    "2. I manually calculated the dot products by looping through each matrix column and multiplying the corresponding vectors' elements, accumulating the total along the way, then substituting that total for its corresponding $0$ in the resulting zeros vector/matrix.\n",
    "\n",
    "3. Meanwhile I checked my work by implementing NumPy's `.dot()` method for the corresponding columns, substituting those dot products into the alternative testing zeros vector/matrix.\n",
    "\n",
    "4. The results of the NumPy operation and my manual operation match.\n",
    "\n",
    "5. All is well. For now..."
   ]
  },
  {
   "cell_type": "markdown",
   "metadata": {},
   "source": [
    "_Andrew Blais, Boston, Massachusetts_\n",
    "\n",
    "GitHub: https://github.com/andrewblais\n",
    "\n",
    "My Website/Python Web Development Portfolio: https://www.andrewblais.dev/"
   ]
  }
 ],
 "metadata": {
  "kernelspec": {
   "display_name": "venv",
   "language": "python",
   "name": "python3"
  },
  "language_info": {
   "codemirror_mode": {
    "name": "ipython",
    "version": 3
   },
   "file_extension": ".py",
   "mimetype": "text/x-python",
   "name": "python",
   "nbconvert_exporter": "python",
   "pygments_lexer": "ipython3",
   "version": "3.13.0"
  }
 },
 "nbformat": 4,
 "nbformat_minor": 2
}
