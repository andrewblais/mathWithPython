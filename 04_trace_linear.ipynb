{
 "cells": [
  {
   "cell_type": "markdown",
   "metadata": {},
   "source": [
    "# **_Linear Algebra: Is Trace a Linear Operator?_**"
   ]
  },
  {
   "cell_type": "markdown",
   "metadata": {},
   "source": [
    "<hr style=\"height: 0; box-shadow: 0 0 5px 4px gold; width: 95%;\">"
   ]
  },
  {
   "cell_type": "markdown",
   "metadata": {},
   "source": [
    "## **_Description:_**"
   ]
  },
  {
   "cell_type": "markdown",
   "metadata": {},
   "source": [
    "This Python Jupyter notebook consists of my solution to an exercise from Mike X. Cohen's Linear Algebra course on Udemy.\n",
    "\n",
    "-   Udemy course: https://www.udemy.com/course/linear-algebra-theory-and-implementation\n",
    "\n",
    "-   Professor Cohen's website: https://www.mikexcohen.com/"
   ]
  },
  {
   "cell_type": "markdown",
   "metadata": {},
   "source": [
    "<hr style=\"height: 0; box-shadow: 0 0 5px 4px dodgerblue; width: 95%;\">"
   ]
  },
  {
   "cell_type": "markdown",
   "metadata": {},
   "source": [
    "## **_Instructions:_**"
   ]
  },
  {
   "cell_type": "markdown",
   "metadata": {},
   "source": [
    "-   Determine the relationship between these two expressions:\n",
    "\n",
    "$$\n",
    "\\Large\n",
    "    tr(\\textbf{A}) + tr(\\textbf{B})\n",
    "    \\; \\; \\text{and} \\; \\;\n",
    "    tr(\\textbf{A} + \\textbf{B})\n",
    "$$\n",
    "\n",
    "-   Determine the relationship between these two expressions:\n",
    "\n",
    "$$\n",
    "\\Large\n",
    "    tr(\\lambda \\times \\textbf{A})\n",
    "    \\; \\; \\text{and} \\; \\;\n",
    "    \\lambda \\times tr(\\textbf{A})\n",
    "$$\n",
    "\n",
    "-   $\\textbf{A}$ and $\\textbf{B}$ are each random-value $(m \\times n)$ square matrices.\n",
    "\n",
    "-   $\\lambda$ is a random-value scalar.\n",
    "\n",
    "-   Display each operation in the output.\n",
    "\n",
    "#### **_If TRACE is a linear operator then each individual pair should be equal._**"
   ]
  },
  {
   "cell_type": "markdown",
   "metadata": {},
   "source": [
    "#### **_Notes:_**\n",
    "\n",
    "-   I'm adding constants from `scipy` for fun.\n",
    "\n",
    "-   Also made a small function to handle spacing when printing to output."
   ]
  },
  {
   "cell_type": "markdown",
   "metadata": {},
   "source": [
    "<hr style=\"height: 0; box-shadow: 0 0 5px 4px forestgreen; width: 95%;\">"
   ]
  },
  {
   "cell_type": "markdown",
   "metadata": {},
   "source": [
    "## **_Solution:_**"
   ]
  },
  {
   "cell_type": "code",
   "execution_count": 1,
   "metadata": {},
   "outputs": [
    {
     "name": "stdout",
     "output_type": "stream",
     "text": [
      "Speed of Sound Matrix:\n",
      "[[1.327422   1.87489754 1.46049244 0.91835962 0.46799223]\n",
      " [2.67320258 0.4807803  1.76649223 1.7276328  2.85643025]\n",
      " [2.10198596 2.85360573 2.02018042 1.26502987 1.69456773]\n",
      " [1.52602108 2.53544883 1.66115978 0.99835466 0.3712007 ]\n",
      " [1.05219776 0.08158733 2.37213863 2.23930235 2.04288165]]\n",
      "\n",
      "Speed of Light Matrix:\n",
      "[[ 0.04926707  0.48378895 -0.17187758 -0.16280396 -0.18635792]\n",
      " [-0.29672264  0.08093934  0.3404663   0.0165921   0.23386081]\n",
      " [-0.13571944 -0.00061352  0.17491823 -0.27231775 -0.36380256]\n",
      " [ 0.15779122  0.25325545 -0.4330278   0.13868728  0.16196143]\n",
      " [-0.38893189  0.14327403 -0.44193675 -0.0252666  -0.04172299]]\n",
      "\n",
      "Scalar Lambda:\n",
      "1.4010146819718108\n",
      "\n",
      "Separate Addition:\n",
      "7.27\n",
      "\n",
      "Combined Addition:\n",
      "7.27\n",
      "\n",
      "TRACE closed under addition?\n",
      "True\n",
      "\n",
      "Separate Multiplication:\n",
      "9.62\n",
      "\n",
      "Combined Multiplication:\n",
      "9.62\n",
      "\n",
      "TRACE closed under scalar-multiplication?\n",
      "True\n",
      "\n",
      "TRACE is a Linear Operator?\n",
      "True\n",
      "\n"
     ]
    }
   ],
   "source": [
    "# Import libraries:\n",
    "import numpy as np\n",
    "from scipy.constants import blob, kilo, speed_of_light, speed_of_sound\n",
    "\n",
    "\n",
    "def print_awesome(info_str, data):\n",
    "    \"\"\"Prints string and data in a well-spaced fashion.\"\"\"\n",
    "    print(info_str, data, sep=\"\\n\", end=\"\\n\\n\")\n",
    "\n",
    "\n",
    "# Define shape:\n",
    "m = 5\n",
    "n = 5\n",
    "\n",
    "# Define matrices and scalar:\n",
    "M_SOUND = np.random.rand(m, n) * kilo / speed_of_sound\n",
    "M_LIGHT = np.random.randn(m, n) * speed_of_light / kilo**3\n",
    "l_blob = np.random.randint(1, 10) * blob / kilo\n",
    "\n",
    "# Print matrices and scalar:\n",
    "print_awesome(\"Speed of Sound Matrix:\", M_SOUND)\n",
    "print_awesome(\"Speed of Light Matrix:\", M_LIGHT)\n",
    "print_awesome(\"Scalar Lambda:\", l_blob)\n",
    "\n",
    "# Define conclusion bools as False to begin:\n",
    "lin_add_valid = False\n",
    "lin_mult_valid = False\n",
    "overall_conclusion = False\n",
    "\n",
    "# Get sums two ways, round so we don't get lost in the weeds:\n",
    "tr_add_sep = np.round(np.trace(M_SOUND) + np.trace(M_LIGHT), 2)\n",
    "tr_add_comb = np.round(np.trace(np.add(M_SOUND, M_LIGHT)), 2)\n",
    "# Conclude whether addition property is valid:\n",
    "lin_add_valid = tr_add_sep == tr_add_comb\n",
    "\n",
    "# Print additon conclusion:\n",
    "print_awesome(\"Separate Addition:\", tr_add_sep)\n",
    "print_awesome(\"Combined Addition:\", tr_add_comb)\n",
    "print_awesome(\"TRACE closed under addition?\", lin_add_valid)\n",
    "\n",
    "# Get products two ways, round to clarify comparison:\n",
    "tr_mult_sep = np.round(np.trace(l_blob * M_SOUND), 2)\n",
    "tr_mult_comb = np.round(l_blob * np.trace(M_SOUND), 2)\n",
    "# Conclude whether multiplication property is valid:\n",
    "lin_mult_valid = tr_mult_sep == tr_mult_comb\n",
    "\n",
    "# Print scalar-multiplication conclusion:\n",
    "print_awesome(\"Separate Multiplication:\", tr_mult_sep)\n",
    "print_awesome(\"Combined Multiplication:\", tr_mult_comb)\n",
    "print_awesome(\"TRACE closed under scalar-multiplication?\", lin_mult_valid)\n",
    "\n",
    "# Overall conclusion:\n",
    "overall_conclusion = lin_add_valid and lin_mult_valid\n",
    "print_awesome(\"TRACE is a Linear Operator?\", overall_conclusion)"
   ]
  },
  {
   "cell_type": "markdown",
   "metadata": {},
   "source": [
    "<hr style=\"height: 0; box-shadow: 0 0 5px 4px crimson; width: 95%;\">"
   ]
  },
  {
   "cell_type": "markdown",
   "metadata": {},
   "source": [
    "## **_Conclusion:_**"
   ]
  },
  {
   "cell_type": "markdown",
   "metadata": {},
   "source": [
    "#### **_1. Trace IS a linear operator because:_**\n",
    "\n",
    "$$\n",
    "\\Large\n",
    "    tr(\\textbf{A}) + tr(\\textbf{B})\n",
    "    \\; \\; = \\; \\;\n",
    "    tr(\\textbf{A} + \\textbf{B})\n",
    "$$\n",
    "\n",
    "$$\n",
    "\\Large\n",
    "    tr(\\lambda \\times \\textbf{A})\n",
    "    \\; \\; = \\; \\;\n",
    "    \\lambda \\times tr(\\textbf{A})\n",
    "$$\n",
    "\n",
    "-   Performing addition/scalar-multiplication on matrix elements before and after applying the trace function returns the same result."
   ]
  },
  {
   "cell_type": "markdown",
   "metadata": {},
   "source": [
    "<hr style=\"height: 0; box-shadow: 0 0 5px 4px darkslateblue; width: 95%;\">"
   ]
  },
  {
   "cell_type": "markdown",
   "metadata": {},
   "source": [
    "<font size=2>\n",
    "\n",
    "_Andrew Blais, Boston, Massachusetts_\n",
    "\n",
    "GitHub: https://github.com/andrewblais\n",
    "\n",
    "Website/Python Web Development Porfolio: https://www.andrewblais.dev/\n",
    "\n",
    "</font>"
   ]
  }
 ],
 "metadata": {
  "kernelspec": {
   "display_name": ".venv",
   "language": "python",
   "name": "python3"
  },
  "language_info": {
   "codemirror_mode": {
    "name": "ipython",
    "version": 3
   },
   "file_extension": ".py",
   "mimetype": "text/x-python",
   "name": "python",
   "nbconvert_exporter": "python",
   "pygments_lexer": "ipython3",
   "version": "3.12.4"
  }
 },
 "nbformat": 4,
 "nbformat_minor": 2
}
