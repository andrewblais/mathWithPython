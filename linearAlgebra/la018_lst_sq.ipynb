{
 "cells": [
  {
   "cell_type": "markdown",
   "metadata": {},
   "source": [
    "# **_Least Squares Modeling and Analysis_**"
   ]
  },
  {
   "cell_type": "markdown",
   "metadata": {},
   "source": [
    "_Takes mock data, builds a Least Squares model, visualizes and evaluates the results._"
   ]
  },
  {
   "cell_type": "markdown",
   "metadata": {},
   "source": [
    "<hr style=\"height: 0; box-shadow: 0 0 5px 4px crimson; width: 95%;\">"
   ]
  },
  {
   "cell_type": "markdown",
   "metadata": {},
   "source": [
    "## **_Intro:_**"
   ]
  },
  {
   "cell_type": "markdown",
   "metadata": {},
   "source": [
    "This notebook demonstrates concepts from coding challenges I studied in Mike X. Cohen's Linear Algebra course on Udemy.\n",
    "\n",
    "Essentially, this is my homework, which serves as a step-by-step review and a future quick-reference."
   ]
  },
  {
   "cell_type": "markdown",
   "metadata": {},
   "source": [
    "Visit the course here:\n",
    "\n",
    "-   [**_Udemy Course_**](https://www.udemy.com/course/linear-algebra-theory-and-implementation)\n",
    "\n",
    "-   [**_Mike X. Cohen's Website_**](https://www.mikexcohen.com/)\n",
    "\n",
    "This course is helping not only with Linear Algebra, but has significantly improved my coding skills."
   ]
  },
  {
   "cell_type": "markdown",
   "metadata": {},
   "source": [
    "<hr style=\"height: 0; box-shadow: 0 0 5px 4px crimson; width: 90%;\">\n"
   ]
  },
  {
   "cell_type": "markdown",
   "metadata": {},
   "source": [
    "## **_Goals:_**"
   ]
  },
  {
   "cell_type": "markdown",
   "metadata": {},
   "source": [
    "1. Import and briefly explore a real-world (synthetic) dataset.\n",
    "\n",
    "2. Build a linear model using the Least Squares method.\n",
    "\n",
    "3. Evaluate model fit ($R^2$, residuals) and interpret coefficients.\n",
    "\n",
    "4. Visualize relationships between predictors and sleep duration."
   ]
  },
  {
   "cell_type": "markdown",
   "metadata": {},
   "source": [
    "<hr style=\"height: 0; box-shadow: 0 0 5px 4px crimson; width: 95%;\">\n"
   ]
  },
  {
   "cell_type": "markdown",
   "metadata": {},
   "source": [
    "## **_Preliminary Data Analysis_**"
   ]
  },
  {
   "cell_type": "markdown",
   "metadata": {},
   "source": [
    "I'm utilizing the dataset found here:\n",
    "\n",
    "-   https://www.kaggle.com/datasets/uom190346a/sleep-health-and-lifestyle-dataset"
   ]
  },
  {
   "cell_type": "markdown",
   "metadata": {},
   "source": [
    "Columns in play:\n",
    "\n",
    "-   `Age`: The age of the person in years.\n",
    "\n",
    "-   `Sleep Duration` (hours): The number of hours the person sleeps per day.\n",
    "\n",
    "-   `Quality of Sleep` (scale: 1-10): A subjective rating of the quality of sleep, ranging from 1 to 10.\n",
    "\n",
    "-   `Physical Activity Level` (minutes/day): The number of minutes the person engages in physical activity daily.\n",
    "\n",
    "-   `Stress Level` (scale: 1-10): A subjective rating of the stress level experienced by the person, ranging from 1 to 10."
   ]
  },
  {
   "cell_type": "markdown",
   "metadata": {},
   "source": [
    "**_Note:_**\n",
    "\n",
    "These data are synthetic and created by the [**author**](https://www.kaggle.com/uom190346a) for illustrative purposes. "
   ]
  },
  {
   "cell_type": "markdown",
   "metadata": {},
   "source": [
    "<hr style=\"height: 0; box-shadow: 0 0 5px 4px crimson; width: 95%;\">\n"
   ]
  },
  {
   "cell_type": "markdown",
   "metadata": {},
   "source": [
    "## **_Create the Model_**"
   ]
  },
  {
   "cell_type": "markdown",
   "metadata": {},
   "source": [
    "Here's how I'll organize things:\n",
    "\n",
    "**_Target/Outcome Vector:_**\n",
    "\n",
    "-   `Sleep Duration`\n",
    "\n",
    "**_Design Matrix Predictors:_**\n",
    "\n",
    "-   `Age`\n",
    "\n",
    "-   `Quality of Sleep`\n",
    "\n",
    "-   `Physical Activity Level`\n",
    "\n",
    "-   `Stress Level`"
   ]
  },
  {
   "cell_type": "markdown",
   "metadata": {},
   "source": [
    "$\n",
    "\\begin{aligned}\n",
    "    & \\Large{\\hat{d} = \\beta_0 + \\beta_1 a + \\beta_2 q + \\beta_3 p + \\beta_4 s}\n",
    "    \\\\ \\\\\n",
    "    & \\hat{d} = \\textbf{Sleep Duration}\n",
    "    \\\\\n",
    "    & a = \\textbf{Age}\n",
    "    \\\\\n",
    "    & q = \\textbf{Quality of Sleep}\n",
    "    \\\\\n",
    "    & p = \\textbf{Physical Activity Level}\n",
    "    \\\\\n",
    "    & s = \\textbf{Stress Level}\n",
    "\\end{aligned}\n",
    "$"
   ]
  },
  {
   "cell_type": "markdown",
   "metadata": {},
   "source": [
    "<hr style=\"height: 0; box-shadow: 0 0 5px 4px crimson; width: 95%;\">\n"
   ]
  },
  {
   "cell_type": "markdown",
   "metadata": {},
   "source": [
    "## **_Prepare the Data_**"
   ]
  },
  {
   "cell_type": "code",
   "execution_count": 2570,
   "metadata": {},
   "outputs": [],
   "source": [
    "# Import libraries:\n",
    "import matplotlib.pyplot as plt\n",
    "import numpy as np\n",
    "import pandas as pd"
   ]
  },
  {
   "cell_type": "code",
   "execution_count": 2571,
   "metadata": {},
   "outputs": [],
   "source": [
    "# Indicate local path to dataset:\n",
    "sleep_csv_path = \"./data/Sleep_health_and_lifestyle_dataset.csv\"\n",
    "\n",
    "# Instantiate CSV as Pandas dataset: \n",
    "df_sleep = pd.read_csv(sleep_csv_path)"
   ]
  },
  {
   "cell_type": "markdown",
   "metadata": {},
   "source": [
    "<hr style=\"height: 0; box-shadow: 0 0 5px 4px dodgerblue; width: 85%;\">"
   ]
  },
  {
   "cell_type": "markdown",
   "metadata": {},
   "source": [
    "### **_Inspect the Dataset_**\n",
    "\n",
    "_Get oriented._"
   ]
  },
  {
   "cell_type": "code",
   "execution_count": 2572,
   "metadata": {},
   "outputs": [
    {
     "name": "stdout",
     "output_type": "stream",
     "text": [
      "(374, 13)\n"
     ]
    }
   ],
   "source": [
    "print(df_sleep.shape)"
   ]
  },
  {
   "cell_type": "code",
   "execution_count": 2573,
   "metadata": {},
   "outputs": [
    {
     "name": "stdout",
     "output_type": "stream",
     "text": [
      "   Person ID Gender  Age            Occupation  Sleep Duration  \\\n",
      "0          1   Male   27     Software Engineer             6.1   \n",
      "1          2   Male   28                Doctor             6.2   \n",
      "2          3   Male   28                Doctor             6.2   \n",
      "3          4   Male   28  Sales Representative             5.9   \n",
      "4          5   Male   28  Sales Representative             5.9   \n",
      "\n",
      "   Quality of Sleep  Physical Activity Level  Stress Level BMI Category  \\\n",
      "0                 6                       42             6   Overweight   \n",
      "1                 6                       60             8       Normal   \n",
      "2                 6                       60             8       Normal   \n",
      "3                 4                       30             8        Obese   \n",
      "4                 4                       30             8        Obese   \n",
      "\n",
      "  Blood Pressure  Heart Rate  Daily Steps Sleep Disorder  \n",
      "0         126/83          77         4200            NaN  \n",
      "1         125/80          75        10000            NaN  \n",
      "2         125/80          75        10000            NaN  \n",
      "3         140/90          85         3000    Sleep Apnea  \n",
      "4         140/90          85         3000    Sleep Apnea  \n"
     ]
    }
   ],
   "source": [
    "print(df_sleep.head())"
   ]
  },
  {
   "cell_type": "code",
   "execution_count": 2574,
   "metadata": {},
   "outputs": [
    {
     "name": "stdout",
     "output_type": "stream",
     "text": [
      "    Person ID Gender  Age Occupation  Sleep Duration  Quality of Sleep  \\\n",
      "74         75   Male   33     Doctor             6.0                 6   \n",
      "\n",
      "    Physical Activity Level  Stress Level BMI Category Blood Pressure  \\\n",
      "74                       30             8       Normal         125/80   \n",
      "\n",
      "    Heart Rate  Daily Steps Sleep Disorder  \n",
      "74          72         5000            NaN  \n"
     ]
    }
   ],
   "source": [
    "print(df_sleep.sample())"
   ]
  },
  {
   "cell_type": "code",
   "execution_count": 2575,
   "metadata": {},
   "outputs": [
    {
     "name": "stdout",
     "output_type": "stream",
     "text": [
      "<class 'pandas.core.frame.DataFrame'>\n",
      "RangeIndex: 374 entries, 0 to 373\n",
      "Data columns (total 13 columns):\n",
      " #   Column                   Non-Null Count  Dtype  \n",
      "---  ------                   --------------  -----  \n",
      " 0   Person ID                374 non-null    int64  \n",
      " 1   Gender                   374 non-null    object \n",
      " 2   Age                      374 non-null    int64  \n",
      " 3   Occupation               374 non-null    object \n",
      " 4   Sleep Duration           374 non-null    float64\n",
      " 5   Quality of Sleep         374 non-null    int64  \n",
      " 6   Physical Activity Level  374 non-null    int64  \n",
      " 7   Stress Level             374 non-null    int64  \n",
      " 8   BMI Category             374 non-null    object \n",
      " 9   Blood Pressure           374 non-null    object \n",
      " 10  Heart Rate               374 non-null    int64  \n",
      " 11  Daily Steps              374 non-null    int64  \n",
      " 12  Sleep Disorder           155 non-null    object \n",
      "dtypes: float64(1), int64(7), object(5)\n",
      "memory usage: 38.1+ KB\n",
      "None\n"
     ]
    }
   ],
   "source": [
    "print(df_sleep.info())"
   ]
  },
  {
   "cell_type": "code",
   "execution_count": 2576,
   "metadata": {},
   "outputs": [
    {
     "name": "stdout",
     "output_type": "stream",
     "text": [
      "Person ID                    0\n",
      "Gender                       0\n",
      "Age                          0\n",
      "Occupation                   0\n",
      "Sleep Duration               0\n",
      "Quality of Sleep             0\n",
      "Physical Activity Level      0\n",
      "Stress Level                 0\n",
      "BMI Category                 0\n",
      "Blood Pressure               0\n",
      "Heart Rate                   0\n",
      "Daily Steps                  0\n",
      "Sleep Disorder             219\n",
      "dtype: int64\n"
     ]
    }
   ],
   "source": [
    "print(df_sleep.isna().sum())"
   ]
  },
  {
   "cell_type": "markdown",
   "metadata": {},
   "source": [
    "<hr style=\"height: 0; box-shadow: 0 0 5px 4px dodgerblue; width: 85%;\">"
   ]
  },
  {
   "cell_type": "markdown",
   "metadata": {},
   "source": [
    "### **_Choose Predictors_**"
   ]
  },
  {
   "cell_type": "markdown",
   "metadata": {},
   "source": [
    "Outcome/target variable: `Sleep Duration` (hours)."
   ]
  },
  {
   "cell_type": "code",
   "execution_count": 2577,
   "metadata": {},
   "outputs": [],
   "source": [
    "# Get rid of:\n",
    "df_sleep = df_sleep.drop(\n",
    "    columns=[\n",
    "        \"Person ID\",\n",
    "        \"Gender\",\n",
    "        \"Occupation\",\n",
    "        \"BMI Category\",\n",
    "        \"Blood Pressure\",\n",
    "        \"Heart Rate\",\n",
    "        \"Daily Steps\",\n",
    "        \"Sleep Disorder\",\n",
    "    ],\n",
    ")"
   ]
  },
  {
   "cell_type": "code",
   "execution_count": 2578,
   "metadata": {},
   "outputs": [],
   "source": [
    "# Keep:\n",
    "col_names = [\n",
    "    \"Age\",\n",
    "    \"Quality of Sleep\",\n",
    "    \"Physical Activity Level\",\n",
    "    \"Stress Level\",\n",
    "]\n",
    "\n",
    "col_names = [\"Intercept\"] + col_names"
   ]
  },
  {
   "cell_type": "markdown",
   "metadata": {},
   "source": [
    "<hr style=\"height: 0; box-shadow: 0 0 5px 4px crimson; width: 95%;\">\n"
   ]
  },
  {
   "cell_type": "markdown",
   "metadata": {},
   "source": [
    "## **_Fit the Model and Compute_**"
   ]
  },
  {
   "cell_type": "code",
   "execution_count": 2579,
   "metadata": {},
   "outputs": [],
   "source": [
    "# Dataset columns to use:\n",
    "df_X = df_sleep[col_names[1:]].copy()\n",
    "\n",
    "# Convert columns to NumPy:\n",
    "X_cols = df_X.to_numpy(float)"
   ]
  },
  {
   "cell_type": "code",
   "execution_count": 2580,
   "metadata": {},
   "outputs": [],
   "source": [
    "# Provide baseline value vector:\n",
    "intercept = np.ones(len(df_sleep), dtype=float)"
   ]
  },
  {
   "cell_type": "code",
   "execution_count": 2581,
   "metadata": {},
   "outputs": [],
   "source": [
    "# Build Design Matrix:\n",
    "X = np.column_stack([intercept, X_cols])\n",
    "\n",
    "# Instantiate outcome vector:\n",
    "y = df_sleep[\"Sleep Duration\"].to_numpy(float)"
   ]
  },
  {
   "cell_type": "code",
   "execution_count": 2582,
   "metadata": {},
   "outputs": [],
   "source": [
    "# Fit the model and compute:\n",
    "beta = np.linalg.lstsq(X, y, rcond=None)[0]"
   ]
  },
  {
   "cell_type": "markdown",
   "metadata": {},
   "source": [
    "<hr style=\"height: 0; box-shadow: 0 0 5px 4px crimson; width: 95%;\">\n"
   ]
  },
  {
   "cell_type": "markdown",
   "metadata": {},
   "source": [
    "## **_Data Analysis_**\n",
    "\n",
    "_Utilizing unstandarized betas..._"
   ]
  },
  {
   "cell_type": "code",
   "execution_count": 2583,
   "metadata": {},
   "outputs": [
    {
     "name": "stdout",
     "output_type": "stream",
     "text": [
      "R^2 (proportion of variance explained): 0.79\n",
      "=> 1 indicates a better fit.\n",
      "0 <= indicates a poor fit.\n"
     ]
    }
   ],
   "source": [
    "# Predicted/fitted values:\n",
    "y_hat = X @ beta\n",
    "\n",
    "# Errors:\n",
    "resid = y - y_hat\n",
    "\n",
    "# Coefficient of determination:\n",
    "r2 = 1 - sum(resid**2) / sum((y - np.mean(y))**2)\n",
    "\n",
    "print(f\"R^2 (proportion of variance explained): {r2:.2f}\")\n",
    "print(\"=> 1 indicates a better fit.\")\n",
    "print(\"0 <= indicates a poor fit.\")"
   ]
  },
  {
   "cell_type": "markdown",
   "metadata": {},
   "source": [
    "The model explains about `79%` of observed variance.\n",
    "\n",
    "~`21%` remains in residuals (noise, error, etc...)"
   ]
  },
  {
   "cell_type": "code",
   "execution_count": 2584,
   "metadata": {},
   "outputs": [],
   "source": [
    "# Pick nice colors for the plot:\n",
    "colors = [\"slateblue\", \"firebrick\", \"darkgoldenrod\", \"forestgreen\"]\n",
    "\n",
    "col_labels = [\n",
    "    \"Age (yrs)\",\n",
    "    \"Quality of Sleep (1-10)\",\n",
    "    \"Physical Activity Level (min per day)\",\n",
    "    \"Stress Level (1-10)\",\n",
    "]"
   ]
  },
  {
   "cell_type": "code",
   "execution_count": 2585,
   "metadata": {},
   "outputs": [
    {
     "data": {
      "image/png": "[encoded data removed]",
      "text/plain": [
       "<Figure size 500x1700 with 4 Axes>"
      ]
     },
     "metadata": {},
     "output_type": "display_data"
    }
   ],
   "source": [
    "# Populate subplots with relationship of each X column\n",
    "#  to outcome:\n",
    "fig, ax = plt.subplots(4, 1, figsize=(5, 17))\n",
    "\n",
    "for i in range(len(col_names[1:])):\n",
    "    ax[i].plot(X[:, i + 1], y, \"o\", color=colors[i], alpha=0.45)\n",
    "    ax[i].set_xlabel(f\"{col_labels[i]}\\n\\n\")\n",
    "    ax[i].set_ylabel(\"Sleep Duration (hrs)\")\n",
    "\n",
    "sup_title = \"Sleep/Health/Lifestyle Data Analysis\"\n",
    "sup_title += \"\\nvia Least Squares Modeling\\n\"\n",
    "plt.suptitle(sup_title, size=16)\n",
    "plt.tight_layout()\n",
    "plt.show()    "
   ]
  },
  {
   "cell_type": "code",
   "execution_count": 2586,
   "metadata": {},
   "outputs": [
    {
     "data": {
      "text/plain": [
       "Stress Level              -0.063190\n",
       "Age                       -0.009420\n",
       "Physical Activity Level    0.002801\n",
       "Quality of Sleep           0.525839\n",
       "Intercept                  3.858628\n",
       "dtype: float64"
      ]
     },
     "execution_count": 2586,
     "metadata": {},
     "output_type": "execute_result"
    }
   ],
   "source": [
    "# Coefficients with labels:\n",
    "beta_coef_dict = dict(zip(col_names, beta))\n",
    "pd.Series(beta_coef_dict).sort_values()"
   ]
  },
  {
   "cell_type": "markdown",
   "metadata": {},
   "source": [
    "##### **_`Sleep Quality`:_**\n",
    "\n",
    "-   `Sleep Duration` is most strongly associated with **Sleep Quality**.\n",
    "\n",
    "-   Each one-point increase in quality predicts **~`0.53` hours** (~`32` min) change in sleep.\n",
    "\n",
    "-   **NOTICEABLE INCREASE IN SLEEP DURATION AS SLEEP QUALITY INCREASES.**"
   ]
  },
  {
   "cell_type": "markdown",
   "metadata": {},
   "source": [
    "##### **_`Stress Level`:_**\n",
    "\n",
    "-   Each additional point of stress predicts **~`–0.06` hours** (~`-4` min) change in sleep.\n",
    "\n",
    "-   **SMALL DECREASE IN SLEEP DURATION AS STRESS INCREASES.**"
   ]
  },
  {
   "cell_type": "markdown",
   "metadata": {},
   "source": [
    "##### **_`Age`:_**\n",
    "\n",
    "-   About **`–0.009` hours** (~`32` s) change in sleep per additional year of age.\n",
    "\n",
    "-   **VERY SMALL DECREASE IN SLEEP DURATION AS AGE INCREASES.**"
   ]
  },
  {
   "cell_type": "markdown",
   "metadata": {},
   "source": [
    "##### **_`Physical Activity`:_**\n",
    "\n",
    "-   About **`+0.003` hours** (~`11` s) change in sleep per minute of activity. Essentially no effect.\n",
    "\n",
    "-   **VERY, VERY SMALL INCREASE IN SLEEP DURATION WITH MORE PHYSICAL ACTIVITY.**\n",
    "\n",
    "-   The weakest association, smallest coefficient magnitude."
   ]
  },
  {
   "cell_type": "markdown",
   "metadata": {},
   "source": [
    "_I need a nap._"
   ]
  },
  {
   "cell_type": "markdown",
   "metadata": {},
   "source": [
    "<hr style=\"height: 0; box-shadow: 0 0 5px 4px crimson; width: 95%;\">"
   ]
  },
  {
   "cell_type": "markdown",
   "metadata": {},
   "source": [
    "<hr style=\"height: 0; box-shadow: 0 0 5px 4px dodgerblue; width: 85%;\">"
   ]
  },
  {
   "cell_type": "markdown",
   "metadata": {},
   "source": [
    "<hr style=\"height: 0; box-shadow: 0 0 5px 4px #5EDC1F; width: 75%;\">\n"
   ]
  },
  {
   "cell_type": "markdown",
   "metadata": {},
   "source": [
    "<hr style=\"height: 0; box-shadow: 0 0 5px 4px magenta; width: 65%;\">\n"
   ]
  },
  {
   "cell_type": "markdown",
   "metadata": {},
   "source": [
    "<hr style=\"height: 0; box-shadow: 0 0 5px 4px gold; width: 55%;\">"
   ]
  },
  {
   "cell_type": "markdown",
   "metadata": {},
   "source": [
    "<font size=2>\n",
    "\n",
    "_Andrew Blais, Boston, Massachusetts_\n",
    "\n",
    "GitHub: https://github.com/andrewblais\n",
    "\n",
    "Website/Python Web Development Portfolio: https://www.andrewblais.dev/\n",
    "\n",
    "</font>"
   ]
  },
  {
   "cell_type": "markdown",
   "metadata": {},
   "source": [
    "<font size=1>\n",
    "\n",
    "```python\n",
    "# python\n",
    "```\n",
    "\n",
    "</font>"
   ]
  },
  {
   "cell_type": "markdown",
   "metadata": {},
   "source": [
    "<font size=5 style=\"font-family: Courier; font-weight: 700; text-align: center; color: ivory; text-shadow: orangered 0.05rem 0.05rem 0.65rem, goldenrod 0.05rem -0.05rem 0.65rem, dodgerblue -0.05rem -0.05rem 0.65rem; magenta -0.05rem 0.05rem 0.65rem\">\n",
    "\n",
    "All stable processes we shall predict.\n",
    "<br>\n",
    "\n",
    "<font size=4>_All unstable processes we shall control._</font>\n",
    "\n",
    "<font size=2>_JvN_</font>\n",
    "\n",
    "</font>"
   ]
  }
 ],
 "metadata": {
  "kernelspec": {
   "display_name": "venv",
   "language": "python",
   "name": "python3"
  },
  "language_info": {
   "codemirror_mode": {
    "name": "ipython",
    "version": 3
   },
   "file_extension": ".py",
   "mimetype": "text/x-python",
   "name": "python",
   "nbconvert_exporter": "python",
   "pygments_lexer": "ipython3",
   "version": "3.13.7"
  }
 },
 "nbformat": 4,
 "nbformat_minor": 2
}
