{
 "cells": [
  {
   "cell_type": "markdown",
   "metadata": {},
   "source": [
    "# **_Computing the Matrix Inverse Step by Step_**\n",
    "\n",
    "### **_and comparing with NumPy's `np.linalg.inv()` method..._**"
   ]
  },
  {
   "cell_type": "markdown",
   "metadata": {},
   "source": [
    "<hr style=\"height: 0; box-shadow: 0 0 5px 4px crimson; width: 95%;\">"
   ]
  },
  {
   "cell_type": "markdown",
   "metadata": {},
   "source": [
    "## **_Instructions:_**"
   ]
  },
  {
   "cell_type": "markdown",
   "metadata": {},
   "source": [
    "### **_1. Implement the MCA Algorithm in code._**"
   ]
  },
  {
   "cell_type": "markdown",
   "metadata": {},
   "source": [
    "##### **_M. Compute the MINORS Matrix._**\n",
    "\n",
    "-   Replace each element with the determinant of the sub-matrix formed when exluding that element's row/col."
   ]
  },
  {
   "cell_type": "markdown",
   "metadata": {},
   "source": [
    "##### **_C. Create the COFACTORS Matrix:_**\n",
    "\n",
    "-   Hadamard multiply the minors matrix by a matrix of the same size which is a grid of alternating `+`'s and `-`'s, _i.e._ `+1`'s and `-1`'s, _e.g._:\n",
    "\n",
    "    $$\n",
    "    \\Large\n",
    "        \\begin{bmatrix}\n",
    "            + & - & + \\\\\n",
    "            - & + & - \\\\\n",
    "            + & - & +\n",
    "        \\end{bmatrix}\n",
    "\n",
    "        \\quad \\text{or} \\quad\n",
    "\n",
    "        \\begin{bmatrix}\n",
    "            +1 & -1 & +1 \\\\\n",
    "            -1 & +1 & -1 \\\\\n",
    "            +1 & -1 & +1\n",
    "        \\end{bmatrix}\n",
    "    $$\n",
    "\n",
    "-   The formula for this matrix is $h_{i, j} = (-1)^{i + j}$."
   ]
  },
  {
   "cell_type": "markdown",
   "metadata": {},
   "source": [
    "##### **_A. Compute the ADJUGATE Matrix:_**\n",
    "\n",
    "-   Transpose the adjugate matrix and multiply by `1` over the **DETERMINANT** of the **ORIGINAL MATRIX**.\n",
    "\n",
    "-   This will provide the inverse of the original matrix!\n",
    "\n",
    "-   Remember to compute the determinant of the original matrix before any of the three 'MCA' steps -- if it's `0` there is no valid matrix inverse.\n",
    "\n",
    "-   Only a **FULL-RANK** matrix, one that is not **SINGULAR**, can have an inverse.\n",
    "\n",
    "-   Remember also that if the matrix is not **SQUARE**, there is no inverse.\n"
   ]
  },
  {
   "cell_type": "markdown",
   "metadata": {},
   "source": [
    "<hr style=\"height: 0; box-shadow: 0 0 5px 4px dodgerblue; width: 85%;\">"
   ]
  },
  {
   "cell_type": "markdown",
   "metadata": {},
   "source": [
    "### **_2. Compute the inverse with [NumPy's](https://numpy.org/) `np.linalg.inv()` method._**"
   ]
  },
  {
   "cell_type": "markdown",
   "metadata": {},
   "source": [
    "<hr style=\"height: 0; box-shadow: 0 0 5px 4px dodgerblue; width: 85%;\">"
   ]
  },
  {
   "cell_type": "markdown",
   "metadata": {},
   "source": [
    "### **_3. Compare the results._**"
   ]
  },
  {
   "cell_type": "markdown",
   "metadata": {},
   "source": [
    "-   The difference between the matrix inverse computed manually via the MCA method and the matrix computed with NumPy's `np.linalg.inv()` method should be the `0`'s matrix."
   ]
  },
  {
   "cell_type": "markdown",
   "metadata": {},
   "source": [
    "<hr style=\"height: 0; box-shadow: 0 0 5px 4px crimson; width: 95%;\">"
   ]
  },
  {
   "cell_type": "markdown",
   "metadata": {},
   "source": [
    "This Python Jupyter notebook extrapolates from an exercise in Mike X. Cohen's Linear Algebra course on Udemy.\n",
    "\n",
    "-   Udemy course: https://www.udemy.com/course/linear-algebra-theory-and-implementation\n",
    "\n",
    "-   Professor Cohen's website: https://www.mikexcohen.com/"
   ]
  },
  {
   "cell_type": "markdown",
   "metadata": {},
   "source": [
    "<hr style=\"height: 0; box-shadow: 0 0 5px 4px crimson; width: 95%;\">"
   ]
  },
  {
   "cell_type": "markdown",
   "metadata": {},
   "source": [
    "## **_Go:_**"
   ]
  },
  {
   "cell_type": "code",
   "execution_count": null,
   "metadata": {},
   "outputs": [],
   "source": [
    "import numpy as np"
   ]
  },
  {
   "cell_type": "code",
   "execution_count": 13,
   "metadata": {},
   "outputs": [
    {
     "name": "stdout",
     "output_type": "stream",
     "text": [
      "MCA METHOD, CHECK ACCURACY...\n",
      "A @ A_INV: Should be Identity Matrix (raw):\n",
      "[[ 1.00000000e+00  3.33430664e-17 -4.61924584e-16  1.82870298e-16\n",
      "   1.17653171e-16]\n",
      " [-1.53305947e-16  1.00000000e+00  1.50534229e-16 -4.08304519e-17\n",
      "  -4.32877635e-17]\n",
      " [-1.06268159e-16  4.08321787e-17  1.00000000e+00 -1.92382947e-16\n",
      "  -8.94675474e-17]\n",
      " [-1.72484261e-17  2.49803209e-17  5.72427734e-16  1.00000000e+00\n",
      "  -1.78226608e-16]\n",
      " [-1.76967176e-16 -5.73055070e-17 -1.98091748e-16 -9.92687340e-17\n",
      "   1.00000000e+00]]\n",
      "\n",
      "A @ A_INV: Should be Identity Matrix (rounded):\n",
      "[[ 1.  0. -0.  0.  0.]\n",
      " [-0.  1.  0. -0. -0.]\n",
      " [-0.  0.  1. -0. -0.]\n",
      " [-0.  0.  0.  1. -0.]\n",
      " [-0. -0. -0. -0.  1.]]\n",
      "\n",
      "COMPARE ACCURACY OF MCA METHOD AGAINST NUMPY'S `np.linalg.inv()` METHOD...\n",
      "Difference between matrices, should be 0's (raw):\n",
      "[[ 2.22044605e-16 -1.11022302e-16  4.44089210e-16  1.38777878e-16\n",
      "  -5.55111512e-17]\n",
      " [ 0.00000000e+00 -5.55111512e-17 -1.11022302e-16  0.00000000e+00\n",
      "   5.55111512e-17]\n",
      " [ 5.55111512e-17  5.55111512e-17  0.00000000e+00 -1.38777878e-17\n",
      "   6.93889390e-18]\n",
      " [-1.11022302e-16  2.77555756e-17  0.00000000e+00 -1.66533454e-16\n",
      "   0.00000000e+00]\n",
      " [-1.11022302e-16  1.11022302e-16  0.00000000e+00 -3.33066907e-16\n",
      "  -1.11022302e-16]]\n",
      "\n",
      "Difference between matrices, should be 0's (rounded):\n",
      "[[ 0. -0.  0.  0. -0.]\n",
      " [ 0. -0. -0.  0.  0.]\n",
      " [ 0.  0.  0. -0.  0.]\n",
      " [-0.  0.  0. -0.  0.]\n",
      " [-0.  0.  0. -0. -0.]]\n",
      "\n"
     ]
    }
   ],
   "source": [
    "# Indicate dimensionality:\n",
    "N = 5\n",
    "\n",
    "# Original Matrix:\n",
    "A = np.random.randn(N, N)\n",
    "\n",
    "# Instantiate Minors Matrix to populate:\n",
    "A_MIN = np.zeros((N, N))\n",
    "\n",
    "# Populate A_MIN with determinants of\n",
    "#  submatrices comprising excluded rows\n",
    "#  and cols:\n",
    "for i in np.nditer(A):\n",
    "    # Indicate which row/col match the \n",
    "    #  current element in the loop:\n",
    "    row, col = np.where(A == i)\n",
    "    # List to index rows of excluded rows:\n",
    "    rows = [r for r in range(N) if r != row]\n",
    "    # List to index rows of excluded columns:\n",
    "    cols = [c for c in range(N) if c != col]\n",
    "    # Indexing returns indicated sub-matrix:\n",
    "    A_SUB = A[rows, :][:, cols]\n",
    "    # Get the determinant:\n",
    "    a_sub_det = np.linalg.det(A_SUB)\n",
    "    # Add det to Minors Matrix at appropriate\n",
    "    #  geography:\n",
    "    A_MIN[row, col] = a_sub_det\n",
    "\n",
    "# Initialize and populate matrix of \n",
    "#  alternating +1's and -1's:\n",
    "A_H = np.zeros((N, N))\n",
    "for i in range(N):\n",
    "    for j in range(N):\n",
    "        # Remember to isolate -1 as per PEMDAS:\n",
    "        A_H[i, j] = (-1) ** (i + j)\n",
    "\n",
    "# Cofactors Matrix as Hadamard product of\n",
    "#  Minors Matrix and +/-'s:\n",
    "A_COF = A_MIN * A_H\n",
    "\n",
    "# Adjugate matrix is transpose of Cofactors\n",
    "#  Matrix:\n",
    "A_ADJ = A_COF.T\n",
    "\n",
    "# Determinant of Original Matrix:\n",
    "a_det = np.linalg.det(A)\n",
    "\n",
    "# Divide the Adjugate by A's det,\n",
    "#  division written explicitly to\n",
    "#  help me remember the formula:\n",
    "A_INV = A_ADJ * (1 / a_det)\n",
    "\n",
    "# Bypass above work by using NumPy's method:\n",
    "A_INV_NP = np.linalg.inv(A)\n",
    "\n",
    "# Print for Identity Matrix with 0's or\n",
    "#  machine-zeros at off-diagonals:\n",
    "ID = A @ A_INV\n",
    "print(\"MCA METHOD, CHECK ACCURACY...\")\n",
    "print(f\"A @ A_INV: Should be Identity Matrix (raw):\\n{ID}\\n\")\n",
    "# With 0's at the off-diags:\n",
    "print(f\"A @ A_INV: Should be Identity Matrix (rounded):\\n{np.round(ID, 13)}\\n\")\n",
    "\n",
    "# If our work was correct, this should produce\n",
    "#  numbers VERY close to 0!\n",
    "HOPEFULLY_MACHINE_ZEROS = A_INV - A_INV_NP\n",
    "print(\"COMPARE ACCURACY OF MCA METHOD AGAINST NUMPY'S `np.linalg.inv()` METHOD...\")\n",
    "print(f\"Difference between matrices, should be 0's (raw):\\n{HOPEFULLY_MACHINE_ZEROS}\\n\")\n",
    "\n",
    "# Actual zeros:\n",
    "print(f\"Difference between matrices, should be 0's (rounded):\\n{np.round(HOPEFULLY_MACHINE_ZEROS, 13)}\\n\")"
   ]
  },
  {
   "cell_type": "markdown",
   "metadata": {},
   "source": [
    "<hr style=\"height: 0; box-shadow: 0 0 5px 4px crimson; width: 95%;\">"
   ]
  },
  {
   "cell_type": "markdown",
   "metadata": {},
   "source": [
    "<hr style=\"height: 0; box-shadow: 0 0 5px 4px dodgerblue; width: 85%;\">"
   ]
  },
  {
   "cell_type": "markdown",
   "metadata": {},
   "source": [
    "<hr style=\"height: 0; box-shadow: 0 0 5px 4px #5EDC1F; width: 75%;\">\n"
   ]
  },
  {
   "cell_type": "markdown",
   "metadata": {},
   "source": [
    "<hr style=\"height: 0; box-shadow: 0 0 5px 4px magenta; width: 65%;\">\n"
   ]
  },
  {
   "cell_type": "markdown",
   "metadata": {},
   "source": [
    "<hr style=\"height: 0; box-shadow: 0 0 5px 4px gold; width: 55%;\">"
   ]
  },
  {
   "cell_type": "markdown",
   "metadata": {},
   "source": [
    "<font size=2>\n",
    "\n",
    "_Andrew Blais, Boston, Massachusetts_\n",
    "\n",
    "GitHub: https://github.com/andrewblais\n",
    "\n",
    "Website/Python Web Development Porfolio: https://www.andrewblais.dev/\n",
    "\n",
    "</font>"
   ]
  }
 ],
 "metadata": {
  "kernelspec": {
   "display_name": "venv",
   "language": "python",
   "name": "python3"
  },
  "language_info": {
   "codemirror_mode": {
    "name": "ipython",
    "version": 3
   },
   "file_extension": ".py",
   "mimetype": "text/x-python",
   "name": "python",
   "nbconvert_exporter": "python",
   "pygments_lexer": "ipython3",
   "version": "3.13.0"
  }
 },
 "nbformat": 4,
 "nbformat_minor": 2
}
