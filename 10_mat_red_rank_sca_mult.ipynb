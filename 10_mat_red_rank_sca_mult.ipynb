{
 "cells": [
  {
   "cell_type": "markdown",
   "metadata": {},
   "source": [
    "# **_Matrix Multiplication:_**\n",
    "\n",
    "### **_1. Creating Reduced-Rank Matrices_**\n",
    "\n",
    "### **_2. Investigating Effect of Scalar on Rank as a Linear Operator_**"
   ]
  },
  {
   "cell_type": "markdown",
   "metadata": {},
   "source": [
    "<hr style=\"height: 0; box-shadow: 0 0 5px 4px crimson; width: 95%;\">"
   ]
  },
  {
   "cell_type": "markdown",
   "metadata": {},
   "source": [
    "## **_Description:_**"
   ]
  },
  {
   "cell_type": "markdown",
   "metadata": {},
   "source": [
    "This Python Jupyter notebook consists of my solutions to exercises from Mike X. Cohen's Linear Algebra course on Udemy.\n",
    "\n",
    "-   Udemy course: https://www.udemy.com/course/linear-algebra-theory-and-implementation\n",
    "\n",
    "-   Professor Cohen's website: https://www.mikexcohen.com/"
   ]
  },
  {
   "cell_type": "markdown",
   "metadata": {},
   "source": [
    "<hr style=\"height: 0; box-shadow: 0 0 5px 4px crimson; width: 95%;\">"
   ]
  },
  {
   "cell_type": "markdown",
   "metadata": {},
   "source": [
    "## **_1. Creating Reduced-Rank Matrices_**"
   ]
  },
  {
   "cell_type": "markdown",
   "metadata": {},
   "source": [
    "#### **_Goal: Create reduced-rank matrices using matrix multiplication._**\n",
    "\n",
    "-   Use matrix multiplication's inner values to determine max rank.\n",
    "\n",
    "-   Use class/OOP structure to manage components."
   ]
  },
  {
   "cell_type": "code",
   "execution_count": 1,
   "metadata": {},
   "outputs": [
    {
     "name": "stdout",
     "output_type": "stream",
     "text": [
      "#  #  #  #  #\n",
      "\n",
      "Your input_rank is too high...\n",
      "Output rank will be equal to `min(input_rows, input_cols`).\n",
      "Input Matrix shape: (7, 3).\n",
      "Input Matrix rank: 23.\n",
      "\n",
      "Building, Calculating, Checking...\n",
      "Output Matrix shape: (7, 3).\n",
      "Output Matrix rank: 3.\n"
     ]
    },
    {
     "data": {
      "text/latex": [
       "$\\displaystyle \\left[\\begin{matrix}-153 & -372 & 181\\\\-219 & -6 & 17\\\\210 & -47 & 31\\\\-36 & -123 & -96\\\\-27 & -375 & 59\\\\-318 & 282 & -201\\\\-62 & 140 & 48\\end{matrix}\\right]$"
      ],
      "text/plain": [
       "[[-153, -372, 181], [-219, -6, 17], [210, -47, 31], [-36, -123, -96], [-27, -375, 59], [-318, 282, -201], [-62, 140, 48]]"
      ]
     },
     "metadata": {},
     "output_type": "display_data"
    },
    {
     "name": "stdout",
     "output_type": "stream",
     "text": [
      "\n",
      "#  #  #  #  #\n",
      "Input Matrix shape: (7, 11).\n",
      "Input Matrix rank: 5.\n",
      "\n",
      "Building, Calculating, Checking...\n",
      "Output Matrix shape: (7, 11).\n",
      "Output Matrix rank: 5.\n"
     ]
    },
    {
     "data": {
      "text/latex": [
       "$\\displaystyle \\left[\\begin{array}{ccccccc}28 & 53 & -69 & 122 & -38 & 90 & -20 & 146 & 146 & -66 & -101\\\\56 & -60 & -34 & 115 & -14 & -57 & -70 & 43 & 142 & -98 & -23\\\\-17 & -124 & -24 & -51 & 75 & -202 & -104 & -164 & 174 & -31 & 80\\\\-5 & -110 & 55 & -93 & 64 & -201 & -77 & -155 & 128 & -39 & 13\\\\25 & -17 & 16 & -5 & 46 & -38 & -13 & 0 & 158 & -76 & -121\\\\-46 & 68 & -32 & 17 & -90 & 79 & -12 & 63 & -98 & 82 & 85\\\\59 & -72 & 163 & -86 & 54 & -134 & 5 & -68 & 66 & -101 & -164\\end{array}\\right]$"
      ],
      "text/plain": [
       "[[28, 53, -69, 122, -38, 90, -20, 146, 146, -66, -101], [56, -60, -34, 115, -14, -57, -70, 43, 142, -98, -23], [-17, -124, -24, -51, 75, -202, -104, -164, 174, -31, 80], [-5, -110, 55, -93, 64, -201, -77, -155, 128, -39, 13], [25, -17, 16, -5, 46, -38, -13, 0, 158, -76, -121], [-46, 68, -32, 17, -90, 79, -12, 63, -98, 82, 85], [59, -72, 163, -86, 54, -134, 5, -68, 66, -101, -164]]"
      ]
     },
     "metadata": {},
     "output_type": "display_data"
    }
   ],
   "source": [
    "import numpy as np\n",
    "from sympy import sympify\n",
    "\n",
    "\n",
    "class ReducedRankMatrix:\n",
    "    def __init__(self, input_rows, input_cols, input_rank, display_matrix=False):\n",
    "        self.input_rows = input_rows\n",
    "        self.input_cols = input_cols\n",
    "        self.input_rank = input_rank\n",
    "        self.display_matrix = display_matrix\n",
    "\n",
    "        self.output_shape = None\n",
    "        self.output_rank = None\n",
    "        self.OUTPUT_MAT_A = None\n",
    "        self.OUTPUT_MAT_B = None\n",
    "        self.OUTPUT_MAT_C = None\n",
    "\n",
    "        self.check_rank()\n",
    "        self.create_rrm()\n",
    "        self.get_stats()\n",
    "        self.display_feedback()\n",
    "\n",
    "    def check_rank(self):\n",
    "        if self.input_rank > (min(self.input_rows, self.input_cols)):\n",
    "            print(\"Your input_rank is too high...\")\n",
    "            print(\"Output rank will be equal to `min(input_rows, input_cols`).\")\n",
    "\n",
    "    def create_rrm(self):\n",
    "        self.OUTPUT_MAT_A = np.random.randint(-10, 11, (self.input_rows, self.input_rank))\n",
    "        self.OUTPUT_MAT_B = np.random.randint(-10, 11, (self.input_rank, self.input_cols))\n",
    "        self.OUTPUT_MAT_C = self.OUTPUT_MAT_A @ self.OUTPUT_MAT_B\n",
    "\n",
    "    def get_stats(self):\n",
    "        self.output_shape = self.OUTPUT_MAT_C.shape\n",
    "        self.output_rank = np.linalg.matrix_rank(self.OUTPUT_MAT_C)\n",
    "\n",
    "    def display_feedback(self):\n",
    "        print(f\"Input Matrix shape: {self.input_rows, self.input_cols}.\")\n",
    "        print(f\"Input Matrix rank: {self.input_rank}.\\n\")\n",
    "        print(\"Building, Calculating, Checking...\")\n",
    "        print(f\"Output Matrix shape: {self.output_shape}.\")\n",
    "        print(f\"Output Matrix rank: {self.output_rank}.\")\n",
    "        if self.display_matrix:\n",
    "            display(sympify(self.OUTPUT_MAT_C))\n",
    "\n",
    "\n",
    "print(\"#  #  #  #  #\\n\")\n",
    "rrm_bad_rank = ReducedRankMatrix(input_rows=7, input_cols=3, input_rank=23, display_matrix=True)\n",
    "print(\"\\n#  #  #  #  #\")\n",
    "rrm_good_rank = ReducedRankMatrix(input_rows=7, input_cols=11, input_rank=5, display_matrix=True)"
   ]
  },
  {
   "cell_type": "markdown",
   "metadata": {},
   "source": [
    "<hr style=\"height: 0; box-shadow: 0 0 5px 4px dodgerblue; width: 85%;\">"
   ]
  },
  {
   "cell_type": "markdown",
   "metadata": {},
   "source": [
    "## **_2. Investigating Effect of Scalar on Rank as a Linear Operator_**"
   ]
  },
  {
   "cell_type": "markdown",
   "metadata": {},
   "source": [
    "#### **_Question: is matrix rank invariant to scalar multiplication?_**"
   ]
  },
  {
   "cell_type": "code",
   "execution_count": 2,
   "metadata": {},
   "outputs": [
    {
     "name": "stdout",
     "output_type": "stream",
     "text": [
      "Stats for initial data:\n",
      "F shape=(20, 20), rank=20\n",
      "R shape=(20, 20), rank=3\n",
      "Scalar l=6.\n",
      "\n",
      "Comparing for F:\n",
      "rank(F * l) = 20\n",
      "l * rank(F) = 120\n",
      "Matrix rank IS NOT invariant to scalar multiplication.\n",
      "\n",
      "Comparing for R:\n",
      "rank(R * l) = 3\n",
      "l * rank(R) = 18\n",
      "Matrix rank IS NOT invariant to scalar multiplication.\n"
     ]
    }
   ],
   "source": [
    "import numpy as np\n",
    "\n",
    "m = np.random.randint(10, 21)\n",
    "\n",
    "F = np.random.randn(m, m)\n",
    "\n",
    "# Build R:\n",
    "rr = np.random.randint(2, 9)  # rr -> 'reduced rank'\n",
    "R_A = np.random.randn(m, rr)\n",
    "R_B = np.random.randn(rr, m)\n",
    "R = R_A @ R_B\n",
    "\n",
    "# Print stats for initial data:\n",
    "print(\"Stats for initial data:\")\n",
    "F_shape = F.shape\n",
    "F_rank = np.linalg.matrix_rank(F)\n",
    "print(f\"F shape={F_shape}, rank={F_rank}\")\n",
    "R_shape = R.shape\n",
    "R_rank = np.linalg.matrix_rank(R)\n",
    "print(f\"R shape={R_shape}, rank={R_rank}\")\n",
    "\n",
    "# Create and print scalar:\n",
    "l = np.random.randint(3, 12)\n",
    "print(f\"Scalar l={l}.\")\n",
    "\n",
    "print()\n",
    "\n",
    "# Get rank after matrix-scalar multiplication from\n",
    "#  'outside' and 'inside' position of scalar:\n",
    "F_rank_inside = np.linalg.matrix_rank(F * l)\n",
    "F_rank_outside = l * np.linalg.matrix_rank(F)\n",
    "R_rank_inside = np.linalg.matrix_rank(R * l)\n",
    "R_rank_outside = l * np.linalg.matrix_rank(R)\n",
    "\n",
    "# Compare for F and draw conclusions:\n",
    "print(\"Comparing for F:\")\n",
    "print(f\"rank(F * l) = {F_rank_inside}\")\n",
    "print(f\"l * rank(F) = {F_rank_outside}\")\n",
    "if F_rank_inside == F_rank_outside:\n",
    "    print(\"Matrix rank IS invariant to scalar multiplication.\")\n",
    "else:\n",
    "    print(\"Matrix rank IS NOT invariant to scalar multiplication.\")\n",
    "\n",
    "print()\n",
    "\n",
    "# Compare for R and draw conclusions:\n",
    "print(\"Comparing for R:\")\n",
    "print(f\"rank(R * l) = {R_rank_inside}\")\n",
    "print(f\"l * rank(R) = {R_rank_outside}\")\n",
    "if R_rank_inside == R_rank_outside:\n",
    "    print(\"Matrix rank IS invariant to scalar multiplication.\")\n",
    "else:\n",
    "    print(\"Matrix rank IS NOT invariant to scalar multiplication.\")"
   ]
  },
  {
   "cell_type": "markdown",
   "metadata": {},
   "source": [
    "#### **_Conclusions:_**\n",
    "\n",
    "1. Matrix rank IS NOT invariant to scalar multiplication, with the exception of a scalar `=0`, which will create a rank $0$ matrix.\n",
    "\n",
    "2. Matrix rank will remain the same if we multiply that matrix by any scalar except `0`.\n",
    "\n",
    "3. `l * rank(F)` leaves us with a different value than `rank(l * F)`. This value grows larger/smaller with its scalar.\n",
    "\n",
    "#### **_Questions:_**\n",
    "\n",
    "1. What are some of the uses/implications value obtained with `l * rank(F)`? \n",
    "\n",
    "2. What does this value tell us about the matrix or scalar?\n",
    "\n",
    "3. Is this value a tool/method of insight for some specific task?"
   ]
  },
  {
   "cell_type": "markdown",
   "metadata": {},
   "source": [
    "<hr style=\"height: 0; box-shadow: 0 0 5px 4px crimson; width: 95%;\">"
   ]
  },
  {
   "cell_type": "markdown",
   "metadata": {},
   "source": [
    "<hr style=\"height: 0; box-shadow: 0 0 5px 4px dodgerblue; width: 85%;\">"
   ]
  },
  {
   "cell_type": "markdown",
   "metadata": {},
   "source": [
    "<hr style=\"height: 0; box-shadow: 0 0 5px 4px #5EDC1F; width: 75%;\">\n"
   ]
  },
  {
   "cell_type": "markdown",
   "metadata": {},
   "source": [
    "<hr style=\"height: 0; box-shadow: 0 0 5px 4px magenta; width: 65%;\">\n"
   ]
  },
  {
   "cell_type": "markdown",
   "metadata": {},
   "source": [
    "<hr style=\"height: 0; box-shadow: 0 0 5px 4px gold; width: 55%;\">"
   ]
  },
  {
   "cell_type": "markdown",
   "metadata": {},
   "source": [
    "<font size=2>\n",
    "\n",
    "_Andrew Blais, Boston, Massachusetts_\n",
    "\n",
    "GitHub: https://github.com/andrewblais\n",
    "\n",
    "Website/Python Web Development Porfolio: https://www.andrewblais.dev/\n",
    "\n",
    "</font>"
   ]
  }
 ],
 "metadata": {
  "kernelspec": {
   "display_name": "venv",
   "language": "python",
   "name": "python3"
  },
  "language_info": {
   "codemirror_mode": {
    "name": "ipython",
    "version": 3
   },
   "file_extension": ".py",
   "mimetype": "text/x-python",
   "name": "python",
   "nbconvert_exporter": "python",
   "pygments_lexer": "ipython3",
   "version": "3.13.0"
  }
 },
 "nbformat": 4,
 "nbformat_minor": 2
}
