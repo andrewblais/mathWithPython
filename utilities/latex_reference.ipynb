{
 "cells": [
  {
   "cell_type": "markdown",
   "metadata": {},
   "source": [
    "# **_Just a Few LaTeX Syntax Examples_**\n",
    "\n",
    "## **_for use in Jupyter Notebooks/Markdown_**\n",
    "\n",
    "#### **_Relies on MathJax, so formulas and mathematical commands only._**"
   ]
  },
  {
   "cell_type": "markdown",
   "metadata": {},
   "source": [
    "-   [**_Overleaf_**](https://www.overleaf.com/learn)\n",
    "\n",
    "-   [**_wikibooks_**](https://en.wikibooks.org/wiki/LaTeX/Mathematics)\n",
    "\n",
    "-   [**_wikibooks fonts_**](https://en.wikibooks.org/wiki/LaTeX/Fonts#Font_styles)\n",
    "\n",
    "-   [**_ashki_**](https://ashki23.github.io/markdown-latex.html#latex)"
   ]
  },
  {
   "cell_type": "markdown",
   "metadata": {},
   "source": [
    "<hr style=\"height: 0; box-shadow: 0 0 5px 4px crimson; width: 95%;\">"
   ]
  },
  {
   "cell_type": "markdown",
   "metadata": {},
   "source": [
    "## **_Common Symbols:_**"
   ]
  },
  {
   "cell_type": "markdown",
   "metadata": {},
   "source": [
    "$$\n",
    "\\large\n",
    "    \\begin{align*}\n",
    "        \\textsf{plus: }1 + 2 \\\\\n",
    "        \\textsf{minus: }1 - 2 \\\\\n",
    "        \\textsf{divide (slash): }1 / 2 \\\\\n",
    "        \\textsf{square root: }\\sqrt{12} \\\\\n",
    "        \\textsf{infinity: }\\infty \\\\\n",
    "        \\textsf{ergo/therefore: }\\therefore \\\\\n",
    "        \\textsf{multiply: }1 \\times 2 \\\\\n",
    "        \\textsf{divide simple: }1 \\div 2 \\\\\n",
    "        \\textsf{divide (fraction): }\\frac{1}{2} \\\\\n",
    "    \\end{align*}\n",
    "$$"
   ]
  },
  {
   "cell_type": "markdown",
   "metadata": {},
   "source": [
    "```latex\n",
    "\\large\n",
    "    \\begin{align*}\n",
    "        \\textsf{plus: }1 + 2 \\\\\n",
    "        \\textsf{minus: }1 - 2 \\\\\n",
    "        \\textsf{divide (slash): }1 / 2 \\\\\n",
    "        \\textsf{square root: }\\sqrt{12} \\\\\n",
    "        \\textsf{infinity: }\\infty \\\\\n",
    "        \\textsf{ergo/therefore: }\\therefore \\\\\n",
    "        \\textsf{multiply: }1 \\times 2 \\\\\n",
    "        \\textsf{divide simple: }1 \\div 2 \\\\\n",
    "        \\textsf{divide (fraction): }\\frac{1}{2} \\\\\n",
    "    \\end{align*}\n",
    "```    "
   ]
  },
  {
   "cell_type": "markdown",
   "metadata": {},
   "source": [
    "<hr style=\"height: 0; box-shadow: 0 0 5px 4px crimson; width: 95%;\">"
   ]
  },
  {
   "cell_type": "markdown",
   "metadata": {},
   "source": [
    "## **_Spacing:_**"
   ]
  },
  {
   "cell_type": "markdown",
   "metadata": {},
   "source": [
    "$$\n",
    "\\huge\n",
    "    1 \\! 2 \\, 3 \\: 4 \\; 5 \\ 6 \\quad 7 \\qquad 8\n",
    "$$\n",
    "\n",
    "```LaTeX\n",
    "1 \\! 2 \\, 3 \\: 4 \\; 5 \\ 6 \\quad 7 \\qquad 8\n",
    "```"
   ]
  },
  {
   "cell_type": "markdown",
   "metadata": {},
   "source": [
    "-   `\\!` -3/18 of \\quad (= -3 mu)\n",
    "\n",
    "-   `\\,` 3/18 of \\quad (= 3 mu)\n",
    "\n",
    "-   `\\:` 4/18 of \\quad (= 4 mu)\n",
    "\n",
    "-   `\\;` 5/18 of \\quad (= 5 mu)\n",
    "\n",
    "-   `\\` (space after backslash!) equivalent of space in normal text\n",
    "\n",
    "-   `\\quad` space equal to the current font size (= 18 mu)\n",
    "\n",
    "-   `\\qquad` twice of \\quad (= 36 mu)"
   ]
  },
  {
   "cell_type": "markdown",
   "metadata": {},
   "source": [
    "<hr style=\"height: 0; box-shadow: 0 0 5px 4px crimson; width: 95%;\">"
   ]
  },
  {
   "cell_type": "markdown",
   "metadata": {},
   "source": [
    "## **_Text Sizing:_**"
   ]
  },
  {
   "cell_type": "markdown",
   "metadata": {},
   "source": [
    "-   $\\tiny{tiny}$\n",
    "\n",
    "-   $\\scriptsize{scriptsize}$\n",
    "\n",
    "-   $\\footnotesize{footnotesize}$\n",
    "\n",
    "-   $\\small{small}$\n",
    "\n",
    "-   $\\normalsize{normalsize}$\n",
    "\n",
    "-   $\\large{large}$\n",
    "\n",
    "-   $\\Large{Large}$\n",
    "\n",
    "-   $\\LARGE{LARGE}$\n",
    "\n",
    "-   $\\huge{huge}$\n",
    "\n",
    "-   $\\Huge{Huge}$"
   ]
  },
  {
   "cell_type": "markdown",
   "metadata": {},
   "source": [
    "```latex\n",
    "\\tiny{tiny}\n",
    "\n",
    "\\scriptsize{scriptsize}\n",
    "\n",
    "\\footnotesize{footnotesize}\n",
    "\n",
    "\\small{small}\n",
    "\n",
    "\\normalsize{normalsize}\n",
    "\n",
    "\\large{large}\n",
    "\n",
    "\\Large{Large}\n",
    "\n",
    "\\LARGE{LARGE}\n",
    "\n",
    "\\huge{huge}\n",
    "\n",
    "\\Huge{Huge}\n",
    "```"
   ]
  },
  {
   "cell_type": "markdown",
   "metadata": {},
   "source": [
    "<hr style=\"height: 0; box-shadow: 0 0 5px 4px crimson; width: 95%;\">"
   ]
  },
  {
   "cell_type": "markdown",
   "metadata": {},
   "source": [
    "## **_Limit:_**"
   ]
  },
  {
   "cell_type": "markdown",
   "metadata": {},
   "source": [
    "\\begin{equation}\n",
    "    \\huge\n",
    "        \\begin{gathered}\n",
    "            \\lim_{x \\to \\infty} f(x)\n",
    "        \\end{gathered}\n",
    "\\end{equation}"
   ]
  },
  {
   "cell_type": "markdown",
   "metadata": {},
   "source": [
    "```latex\n",
    "\\begin{equation}\n",
    "    \\huge\n",
    "        \\begin{gathered}\n",
    "            \\lim_{x \\to a} f(x)\n",
    "        \\end{gathered}\n",
    "\\end{equation}\n",
    "```"
   ]
  },
  {
   "cell_type": "markdown",
   "metadata": {},
   "source": [
    "<hr style=\"height: 0; box-shadow: 0 0 5px 4px crimson; width: 95%;\">"
   ]
  },
  {
   "cell_type": "markdown",
   "metadata": {},
   "source": [
    "## **_Limit Inline:_**"
   ]
  },
  {
   "cell_type": "markdown",
   "metadata": {},
   "source": [
    "$\\lim\\limits_{x \\to y}$"
   ]
  },
  {
   "cell_type": "markdown",
   "metadata": {},
   "source": [
    "```latex\n",
    "\\lim\\limits_{x \\to y}\n",
    "```"
   ]
  },
  {
   "cell_type": "markdown",
   "metadata": {},
   "source": [
    "<hr style=\"height: 0; box-shadow: 0 0 5px 4px crimson; width: 95%;\">"
   ]
  },
  {
   "cell_type": "markdown",
   "metadata": {},
   "source": [
    "## **_Ways to Declare LaTeX Cells:_**"
   ]
  },
  {
   "cell_type": "markdown",
   "metadata": {},
   "source": [
    "### **_Inline:_**"
   ]
  },
  {
   "cell_type": "markdown",
   "metadata": {},
   "source": [
    "This is some math here: $1 + -1 = 0$."
   ]
  },
  {
   "cell_type": "markdown",
   "metadata": {},
   "source": [
    "```markdown\n",
    "This is some math here: $1 + -1 = 0$.\n",
    "```"
   ]
  },
  {
   "cell_type": "markdown",
   "metadata": {},
   "source": [
    "<hr style=\"height: 0; box-shadow: 0 0 5px 4px dodgerblue; width: 85%;\">"
   ]
  },
  {
   "cell_type": "markdown",
   "metadata": {},
   "source": [
    "### **_Double Dollar Sign written on One Line (Centered):_**"
   ]
  },
  {
   "cell_type": "markdown",
   "metadata": {},
   "source": [
    "$$1 + -1 = 0$$"
   ]
  },
  {
   "cell_type": "markdown",
   "metadata": {},
   "source": [
    "```latex\n",
    "$$1 + -1 = 0$$\n",
    "```"
   ]
  },
  {
   "cell_type": "markdown",
   "metadata": {},
   "source": [
    "<hr style=\"height: 0; box-shadow: 0 0 5px 4px dodgerblue; width: 85%;\">"
   ]
  },
  {
   "cell_type": "markdown",
   "metadata": {},
   "source": [
    "### **_Double Dollar Sign written on Multiple Lines (Centered):_**"
   ]
  },
  {
   "cell_type": "markdown",
   "metadata": {},
   "source": [
    "$$\n",
    "1 + -1 = 0\n",
    "$$"
   ]
  },
  {
   "cell_type": "markdown",
   "metadata": {},
   "source": [
    "```latex\n",
    "$$\n",
    "1 + -1 = 0\n",
    "$$\n",
    "```"
   ]
  },
  {
   "cell_type": "markdown",
   "metadata": {},
   "source": [
    "<hr style=\"height: 0; box-shadow: 0 0 5px 4px dodgerblue; width: 85%;\">"
   ]
  },
  {
   "cell_type": "markdown",
   "metadata": {},
   "source": [
    "### **_`\\begin{equation}`, written on Single Line (Centered):_**"
   ]
  },
  {
   "cell_type": "markdown",
   "metadata": {},
   "source": [
    "\\begin{equation}1 + -1 = 0\\end{equation}"
   ]
  },
  {
   "cell_type": "markdown",
   "metadata": {},
   "source": [
    "```latex\n",
    "\\begin{equation}1 + -1 = 0\\end{equation}\n",
    "```"
   ]
  },
  {
   "cell_type": "markdown",
   "metadata": {},
   "source": [
    "<hr style=\"height: 0; box-shadow: 0 0 5px 4px dodgerblue; width: 85%;\">"
   ]
  },
  {
   "cell_type": "markdown",
   "metadata": {},
   "source": [
    "### **_`\\begin{equation}`, written on Multiple Lines (Centered):_**"
   ]
  },
  {
   "cell_type": "markdown",
   "metadata": {},
   "source": [
    "\\begin{equation}\n",
    "1 + -1 = 0\n",
    "\\end{equation}"
   ]
  },
  {
   "cell_type": "markdown",
   "metadata": {},
   "source": [
    "```latex\n",
    "\\begin{equation}\n",
    "1 + -1 = 0\n",
    "\\end{equation}\n",
    "```"
   ]
  },
  {
   "cell_type": "markdown",
   "metadata": {},
   "source": [
    "<hr style=\"height: 0; box-shadow: 0 0 5px 4px crimson; width: 95%;\">"
   ]
  },
  {
   "cell_type": "markdown",
   "metadata": {},
   "source": [
    "## **_Gathered:_**\n",
    "\n",
    "### **_Ability to add lots of vertical spacing..._**"
   ]
  },
  {
   "cell_type": "markdown",
   "metadata": {},
   "source": [
    "\\begin{equation}\n",
    "    \\Large\n",
    "        \\begin{gathered}\n",
    "            x^4 + y^4 = 1 \\\\\n",
    "            \\therefore y^4 = 1 - x^4 \\\\ \\\\ \\\\ \\\\\n",
    "            \\therefore y = (1 - x^4)^{1/4}\n",
    "        \\end{gathered}\n",
    "\\end{equation}"
   ]
  },
  {
   "cell_type": "markdown",
   "metadata": {},
   "source": [
    "```latex\n",
    "\\begin{equation}\n",
    "    \\Large\n",
    "        \\begin{gathered}\n",
    "            x^4 + y^4 = 1 \\\\\n",
    "            \\therefore y^4 = 1 - x^4 \\\\ \\\\ \\\\ \\\\\n",
    "            \\therefore y = (1 - x^4)^{1/4}\n",
    "        \\end{gathered}\n",
    "\\end{equation}\n",
    "```"
   ]
  },
  {
   "cell_type": "markdown",
   "metadata": {},
   "source": [
    "\\begin{equation}\n",
    "    \\LARGE\n",
    "        \\begin{gathered}\n",
    "            \\sqrt{Y} = X \\Rightarrow Y = X^2 \\\\\n",
    "            \\sqrt{4} = 2 \\Rightarrow 4 = 2^2\n",
    "        \\end{gathered}\n",
    "\\end{equation}"
   ]
  },
  {
   "cell_type": "markdown",
   "metadata": {},
   "source": [
    "```latex\n",
    "\\begin{equation}\n",
    "    \\LARGE\n",
    "        \\begin{gathered}\n",
    "            \\sqrt{Y} = X \\Rightarrow Y = X^2 \\\\\n",
    "            \\sqrt{4} = 2 \\Rightarrow 4 = 2^2\n",
    "        \\end{gathered}\n",
    "\\end{equation}\n",
    "```"
   ]
  },
  {
   "cell_type": "markdown",
   "metadata": {},
   "source": [
    "<hr style=\"height: 0; box-shadow: 0 0 5px 4px crimson; width: 95%;\">"
   ]
  },
  {
   "cell_type": "markdown",
   "metadata": {},
   "source": [
    "## **_Cases Brackets:_**"
   ]
  },
  {
   "cell_type": "markdown",
   "metadata": {},
   "source": [
    "\\begin{equation}\n",
    "    \\LARGE\n",
    "        \\text{if } k \\in \\mathbb{Z} \\;\n",
    "        \\begin{cases}\n",
    "            line 1\\\\\n",
    "            line 2\\\\\n",
    "        \\end{cases}\n",
    "        \\\\\n",
    "\\end{equation}"
   ]
  },
  {
   "cell_type": "markdown",
   "metadata": {},
   "source": [
    "```latex\n",
    "\\begin{equation}\n",
    "    \\LARGE\n",
    "        \\text{if } k \\in \\mathbb{Z} \\;\n",
    "        \\begin{cases}\n",
    "            line 1\\\\\n",
    "            line 2\\\\\n",
    "        \\end{cases}\n",
    "\\end{equation}\n",
    "```"
   ]
  },
  {
   "cell_type": "markdown",
   "metadata": {},
   "source": [
    "<hr style=\"height: 0; box-shadow: 0 0 5px 4px crimson; width: 95%;\">"
   ]
  },
  {
   "cell_type": "markdown",
   "metadata": {},
   "source": [
    "## **_Align:_**"
   ]
  },
  {
   "cell_type": "markdown",
   "metadata": {},
   "source": [
    "### **_Cumulative Numbering Only:_**"
   ]
  },
  {
   "cell_type": "markdown",
   "metadata": {},
   "source": [
    "$$\n",
    "\\LARGE\n",
    "    \\begin{align*}\n",
    "        400 + 300 = ? \\\\\n",
    "        1 + \\pi = 4x \\\\\n",
    "        1 + 2 + 3 + 4 + 5 = y\n",
    "    \\end{align*}\n",
    "$$"
   ]
  },
  {
   "cell_type": "markdown",
   "metadata": {},
   "source": [
    "```latex\n",
    "\\LARGE\n",
    "    \\begin{align*}\n",
    "        400 + 300 = ? \\\\\n",
    "        1 + \\pi = 4x \\\\\n",
    "        1 + 2 + 3 + 4 + 5 = y\n",
    "    \\end{align*}\n",
    "```"
   ]
  },
  {
   "cell_type": "markdown",
   "metadata": {},
   "source": [
    "<hr style=\"height: 0; box-shadow: 0 0 5px 4px dodgerblue; width: 85%;\">"
   ]
  },
  {
   "cell_type": "markdown",
   "metadata": {},
   "source": [
    "### **_Multiple Numbering:_**"
   ]
  },
  {
   "cell_type": "markdown",
   "metadata": {},
   "source": [
    "$$\n",
    "\\LARGE\n",
    "    \\begin{align}\n",
    "        400 + 300 = ? \\\\\n",
    "        1 + \\pi = 4x \\\\\n",
    "        1 + 2 + 3 + 4 + 5 = y\n",
    "    \\end{align}\n",
    "$$"
   ]
  },
  {
   "cell_type": "code",
   "execution_count": null,
   "metadata": {
    "vscode": {
     "languageId": "plaintext"
    }
   },
   "outputs": [],
   "source": []
  },
  {
   "cell_type": "markdown",
   "metadata": {},
   "source": [
    "```latex\n",
    "$$\n",
    "\\LARGE\n",
    "    \\begin{align}\n",
    "        400 + 300 = ? \\\\\n",
    "        1 + \\pi = 4x \\\\\n",
    "        1 + 2 + 3 + 4 + 5 = y\n",
    "    \\end{align}\n",
    "$$\n",
    "```"
   ]
  },
  {
   "cell_type": "markdown",
   "metadata": {},
   "source": [
    "<hr style=\"height: 0; box-shadow: 0 0 5px 4px dodgerblue; width: 85%;\">"
   ]
  },
  {
   "cell_type": "markdown",
   "metadata": {},
   "source": [
    "### **_`aligned` (Single Numbering):_**"
   ]
  },
  {
   "cell_type": "markdown",
   "metadata": {},
   "source": [
    "\\begin{equation}\n",
    "    \\LARGE\n",
    "        \\begin{aligned}\n",
    "            400 + 300 = ? \\\\\n",
    "            1 + \\pi = 4x \\\\\n",
    "            1 + 2 + 3 + 4 + 5 = y\n",
    "        \\end{aligned}\n",
    "\\end{equation}"
   ]
  },
  {
   "cell_type": "markdown",
   "metadata": {},
   "source": [
    "```latex\n",
    "\\begin{equation}\n",
    "    \\LARGE\n",
    "        \\begin{aligned}\n",
    "            400 + 300 = ? \\\\\n",
    "            1 + \\pi = 4x \\\\\n",
    "            1 + 2 + 3 + 4 + 5 = y\n",
    "        \\end{aligned}\n",
    "\\end{equation}\n",
    "```"
   ]
  },
  {
   "cell_type": "markdown",
   "metadata": {},
   "source": [
    "<hr style=\"height: 0; box-shadow: 0 0 5px 4px crimson; width: 95%;\">"
   ]
  },
  {
   "cell_type": "markdown",
   "metadata": {},
   "source": [
    "## **_`bmatrix` Row Vectors:_**"
   ]
  },
  {
   "cell_type": "markdown",
   "metadata": {},
   "source": [
    "\\begin{equation}\n",
    "    \\huge\n",
    "        \\begin{gathered}\n",
    "            \\begin{bmatrix}\n",
    "                1 & 3 & 2 & 5 & 4\n",
    "            \\end{bmatrix}\n",
    "            \\\\\n",
    "            \\begin{bmatrix}\n",
    "                -1 & -14\n",
    "            \\end{bmatrix}\n",
    "        \\end{gathered}\n",
    "\\end{equation}"
   ]
  },
  {
   "cell_type": "markdown",
   "metadata": {},
   "source": [
    "```latex\n",
    "\\begin{equation}\n",
    "    \\huge\n",
    "        \\begin{gathered}\n",
    "            \\begin{bmatrix}\n",
    "                1 & 3 & 2 & 5 & 4\n",
    "            \\end{bmatrix}\n",
    "            \\\\\n",
    "            \\begin{bmatrix}\n",
    "                -1 & -14\n",
    "            \\end{bmatrix}\n",
    "        \\end{gathered}\n",
    "\\end{equation}\n",
    "```"
   ]
  },
  {
   "cell_type": "markdown",
   "metadata": {},
   "source": [
    "<hr style=\"height: 0; box-shadow: 0 0 5px 4px crimson; width: 95%;\">"
   ]
  },
  {
   "cell_type": "markdown",
   "metadata": {},
   "source": [
    "## **_`bmatrix` Column Vectors:_**"
   ]
  },
  {
   "cell_type": "markdown",
   "metadata": {},
   "source": [
    "\\begin{equation}\n",
    "    \\huge\n",
    "        \\begin{gathered}\n",
    "            \\begin{bmatrix}\n",
    "                3 \\\\ 4\n",
    "            \\end{bmatrix}\n",
    "            \\quad\n",
    "            \\begin{bmatrix}\n",
    "                1 \\\\ 0 \\\\ \\pi \\\\ 5i \\\\ -2\n",
    "            \\end{bmatrix}\n",
    "        \\end{gathered}\n",
    "\\end{equation}"
   ]
  },
  {
   "cell_type": "markdown",
   "metadata": {},
   "source": [
    "```latex\n",
    "\\begin{equation}\n",
    "    \\huge\n",
    "        \\begin{gathered}\n",
    "            \\begin{bmatrix}\n",
    "                3 \\\\ 4\n",
    "            \\end{bmatrix}\n",
    "            \\quad\n",
    "            \\begin{bmatrix}\n",
    "                1 \\\\ 0 \\\\ \\pi \\\\ 5i \\\\ -2\n",
    "            \\end{bmatrix}\n",
    "        \\end{gathered}\n",
    "\\end{equation}\n",
    "```"
   ]
  },
  {
   "cell_type": "markdown",
   "metadata": {},
   "source": [
    "<hr style=\"height: 0; box-shadow: 0 0 5px 4px crimson; width: 95%;\">"
   ]
  },
  {
   "cell_type": "markdown",
   "metadata": {},
   "source": [
    "## **_`pmatrix`:_**"
   ]
  },
  {
   "cell_type": "markdown",
   "metadata": {},
   "source": [
    "\\begin{pmatrix}\n",
    "    1 & 3 & 2 & 5 & 4\n",
    "\\end{pmatrix}"
   ]
  },
  {
   "cell_type": "markdown",
   "metadata": {},
   "source": [
    "```latex\n",
    "\\begin{pmatrix}\n",
    "    1 & 3 & 2 & 5 & 4\n",
    "\\end{pmatrix}\n",
    "```"
   ]
  },
  {
   "cell_type": "markdown",
   "metadata": {},
   "source": [
    "<hr style=\"height: 0; box-shadow: 0 0 5px 4px crimson; width: 95%;\">"
   ]
  },
  {
   "cell_type": "markdown",
   "metadata": {},
   "source": [
    "## **_Inline matrix:_**\n",
    "\n",
    "Here's an inline matrix: $\\begin{bmatrix} 1 & 2 \\end{bmatrix}$."
   ]
  },
  {
   "cell_type": "markdown",
   "metadata": {},
   "source": [
    "```markdown\n",
    "Here's an inline matrix: $\\begin{bmatrix} 1 & 2 \\end{bmatrix}$.\n",
    "```"
   ]
  },
  {
   "cell_type": "markdown",
   "metadata": {},
   "source": [
    "<hr style=\"height: 0; box-shadow: 0 0 5px 4px crimson; width: 95%;\">"
   ]
  },
  {
   "cell_type": "markdown",
   "metadata": {},
   "source": [
    "## **_Summation:_**"
   ]
  },
  {
   "cell_type": "markdown",
   "metadata": {},
   "source": [
    "Inline: $\\sum_{i=1}^{n}$."
   ]
  },
  {
   "cell_type": "markdown",
   "metadata": {},
   "source": [
    "```markdown\n",
    "Inline: $\\sum_{i=1}^{n}$.\n",
    "```"
   ]
  },
  {
   "cell_type": "markdown",
   "metadata": {},
   "source": [
    "<hr style=\"height: 0; box-shadow: 0 0 5px 4px dodgerblue; width: 85%;\">"
   ]
  },
  {
   "cell_type": "markdown",
   "metadata": {},
   "source": [
    "$$\n",
    "\\huge\n",
    "    \\sum_{i=1}^{n}\n",
    "$$"
   ]
  },
  {
   "cell_type": "markdown",
   "metadata": {},
   "source": [
    "```latex\n",
    "$$\n",
    "\\huge\n",
    "    \\sum_{i=1}^{n}\n",
    "$$\n",
    "```"
   ]
  },
  {
   "cell_type": "markdown",
   "metadata": {},
   "source": [
    "<hr style=\"height: 0; box-shadow: 0 0 5px 4px crimson; width: 95%;\">"
   ]
  },
  {
   "cell_type": "markdown",
   "metadata": {},
   "source": [
    "## **_Length/abs value:_**-"
   ]
  },
  {
   "cell_type": "markdown",
   "metadata": {},
   "source": [
    "$$\n",
    "\\LARGE\n",
    "    \\lvert a \\rvert\n",
    "    \\\\\n",
    "    \\left\\Vert a \\right\\Vert\n",
    "$$"
   ]
  },
  {
   "cell_type": "markdown",
   "metadata": {},
   "source": [
    "```latex\n",
    "$$\n",
    "\\LARGE\n",
    "    \\lvert a \\rvert\n",
    "    \\\\\n",
    "    \\left\\Vert a \\right\\Vert\n",
    "$$\n",
    "```"
   ]
  },
  {
   "cell_type": "markdown",
   "metadata": {},
   "source": [
    "<hr style=\"height: 0; box-shadow: 0 0 5px 4px crimson; width: 95%;\">"
   ]
  },
  {
   "cell_type": "markdown",
   "metadata": {},
   "source": [
    "## **Stretchable Brackets:**"
   ]
  },
  {
   "cell_type": "markdown",
   "metadata": {},
   "source": [
    "$$\n",
    "\\LARGE\n",
    "    \\left\\{\n",
    "        \\begin{bmatrix}\n",
    "            0 \\\\ 0 \\\\ 0 \\\\ 2 \\\\ 0\n",
    "        \\end{bmatrix}\n",
    "    \\right\\}\n",
    "$$"
   ]
  },
  {
   "cell_type": "markdown",
   "metadata": {},
   "source": [
    "```latex\n",
    "\\LARGE\n",
    "    \\left\\{\n",
    "        \\begin{bmatrix}\n",
    "            0 \\\\ 0 \\\\ 0 \\\\ 2 \\\\ 0\n",
    "        \\end{bmatrix}\n",
    "    \\right\\}\n",
    "```"
   ]
  },
  {
   "cell_type": "markdown",
   "metadata": {},
   "source": [
    "<hr style=\"height: 0; box-shadow: 0 0 5px 4px dodgerblue; width: 85%;\">"
   ]
  },
  {
   "cell_type": "markdown",
   "metadata": {},
   "source": [
    "$$\n",
    "\\large\n",
    "    \\left[\n",
    "        \\begin{gathered}\n",
    "            1 + 2 = 3 \\\\\n",
    "            1 + 2 = 3 \\\\\n",
    "            1 + 2 = 3 \\\\\n",
    "            1 + 2 = 3 \\\\\n",
    "            1 + 2 = 3 \\\\\n",
    "            1 + 2 = 3 \\\\\n",
    "            1 + 2 = 3 \\\\\n",
    "            1 + 2 = 3 \\\\\n",
    "            1 + 2 = 3 \\\\\n",
    "        \\end{gathered}\n",
    "    \\right]\n",
    "$$"
   ]
  },
  {
   "cell_type": "markdown",
   "metadata": {},
   "source": [
    "```latex\n",
    "$$\n",
    "\\large\n",
    "    \\left[\n",
    "        \\begin{gathered}\n",
    "            1 + 2 = 3 \\\\\n",
    "            1 + 2 = 3 \\\\\n",
    "            1 + 2 = 3 \\\\\n",
    "            1 + 2 = 3 \\\\\n",
    "            1 + 2 = 3 \\\\\n",
    "            1 + 2 = 3 \\\\\n",
    "            1 + 2 = 3 \\\\\n",
    "            1 + 2 = 3 \\\\\n",
    "            1 + 2 = 3 \\\\\n",
    "        \\end{gathered}\n",
    "    \\right]\n",
    "$$\n",
    "```"
   ]
  },
  {
   "cell_type": "markdown",
   "metadata": {},
   "source": [
    "<hr style=\"height: 0; box-shadow: 0 0 5px 4px crimson; width: 95%;\">"
   ]
  },
  {
   "cell_type": "markdown",
   "metadata": {},
   "source": [
    "## **Concatenate/Augment Matrices (Square Cup):**"
   ]
  },
  {
   "cell_type": "markdown",
   "metadata": {},
   "source": [
    "$$\n",
    "\\LARGE\n",
    "    \\sqcup\n",
    "    \\\\\n",
    "    \\bigsqcup\n",
    "$$"
   ]
  },
  {
   "cell_type": "markdown",
   "metadata": {},
   "source": [
    "```latex\n",
    "\\LARGE\n",
    "    \\sqcup\n",
    "    \\\\\n",
    "    \\bigsqcup\n",
    "```"
   ]
  },
  {
   "cell_type": "markdown",
   "metadata": {},
   "source": [
    "<hr style=\"height: 0; box-shadow: 0 0 5px 4px crimson; width: 95%;\">"
   ]
  },
  {
   "cell_type": "markdown",
   "metadata": {},
   "source": [
    "## **Angle Brackets:**"
   ]
  },
  {
   "cell_type": "markdown",
   "metadata": {},
   "source": [
    "$$\n",
    "\\huge\n",
    "    \\langle \n",
    "        \\textbf{Av, w}\n",
    "    \\rangle\n",
    "$$"
   ]
  },
  {
   "cell_type": "markdown",
   "metadata": {},
   "source": [
    "```latex\n",
    "\\huge\n",
    "    \\langle \n",
    "        \\textbf{Av, w}\n",
    "    \\rangle\n",
    "```"
   ]
  },
  {
   "cell_type": "markdown",
   "metadata": {},
   "source": [
    "<hr style=\"height: 0; box-shadow: 0 0 5px 4px crimson; width: 95%;\">"
   ]
  },
  {
   "cell_type": "markdown",
   "metadata": {},
   "source": [
    "## **_Font Stuff:_**"
   ]
  },
  {
   "cell_type": "markdown",
   "metadata": {},
   "source": [
    "$$\n",
    "\\LARGE\n",
    "    \\begin{gathered}\n",
    "        \\textit{italic text}\n",
    "        \\\\\n",
    "        \\textbf{bold text}\n",
    "        \\\\\n",
    "        \\textsf{sans serif}\n",
    "        \\\\\n",
    "        \\textrm{serif}\n",
    "        \\\\\n",
    "        \\mathbb{R}^3\n",
    "    \\end{gathered}\n",
    "$$"
   ]
  },
  {
   "cell_type": "markdown",
   "metadata": {},
   "source": [
    "```latex\n",
    "\\LARGE\n",
    "    \\begin{gathered}\n",
    "        \\textit{italic text}\n",
    "        \\\\\n",
    "        \\textbf{bold text}\n",
    "        \\\\\n",
    "        \\textsf{sans serif}\n",
    "        \\\\\n",
    "        \\textrm{serif}\n",
    "        \\\\\n",
    "        \\mathbb{R}^3\n",
    "    \\end{gathered}\n",
    "```"
   ]
  },
  {
   "cell_type": "markdown",
   "metadata": {},
   "source": [
    "<hr style=\"height: 0; box-shadow: 0 0 5px 4px crimson; width: 95%;\">"
   ]
  },
  {
   "cell_type": "markdown",
   "metadata": {},
   "source": [
    "## **Cross-Out:**"
   ]
  },
  {
   "cell_type": "markdown",
   "metadata": {},
   "source": [
    "$$\n",
    "\\huge\n",
    "    \\not{this}\n",
    "    \\\\\n",
    "    \\cancel{that}\n",
    "$$"
   ]
  },
  {
   "cell_type": "markdown",
   "metadata": {},
   "source": [
    "```latex\n",
    "\\huge\n",
    "    \\not{this}\n",
    "    \\\\\n",
    "    \\cancel{that}\n",
    "```"
   ]
  },
  {
   "cell_type": "markdown",
   "metadata": {},
   "source": [
    "<hr style=\"height: 0; box-shadow: 0 0 5px 4px crimson; width: 95%;\">"
   ]
  },
  {
   "cell_type": "markdown",
   "metadata": {},
   "source": [
    "## **Text Color:**"
   ]
  },
  {
   "cell_type": "markdown",
   "metadata": {},
   "source": [
    "$$\n",
    "\\huge\n",
    "    \\textcolor{red}{\\textsf{Hello }} \\textcolor{blue}{\\textsf{World!}}\n",
    "$$"
   ]
  },
  {
   "cell_type": "markdown",
   "metadata": {},
   "source": [
    "```latex\n",
    "\\huge\n",
    "    \\textcolor{red}{\\textsf{Hello }} \\textcolor{blue}{\\textsf{World!}}\n",
    "```"
   ]
  },
  {
   "cell_type": "markdown",
   "metadata": {},
   "source": [
    "<hr style=\"height: 0; box-shadow: 0 0 5px 4px crimson; width: 95%;\">"
   ]
  },
  {
   "cell_type": "markdown",
   "metadata": {},
   "source": [
    "## **Ceiling Brackets:**"
   ]
  },
  {
   "cell_type": "markdown",
   "metadata": {},
   "source": [
    "$$\n",
    "\\huge\n",
    "    k \\; = \\;\n",
    "    \\left\\lceil\n",
    "        \\frac{1}{x + 1}\n",
    "    \\right\\rceil\n",
    "$$"
   ]
  },
  {
   "cell_type": "markdown",
   "metadata": {},
   "source": [
    "```latex\n",
    "\\huge\n",
    "    k \\; = \\;\n",
    "    \\left\\lceil\n",
    "        \\frac{1}{x + 1}\n",
    "    \\right\\rceil\n",
    "```"
   ]
  },
  {
   "cell_type": "markdown",
   "metadata": {},
   "source": [
    "<hr style=\"height: 0; box-shadow: 0 0 5px 4px crimson; width: 95%;\">"
   ]
  },
  {
   "cell_type": "markdown",
   "metadata": {},
   "source": [
    "## **Sub-Labeling:**"
   ]
  },
  {
   "cell_type": "markdown",
   "metadata": {},
   "source": [
    "$$\n",
    "\\LARGE\n",
    "    \\begin{bmatrix}\n",
    "        -3 \\\\ 1 \\\\ 5\n",
    "    \\end{bmatrix}\n",
    "\n",
    "    \\; = \\;\n",
    "\n",
    "    \\begin{bmatrix}\n",
    "        -1\n",
    "        \\begin{bmatrix}\n",
    "             3 \\\\\n",
    "             5 \\\\\n",
    "             1\n",
    "        \\end{bmatrix}\n",
    "        \\: \\:\n",
    "        3\n",
    "        \\begin{bmatrix}\n",
    "             0 \\\\\n",
    "             2 \\\\\n",
    "             2\n",
    "        \\end{bmatrix}\n",
    "    \\end{bmatrix}\n",
    "\n",
    "    \\; \\Rightarrow \\;\n",
    "\n",
    "    \\underset{\\begin{array}{c} \\scriptsize{3 \\times 2} \\end{array}}\n",
    "    {\\begin{bmatrix}\n",
    "        3 & 0 \\\\\n",
    "        5 & 2 \\\\\n",
    "        1 & 2\n",
    "    \\end{bmatrix}}\n",
    "\n",
    "    \\underset{\\begin{array}{c} \\scriptsize{2 \\times 1} \\end{array}}\n",
    "    {\\begin{bmatrix}\n",
    "        -1 \\\\\n",
    "         3\n",
    "    \\end{bmatrix}}\n",
    "\n",
    "    \\; = \\;\n",
    "\n",
    "    \\underset{\\begin{array}{c} \\scriptsize{3 \\times 1} \\end{array}}\n",
    "    {\\begin{bmatrix}\n",
    "        3 \\\\\n",
    "        1 \\\\\n",
    "        5\n",
    "    \\end{bmatrix}}\n",
    "$$    "
   ]
  },
  {
   "cell_type": "markdown",
   "metadata": {},
   "source": [
    "```latex\n",
    "\\LARGE\n",
    "    \\begin{bmatrix}\n",
    "        -3 \\\\ 1 \\\\ 5\n",
    "    \\end{bmatrix}\n",
    "\n",
    "    \\; = \\;\n",
    "\n",
    "    \\begin{bmatrix}\n",
    "        -1\n",
    "        \\begin{bmatrix}\n",
    "             3 \\\\\n",
    "             5 \\\\\n",
    "             1\n",
    "        \\end{bmatrix}\n",
    "        \\: \\:\n",
    "        3\n",
    "        \\begin{bmatrix}\n",
    "             0 \\\\\n",
    "             2 \\\\\n",
    "             2\n",
    "        \\end{bmatrix}\n",
    "    \\end{bmatrix}\n",
    "\n",
    "    \\; \\Rightarrow \\;\n",
    "\n",
    "    \\underset{\\begin{array}{c} \\scriptsize{3 \\times 2} \\end{array}}\n",
    "    {\\begin{bmatrix}\n",
    "        3 & 0 \\\\\n",
    "        5 & 2 \\\\\n",
    "        1 & 2\n",
    "    \\end{bmatrix}}\n",
    "\n",
    "    \\underset{\\begin{array}{c} \\scriptsize{2 \\times 1} \\end{array}}\n",
    "    {\\begin{bmatrix}\n",
    "        -1 \\\\\n",
    "         3\n",
    "    \\end{bmatrix}}\n",
    "\n",
    "    \\; = \\;\n",
    "\n",
    "    \\underset{\\begin{array}{c} \\scriptsize{3 \\times 1} \\end{array}}\n",
    "    {\\begin{bmatrix}\n",
    "        3 \\\\\n",
    "        1 \\\\\n",
    "        5\n",
    "    \\end{bmatrix}}\n",
    "```"
   ]
  },
  {
   "cell_type": "markdown",
   "metadata": {},
   "source": [
    "<hr style=\"height: 0; box-shadow: 0 0 5px 4px crimson; width: 95%;\">"
   ]
  },
  {
   "cell_type": "markdown",
   "metadata": {},
   "source": [
    "## **_Color Sub-Labeling:_**"
   ]
  },
  {
   "cell_type": "markdown",
   "metadata": {},
   "source": [
    "$$\n",
    "\\Huge\n",
    "    \\underset{\\begin{array}{c} \\normalsize{\\text{\n",
    "        Known \\quad\n",
    "        Unknown\n",
    "        }} \\end{array}}\n",
    "    {\\textbf{\\textsf{A \\quad x}}}\n",
    "    =\n",
    "    \\underset{\\begin{array}{c} \\normalsize{\\text{\n",
    "        Known\n",
    "        }} \\end{array}}\n",
    "    {\\textbf{\\textsf{b}}}\n",
    "$$"
   ]
  },
  {
   "cell_type": "markdown",
   "metadata": {},
   "source": [
    "```latex\n",
    "$$\n",
    "\\Huge\n",
    "    \\underset{\\begin{array}{c} \\normalsize{\\text{\n",
    "        Known \\quad\n",
    "        Unknown\n",
    "        }} \\end{array}}\n",
    "    {\\textbf{\\textsf{A \\quad x}}}\n",
    "    =\n",
    "    \\underset{\\begin{array}{c} \\normalsize{\\text{\n",
    "        Known\n",
    "        }} \\end{array}}\n",
    "    {\\textbf{\\textsf{b}}}\n",
    "$$\n",
    "```    "
   ]
  },
  {
   "cell_type": "markdown",
   "metadata": {},
   "source": [
    "<hr style=\"height: 0; box-shadow: 0 0 5px 4px crimson; width: 95%;\">"
   ]
  },
  {
   "cell_type": "markdown",
   "metadata": {},
   "source": [
    "## **Super-Labeling:**"
   ]
  },
  {
   "cell_type": "markdown",
   "metadata": {},
   "source": [
    "$$\n",
    "\\Large\n",
    "    \\overset{\\begin{array}{c} \\textsf{Column Space} \\end{array}}\n",
    "    {\n",
    "        \\begin{bmatrix}\n",
    "            3 & 0 \\\\\n",
    "            5 & 2 \\\\\n",
    "            1 & 2\n",
    "        \\end{bmatrix}\n",
    "        \\begin{bmatrix}\n",
    "            -1 \\\\\n",
    "            3\n",
    "        \\end{bmatrix}\n",
    "        \\; = \\;\n",
    "        \\begin{bmatrix}\n",
    "            -3 \\\\\n",
    "             1 \\\\\n",
    "             5\n",
    "        \\end{bmatrix}\n",
    "    }\n",
    "\n",
    "    \\quad \\quad\n",
    "    \n",
    "    \\overset{\\begin{array}{c} \\textsf{Row Space} \\end{array}}\n",
    "    {\n",
    "        \\begin{bmatrix}\n",
    "            -1 & 0 & 3\n",
    "        \\end{bmatrix}\n",
    "        \\begin{bmatrix}\n",
    "            3 & 0 \\\\\n",
    "            5 & 2 \\\\\n",
    "            1 & 2\n",
    "        \\end{bmatrix}\n",
    "        \\; = \\;\n",
    "        \\begin{bmatrix}\n",
    "            -0 & 6\n",
    "        \\end{bmatrix}\n",
    "    }\n",
    "$$    "
   ]
  },
  {
   "cell_type": "markdown",
   "metadata": {},
   "source": [
    "```LaTeX\n",
    "\\Large\n",
    "    \\overset{\\begin{array}{c} \\textsf{Column Space} \\end{array}}\n",
    "    {\n",
    "        \\begin{bmatrix}\n",
    "            3 & 0 \\\\\n",
    "            5 & 2 \\\\\n",
    "            1 & 2\n",
    "        \\end{bmatrix}\n",
    "        \\begin{bmatrix}\n",
    "            -1 \\\\\n",
    "            3\n",
    "        \\end{bmatrix}\n",
    "        \\; = \\;\n",
    "        \\begin{bmatrix}\n",
    "            -3 \\\\\n",
    "             1 \\\\\n",
    "             5\n",
    "        \\end{bmatrix}\n",
    "    }\n",
    "\n",
    "    \\quad \\quad\n",
    "    \n",
    "    \\overset{\\begin{array}{c} \\textsf{Row Space} \\end{array}}\n",
    "    {\n",
    "        \\begin{bmatrix}\n",
    "            -1 & 0 & 3\n",
    "        \\end{bmatrix}\n",
    "        \\begin{bmatrix}\n",
    "            3 & 0 \\\\\n",
    "            5 & 2 \\\\\n",
    "            1 & 2\n",
    "        \\end{bmatrix}\n",
    "        \\; = \\;\n",
    "        \\begin{bmatrix}\n",
    "            -0 & 6\n",
    "        \\end{bmatrix}\n",
    "    }\n",
    "```"
   ]
  },
  {
   "cell_type": "markdown",
   "metadata": {},
   "source": [
    "<hr style=\"height: 0; box-shadow: 0 0 5px 4px crimson; width: 95%;\">"
   ]
  },
  {
   "cell_type": "markdown",
   "metadata": {},
   "source": [
    "## **Dots:**"
   ]
  },
  {
   "cell_type": "markdown",
   "metadata": {},
   "source": [
    "$$\n",
    "\\Huge\n",
    "    \\begin{gathered}\n",
    "        1 + \\ldots + 2\n",
    "        \\\\\n",
    "        \\begin{pmatrix}\n",
    "                \\alpha & \\cdots & \\theta \\\\\n",
    "                \\vdots & \\ddots & \\gamma \\\\\n",
    "                \\pi    & \\cdots & \\mathbb{R}^7\n",
    "        \\end{pmatrix}\n",
    "    \\end{gathered}\n",
    "$$"
   ]
  },
  {
   "cell_type": "markdown",
   "metadata": {},
   "source": [
    "```latex\n",
    "$$\n",
    "\\Huge\n",
    "    \\begin{gathered}\n",
    "        1 + \\ldots + 2\n",
    "        \\\\\n",
    "        \\begin{pmatrix}\n",
    "                \\alpha & \\cdots & \\theta \\\\\n",
    "                \\vdots & \\ddots & \\gamma \\\\\n",
    "                \\pi    & \\cdots & \\mathbb{R}^7\n",
    "        \\end{pmatrix}\n",
    "    \\end{gathered}\n",
    "$$\n",
    "```"
   ]
  },
  {
   "cell_type": "markdown",
   "metadata": {},
   "source": [
    "<hr style=\"height: 0; box-shadow: 0 0 5px 4px crimson; width: 95%;\">"
   ]
  },
  {
   "cell_type": "markdown",
   "metadata": {},
   "source": [
    "## **Greek Letters:**"
   ]
  },
  {
   "cell_type": "markdown",
   "metadata": {},
   "source": [
    "$$\n",
    "\\huge\n",
    "    \\begin{matrix}\n",
    "\n",
    "        &\n",
    "        \\underset{\\begin{array}{c} \\scriptsize{\\text{Alpha}} \\end{array}}\n",
    "        { \\Alpha \\alpha }\n",
    "        & &\n",
    "        \\underset{\\begin{array}{c} \\scriptsize{\\text{Beta}} \\end{array}}\n",
    "        { \\Beta \\beta }\n",
    "        & &\n",
    "        \\underset{\\begin{array}{c} \\scriptsize{\\text{Gamma}} \\end{array}}\n",
    "        { \\Gamma \\gamma }\n",
    "        & &\n",
    "        \\underset{\\begin{array}{c} \\scriptsize{\\text{Delta}} \\end{array}}\n",
    "        { \\Delta \\delta }\n",
    "        & &\n",
    "\n",
    "        \\\\ \\\\\n",
    "\n",
    "        &\n",
    "        \\underset{\\begin{array}{c} \\scriptsize{\\text{Epsilon}} \\end{array}}\n",
    "        { \\Epsilon \\epsilon }\n",
    "        & &\n",
    "        \\underset{\\begin{array}{c} \\scriptsize{\\text{Zeta}} \\end{array}}\n",
    "        { \\Zeta \\zeta }\n",
    "        & &\n",
    "        \\underset{\\begin{array}{c} \\scriptsize{\\text{Eta}} \\end{array}}\n",
    "        { \\Eta \\eta }\n",
    "        & &\n",
    "        \\underset{\\begin{array}{c} \\scriptsize{\\text{Theta}} \\end{array}}\n",
    "        { \\Theta \\theta }\n",
    "        & &\n",
    "\n",
    "        \\\\ \\\\\n",
    "\n",
    "        &\n",
    "        \\underset{\\begin{array}{c} \\scriptsize{\\text{Iota}} \\end{array}}\n",
    "        { \\Iota \\iota }\n",
    "        & &\n",
    "        \\underset{\\begin{array}{c} \\scriptsize{\\text{Kappa}} \\end{array}}\n",
    "        { \\Kappa \\kappa }\n",
    "        & &\n",
    "        \\underset{\\begin{array}{c} \\scriptsize{\\text{Lambda}} \\end{array}}\n",
    "        { \\Lambda \\lambda }\n",
    "        & &\n",
    "        \\underset{\\begin{array}{c} \\scriptsize{\\text{Mu}} \\end{array}}\n",
    "        { \\Mu \\mu }\n",
    "        & &\n",
    "\n",
    "        \\\\ \\\\\n",
    "\n",
    "        &\n",
    "        \\underset{\\begin{array}{c} \\scriptsize{\\text{Nu}} \\end{array}}\n",
    "        { \\Nu \\nu }\n",
    "        & &\n",
    "        \\underset{\\begin{array}{c} \\scriptsize{\\text{Xi}} \\end{array}}\n",
    "        { \\Xi \\xi }\n",
    "        & &\n",
    "        \\underset{\\begin{array}{c} \\scriptsize{\\text{Omicron}} \\end{array}}\n",
    "        { \\Omicron \\omicron }\n",
    "        & &\n",
    "        \\underset{\\begin{array}{c} \\scriptsize{\\text{Pi}} \\end{array}}\n",
    "        { \\Pi \\pi }\n",
    "        & &\n",
    "\n",
    "        \\\\ \\\\\n",
    "\n",
    "        &\n",
    "        \\underset{\\begin{array}{c} \\scriptsize{\\text{Rho}} \\end{array}}\n",
    "        { \\Rho \\rho }\n",
    "        & &\n",
    "        \\underset{\\begin{array}{c} \\scriptsize{\\text{Sigma}} \\end{array}}\n",
    "        { \\Sigma \\sigma }\n",
    "        & &\n",
    "        \\underset{\\begin{array}{c} \\scriptsize{\\text{Tau}} \\end{array}}\n",
    "        { \\Tau \\tau }\n",
    "        & &\n",
    "        \\underset{\\begin{array}{c} \\scriptsize{\\text{Upsilon}} \\end{array}}\n",
    "        { \\Upsilon \\upsilon }\n",
    "        & &\n",
    "\n",
    "        \\\\ \\\\\n",
    "\n",
    "        &\n",
    "        \\underset{\\begin{array}{c} \\scriptsize{\\text{Phi}} \\end{array}}\n",
    "        { \\Phi \\phi }\n",
    "        & &\n",
    "        \\underset{\\begin{array}{c} \\scriptsize{\\text{Chi}} \\end{array}}\n",
    "        { \\Chi \\chi }\n",
    "        & &\n",
    "        \\underset{\\begin{array}{c} \\scriptsize{\\text{Psi}} \\end{array}}\n",
    "        { \\Psi \\psi }\n",
    "        & &\n",
    "        \\underset{\\begin{array}{c} \\scriptsize{\\text{Omega}} \\end{array}}\n",
    "        { \\Omega \\omega }\n",
    "        & &\n",
    "\n",
    "        \\\\ \\\\\n",
    "\n",
    "    \\end{matrix}\n",
    "$$"
   ]
  },
  {
   "cell_type": "markdown",
   "metadata": {},
   "source": [
    "```latex\n",
    "$$\n",
    "\\huge\n",
    "    \\begin{matrix}\n",
    "\n",
    "        &\n",
    "        \\underset{\\begin{array}{c} \\scriptsize{\\text{Alpha}} \\end{array}}\n",
    "        { \\Alpha \\alpha }\n",
    "        & &\n",
    "        \\underset{\\begin{array}{c} \\scriptsize{\\text{Beta}} \\end{array}}\n",
    "        { \\Beta \\beta }\n",
    "        & &\n",
    "        \\underset{\\begin{array}{c} \\scriptsize{\\text{Gamma}} \\end{array}}\n",
    "        { \\Gamma \\gamma }\n",
    "        & &\n",
    "        \\underset{\\begin{array}{c} \\scriptsize{\\text{Delta}} \\end{array}}\n",
    "        { \\Delta \\delta }\n",
    "        & &\n",
    "\n",
    "        \\\\ \\\\\n",
    "\n",
    "        &\n",
    "        \\underset{\\begin{array}{c} \\scriptsize{\\text{Epsilon}} \\end{array}}\n",
    "        { \\Epsilon \\epsilon }\n",
    "        & &\n",
    "        \\underset{\\begin{array}{c} \\scriptsize{\\text{Zeta}} \\end{array}}\n",
    "        { \\Zeta \\zeta }\n",
    "        & &\n",
    "        \\underset{\\begin{array}{c} \\scriptsize{\\text{Eta}} \\end{array}}\n",
    "        { \\Eta \\eta }\n",
    "        & &\n",
    "        \\underset{\\begin{array}{c} \\scriptsize{\\text{Theta}} \\end{array}}\n",
    "        { \\Theta \\theta }\n",
    "        & &\n",
    "\n",
    "        \\\\ \\\\\n",
    "\n",
    "        &\n",
    "        \\underset{\\begin{array}{c} \\scriptsize{\\text{Iota}} \\end{array}}\n",
    "        { \\Iota \\iota }\n",
    "        & &\n",
    "        \\underset{\\begin{array}{c} \\scriptsize{\\text{Kappa}} \\end{array}}\n",
    "        { \\Kappa \\kappa }\n",
    "        & &\n",
    "        \\underset{\\begin{array}{c} \\scriptsize{\\text{Lambda}} \\end{array}}\n",
    "        { \\Lambda \\lambda }\n",
    "        & &\n",
    "        \\underset{\\begin{array}{c} \\scriptsize{\\text{Mu}} \\end{array}}\n",
    "        { \\Mu \\mu }\n",
    "        & &\n",
    "\n",
    "        \\\\ \\\\\n",
    "\n",
    "        &\n",
    "        \\underset{\\begin{array}{c} \\scriptsize{\\text{Nu}} \\end{array}}\n",
    "        { \\Nu \\nu }\n",
    "        & &\n",
    "        \\underset{\\begin{array}{c} \\scriptsize{\\text{Xi}} \\end{array}}\n",
    "        { \\Xi \\xi }\n",
    "        & &\n",
    "        \\underset{\\begin{array}{c} \\scriptsize{\\text{Omicron}} \\end{array}}\n",
    "        { \\Omicron \\omicron }\n",
    "        & &\n",
    "        \\underset{\\begin{array}{c} \\scriptsize{\\text{Pi}} \\end{array}}\n",
    "        { \\Pi \\pi }\n",
    "        & &\n",
    "\n",
    "        \\\\ \\\\\n",
    "\n",
    "        &\n",
    "        \\underset{\\begin{array}{c} \\scriptsize{\\text{Rho}} \\end{array}}\n",
    "        { \\Rho \\rho }\n",
    "        & &\n",
    "        \\underset{\\begin{array}{c} \\scriptsize{\\text{Sigma}} \\end{array}}\n",
    "        { \\Sigma \\sigma }\n",
    "        & &\n",
    "        \\underset{\\begin{array}{c} \\scriptsize{\\text{Tau}} \\end{array}}\n",
    "        { \\Tau \\tau }\n",
    "        & &\n",
    "        \\underset{\\begin{array}{c} \\scriptsize{\\text{Upsilon}} \\end{array}}\n",
    "        { \\Upsilon \\upsilon }\n",
    "        & &\n",
    "\n",
    "        \\\\ \\\\\n",
    "\n",
    "        &\n",
    "        \\underset{\\begin{array}{c} \\scriptsize{\\text{Phi}} \\end{array}}\n",
    "        { \\Phi \\phi }\n",
    "        & &\n",
    "        \\underset{\\begin{array}{c} \\scriptsize{\\text{Chi}} \\end{array}}\n",
    "        { \\Chi \\chi }\n",
    "        & &\n",
    "        \\underset{\\begin{array}{c} \\scriptsize{\\text{Psi}} \\end{array}}\n",
    "        { \\Psi \\psi }\n",
    "        & &\n",
    "        \\underset{\\begin{array}{c} \\scriptsize{\\text{Omega}} \\end{array}}\n",
    "        { \\Omega \\omega }\n",
    "        & &\n",
    "\n",
    "        \\\\ \\\\\n",
    "\n",
    "    \\end{matrix}\n",
    "$$\n",
    "```"
   ]
  },
  {
   "cell_type": "markdown",
   "metadata": {},
   "source": [
    "<hr style=\"height: 0; box-shadow: 0 0 5px 4px crimson; width: 95%;\">"
   ]
  },
  {
   "cell_type": "markdown",
   "metadata": {},
   "source": [
    "```latex\n",
    "% LaTeX syntax\n",
    "```"
   ]
  }
 ],
 "metadata": {
  "language_info": {
   "name": "python"
  }
 },
 "nbformat": 4,
 "nbformat_minor": 2
}
