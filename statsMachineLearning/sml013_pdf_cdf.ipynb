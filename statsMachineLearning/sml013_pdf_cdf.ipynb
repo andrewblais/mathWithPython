{
 "cells": [
  {
   "cell_type": "markdown",
   "metadata": {},
   "source": [
    "# **_Building Intuition Around PDFs and CDFs_**"
   ]
  },
  {
   "cell_type": "markdown",
   "metadata": {},
   "source": [
    "<hr style=\"height: 0; box-shadow: 0 0 5px 4px crimson; width: 95%;\">"
   ]
  },
  {
   "cell_type": "markdown",
   "metadata": {},
   "source": [
    "This Python Jupyter Notebook includes my solution to a assignment from the **Probability Theory** section of Mike X. Cohen's Statistics & Machine Learning course on Udemy, along with some other code/analysis I wrote.\n",
    "\n",
    "-   Udemy course: https://www.udemy.com/course/statsml_x\n",
    "\n",
    "-   Mike X. Cohen's website: https://www.mikexcohen.com\n",
    "\n",
    "Creating this notebook provides me with the opportunity to review by explaining what I learned in my own words, provides a handy quick-reference.\n",
    "\n",
    "If you see any errors/problems, please let me know."
   ]
  },
  {
   "cell_type": "markdown",
   "metadata": {},
   "source": [
    "<hr style=\"height: 0; box-shadow: 0 0 5px 4px crimson; width: 95%;\">"
   ]
  },
  {
   "cell_type": "markdown",
   "metadata": {},
   "source": [
    "## **_Goal:_**"
   ]
  },
  {
   "cell_type": "markdown",
   "metadata": {},
   "source": [
    "Take a distribution, calculate and plot some **PROBABILITY DENSITY FUNCTIONS**. Compare with their respective **CUMULATIVE DISTRIBUTION FUNCTIONS**."
   ]
  },
  {
   "cell_type": "markdown",
   "metadata": {},
   "source": [
    "<hr style=\"height: 0; box-shadow: 0 0 5px 4px crimson; width: 95%;\">"
   ]
  },
  {
   "cell_type": "markdown",
   "metadata": {},
   "source": [
    "## **_Review of Core Concepts:_**"
   ]
  },
  {
   "cell_type": "markdown",
   "metadata": {},
   "source": [
    "### **_Probability Mass vs. Probability Density:_**\n",
    "\n",
    "When analyzing **discrete** data use a **PROBABILITY MASS FUNCTION (PMF)**.\n",
    "\n",
    "When analyzing **continuous** data use a **PROBABILITY DENSITY FUNCTION (PDF)**.\n",
    "\n",
    "A PDF doesn't assign probability to specific points as the probability of any single value in a continuous distribution can be measured to an infinitely small degree and therefore is technically zero. Instead, a PDF describes how **LIKELY** values are to occur within **RANGES** — effectively \"binning\" the continuous data to estimate probabilities over intervals."
   ]
  },
  {
   "cell_type": "markdown",
   "metadata": {},
   "source": [
    "<hr style=\"height: 0; box-shadow: 0 0 5px 4px #5EDC1F; width: 70%;\">"
   ]
  },
  {
   "cell_type": "markdown",
   "metadata": {},
   "source": [
    "#### **_Examples of Continuous Data:_**\n",
    "\n",
    "These are measurements that can take on **INFINITELY** many values within any range:\n",
    "\n",
    "-   **_Age of a Tree:_** Whether it's `100`, `100.1`, or `100.01` years — time is continuous.\n",
    "    You can group age into bins (by decade, year, etc.) to estimate probabilities.\n",
    "\n",
    "-   **_Distance of a Satellite from Earth:_** _Iridium Next 103_'s perigee is approximately `610 km`, but really it's `610.xxx km`. That precision goes as deep as your instruments allow.\n",
    "\n",
    "-   **_Amount of Oxygen in a Cubic Foot of Air:_** A real value that can vary continuously with temperature, pressure, etc..."
   ]
  },
  {
   "cell_type": "markdown",
   "metadata": {},
   "source": [
    "<hr style=\"height: 0; box-shadow: 0 0 5px 4px #5EDC1F; width: 70%;\">"
   ]
  },
  {
   "cell_type": "markdown",
   "metadata": {},
   "source": [
    "#### **_Examples of Discrete Data:_**\n",
    "\n",
    "Discrete values are **COUNTABLE** — there's no in-between:\n",
    "\n",
    "-   **_Number of Fingers on a Hand_**: You either have `5`, `4`, `3`, `2`, `1`, or `0`. There’s no such thing as `4.3` fingers, unless your analysis includes the lengths of congenitally anomalous or partially amputated digits, in which case it becomes a continuous variable.\n",
    "\n",
    "-   **_Outcome of a Sports Match:_** `win`, `lose`, or `tie` — a finite set of options.\n",
    "\n",
    "-   **_Roulette Spin Result:_** `Red` or `black`. `1` to `36`, or `0`. No decimals, nothing in between."
   ]
  },
  {
   "cell_type": "markdown",
   "metadata": {},
   "source": [
    "<hr style=\"height: 0; box-shadow: 0 0 5px 4px dodgerblue; width: 80%;\">"
   ]
  },
  {
   "cell_type": "markdown",
   "metadata": {},
   "source": [
    "### **_How PDFs and CDFs Relate to Probability:_**"
   ]
  },
  {
   "cell_type": "markdown",
   "metadata": {},
   "source": [
    "#### **_Probability Density Function (PDF):_**\n",
    "\n",
    "When working with continuous data, a **PROBABILITY DENSITY FUNCTION (PDF)** describes where values are more or less likely to occur.\n",
    "\n",
    "But the probability of any exact value is always `0` in a continuous distribution, since the data allows for infintely small measurements. \n",
    "\n",
    "Therefore probability of continuous data is measured over a **RANGE** by measuring the area **UNDER** the PDF curve between _two points_:\n",
    "\n",
    "$$\n",
    "\\Large\n",
    "P(a \\leq X \\leq b) = \\int_a^b \\text{pdf}(x) dx\n",
    "$$"
   ]
  },
  {
   "cell_type": "markdown",
   "metadata": {},
   "source": [
    "**_n.b._**\n",
    "\n",
    "<font size=4 style=\"color: orangered; font-weight: 400; text-shadow: goldenrod 0.05rem -0.05rem 0.65rem;\">\n",
    "\n",
    "**PDF `y` height at `x`-axis point $\\neq$ probability.**\n",
    "\n",
    "**PDF area under curve within a range $=$ probability.**\n",
    "\n",
    "</font>"
   ]
  },
  {
   "cell_type": "markdown",
   "metadata": {},
   "source": [
    "<hr style=\"height: 0; box-shadow: 0 0 5px 4px #5EDC1F; width: 70%;\">"
   ]
  },
  {
   "cell_type": "markdown",
   "metadata": {},
   "source": [
    "#### **_Cumulative Distribution Function (CDF):_**\n",
    "\n",
    "The CDF shows the total probability accumulated from the far left up to any point `x`:\n",
    "\n",
    "$$\n",
    "CDF(x) = \\int_{-\\infty}^x \\text{pdf}(t) \\; dt\n",
    "$$\n",
    "\n",
    "**_Syntax:_**\n",
    "\n",
    "-   $\\text{cdf}(5.0)$ = total probability that $x \\leq 5.0$\n",
    "\n",
    "-   $1 - \\text{cdf}(5.0)$ = probability that $x > 5.0$\n",
    "\n",
    "-   $\\text{cdf}(b) - \\text{cdf}(a)$ = probability that $x \\in [a, b]$\n",
    "\n",
    "The CDF is a \"running total\" of probability — smooth, continuous, always increasing.\n",
    "\n",
    "This notebook doesn't calculating those probabilities directly. My purpose here is to visualize PDFs and CDFs side by side to understand their shapes and to build intuition around these concepts."
   ]
  },
  {
   "cell_type": "markdown",
   "metadata": {},
   "source": [
    "<font size=4 style=\"color: orangered; font-weight: 400; text-shadow: goldenrod 0.05rem -0.05rem 0.65rem;\">\n",
    "\n",
    "The PDF describes **DENSITY**.\n",
    "\n",
    "The CDF describes **ACCUMULATED LIKELIHOOD**.\n",
    "\n",
    "</font>"
   ]
  },
  {
   "cell_type": "markdown",
   "metadata": {},
   "source": [
    "<hr style=\"height: 0; box-shadow: 0 0 5px 4px crimson; width: 95%;\">"
   ]
  },
  {
   "cell_type": "markdown",
   "metadata": {},
   "source": [
    "## **_The Code:_**"
   ]
  },
  {
   "cell_type": "code",
   "execution_count": null,
   "metadata": {},
   "outputs": [
    {
     "name": "stdout",
     "output_type": "stream",
     "text": [
      "Parameters used in this analysis: {'lognorm_s': 0.5, 'genh_a': 3.7, 'genh_b': 2.77, 'genh_p': -0.77, 'dwei_c': 1.18, 't_df': 2.78, 'f_dfn': 20, 'f_dfd': 12, 'hc_loc': 3.45, 'hc_scale': 1.64}\n",
      "\n"
     ]
    }
   ],
   "source": [
    "from matplotlib.gridspec import GridSpec\n",
    "import matplotlib.pyplot as plt\n",
    "from numpy import linspace\n",
    "from numpy.random import rand, randint, randn\n",
    "from scipy.stats import lognorm, genhyperbolic, dweibull, t, f, halfcauchy\n",
    "\n",
    "N = 3500\n",
    "x = linspace(1, 101, N)  # Domain for evaluating all distributions\n",
    "\n",
    "\n",
    "# * * * # * * * #\n",
    "#  PDF & CDF Processing Utilities\n",
    "# * * * # * * * #\n",
    "dx = x[1] - x[0]  # x-resolution used for PDF normalization\n",
    "\n",
    "\n",
    "def normalize_pdf(dist):\n",
    "    \"\"\"\n",
    "    Normalize a PDF so that the area under the curve sums to 1.\n",
    "\n",
    "    :param dist: Numpy array representing the unnormalized PDF values\n",
    "    :return: Normalized PDF array\n",
    "    \"\"\"\n",
    "    return dist / sum(dist * dx)\n",
    "\n",
    "\n",
    "def get_pdf_cdf(dist_func, *, x, normalize=True, **kwargs):\n",
    "    \"\"\"\n",
    "    Generate normalized PDF and CDF for a given scipy.stats distribution.\n",
    "\n",
    "    :param dist_func: A scipy.stats distribution (e.g., lognorm, t)\n",
    "    :param x: Domain values to evaluate the PDF/CDF on\n",
    "    :param normalize: Whether to normalize the PDF by area (default: True)\n",
    "    :param kwargs: Distribution parameters (shape, loc, scale, etc.)\n",
    "    :return: Tuple (pdf_array, cdf_array)\n",
    "\n",
    "    The asterisk (*) in the argument list ensures that all arguments after it\n",
    "    must be passed as keyword arguments. This improves readability and reduces\n",
    "    the chance of passing values in the wrong order.\n",
    "    \"\"\"\n",
    "    pdf = dist_func.pdf(x, **kwargs)\n",
    "    cdf = dist_func.cdf(x, **kwargs)\n",
    "    return (normalize_pdf(pdf) if normalize else pdf), cdf\n",
    "\n",
    "\n",
    "def plot_dfs(ax, x, dftype, dfs, colors, labels, linewidths):\n",
    "    \"\"\"\n",
    "    Plot multiple PDFs or CDFs on a given Axes object.\n",
    "\n",
    "    :param ax: Matplotlib Axes object to plot on\n",
    "    :param x: x-axis values\n",
    "    :param dftype: 'pdf' or 'cdf' label for legend\n",
    "    :param dfs: List of PDF or CDF arrays\n",
    "    :param colors: Corresponding colors for each curve\n",
    "    :param labels: Corresponding labels for each curve\n",
    "    :param linewidths: Line widths for stylistic variation\n",
    "    \"\"\"\n",
    "    for df, color, label, lw in zip(dfs, colors, labels, linewidths):\n",
    "        ax.plot(x, df, c=color, label=f\"{label}.{dftype}\", lw=lw)\n",
    "\n",
    "\n",
    "# * * * # * * * #\n",
    "#  Random Parameter Generation for Each Distribution\n",
    "# * * * # * * * #\n",
    "\n",
    "# Lognormal distribution...\n",
    "#  s: shape (>0); higher = more skew/right-tail-heavy:\n",
    "lognorm_s = round(rand() * 2 + 0.1, 2)\n",
    "lognorm_pdf, lognorm_cdf = get_pdf_cdf(lognorm, x=x, s=lognorm_s)\n",
    "\n",
    "# Generalized Hyperbolic distribution...\n",
    "#  a: shape (>0), b: skew (|b| < a), p: tail weight / kurtosis:\n",
    "genh_a = round(rand() * 4 + 1, 2)\n",
    "genh_b = round((rand() - 0.5) * 2 * (genh_a - 0.1), 2)\n",
    "genh_p = round(randn() * 2, 2)\n",
    "genhyperbolic_pdf, genhyperbolic_cdf = get_pdf_cdf(genhyperbolic, x=x, p=genh_a, a=genh_b, b=genh_p)\n",
    "\n",
    "# Double Weibull distribution...\n",
    "#  c: shape; controls peak sharpness vs spread:\n",
    "dwei_c = round(rand() * 4.5 + 0.5, 2)\n",
    "dweibull_pdf, dweibull_cdf = get_pdf_cdf(dweibull, x=x, c=dwei_c)\n",
    "\n",
    "# Student's t-distribution...\n",
    "#  df: degrees of freedom; lower df = fatter tails:\n",
    "t_df = round(rand() * 10 + 1, 2)\n",
    "t_pdf, t_cdf = get_pdf_cdf(t, x=x, df=t_df)\n",
    "\n",
    "# F-distribution, params not equal for visual diversity...\n",
    "#  dfn: degrees of freedom numerator (controls shape)\n",
    "#  dfd: degrees of freedom denominator:\n",
    "f_dfn = round(randint(1, 30), 2)\n",
    "f_dfd = round(randint(1, 30), 2)\n",
    "while f_dfd == f_dfn:\n",
    "    f_dfd = round(randint(1, 30), 2)\n",
    "f_pdf, f_cdf = get_pdf_cdf(f, x=x, dfn=f_dfn, dfd=f_dfd)\n",
    "\n",
    "# Half-Cauchy distribution...\n",
    "# - loc: shift; moves center\n",
    "# - scale: stretch/compresses width (>0):\n",
    "hc_loc = round(rand() * 5, 2)\n",
    "hc_scale = round(rand() * 3 + 0.5, 2)\n",
    "halfcauchy_pdf, halfcauchy_cdf = get_pdf_cdf(halfcauchy, x=x, loc=hc_loc, scale=hc_scale)\n",
    "\n",
    "# Dictionary for reproducibility:\n",
    "sp_dist_params = {\n",
    "    \"lognorm_s\": lognorm_s,\n",
    "    \"genh_a\": genh_a,\n",
    "    \"genh_b\": genh_b,\n",
    "    \"genh_p\": genh_p,\n",
    "    \"dwei_c\": dwei_c,\n",
    "    \"t_df\": t_df,\n",
    "    \"f_dfn\": f_dfn,\n",
    "    \"f_dfd\": f_dfd,\n",
    "    \"hc_loc\": hc_loc,\n",
    "    \"hc_scale\": hc_scale,\n",
    "}\n",
    "\n",
    "print(f\"Parameters used in this analysis: {sp_dist_params}\\n\")\n",
    "\n",
    "# * * * # * * * #\n",
    "#  Plotting\n",
    "# * * * # * * * #\n",
    "RBOW_COLS = [\"purple\", \"mediumblue\", \"darkgreen\", \"gold\", \"darkorange\", \"firebrick\"]\n",
    "BW_COLS = [\"#525252\", \"#646464\", \"#A4A4A4\", \"#C6C6C6\", \"#FFFFFF\"]\n",
    "FUNC_NAMES = [\"halfcauchy\", \"t\", \"lognorm\", \"f\", \"dweibull\", \"genhyperbolic\"]\n",
    "MAIN_LWS = [4 for _ in range(6)]\n",
    "\n",
    "with plt.style.context('dark_background'):\n",
    "    fig = plt.figure(figsize=(13, 25))\n",
    "\n",
    "    gs = GridSpec(7, 2, figure=fig)\n",
    "    axes = [\n",
    "        fig.add_subplot(gs[0:2, 0:]),\n",
    "        fig.add_subplot(gs[2:4, 0]),\n",
    "        fig.add_subplot(gs[2:4, 1]),\n",
    "        fig.add_subplot(gs[4:, 0:]),\n",
    "    ]\n",
    "\n",
    "    # Combined PDF & CDF:\n",
    "    plot_dfs(\n",
    "        axes[0],\n",
    "        x,\n",
    "        \"pdf\",\n",
    "        [halfcauchy_pdf, t_pdf, f_pdf, dweibull_pdf, genhyperbolic_pdf, lognorm_pdf],\n",
    "        RBOW_COLS,\n",
    "        FUNC_NAMES,\n",
    "        [13, 11, 9, 7, 5, 3],\n",
    "    )\n",
    "\n",
    "    plot_dfs(\n",
    "        axes[0],\n",
    "        x,\n",
    "        \"cdf\",\n",
    "        [halfcauchy_cdf, t_cdf, f_cdf, dweibull_cdf, genhyperbolic_cdf, lognorm_cdf],\n",
    "        BW_COLS,\n",
    "        FUNC_NAMES,\n",
    "        MAIN_LWS,\n",
    "    )\n",
    "    axes[0].set_title(\"PDFs and CDFs (No Zoom)\", size=22)\n",
    "\n",
    "    # PDF-only view:\n",
    "    plot_dfs(\n",
    "        axes[1],\n",
    "        x,\n",
    "        \"pdf\",\n",
    "        [halfcauchy_pdf, t_pdf, f_pdf, dweibull_pdf, genhyperbolic_pdf, lognorm_pdf],\n",
    "        RBOW_COLS,\n",
    "        FUNC_NAMES,\n",
    "        MAIN_LWS,\n",
    "    )\n",
    "\n",
    "    axes[1].set_title(\"Probability Densities ($x$ and $y$ Zoom)\", size=22)\n",
    "    axes[1].set_xlim(-1, 10)\n",
    "\n",
    "    # CDF-only view:\n",
    "    plot_dfs(\n",
    "        axes[2],\n",
    "        x,\n",
    "        \"cdf\",\n",
    "        [halfcauchy_cdf, t_cdf, f_cdf, dweibull_cdf, genhyperbolic_cdf, lognorm_cdf],\n",
    "        BW_COLS,\n",
    "        FUNC_NAMES,\n",
    "        MAIN_LWS,\n",
    "    )\n",
    "    axes[2].set_xlim(-1, 50)\n",
    "    axes[2].set_title(\"Cumulative Probabilities ($x$ Zoom)\", size=22)\n",
    "\n",
    "    # Common settings for first three subplots:\n",
    "    for i in range(3):\n",
    "        axes[i].set_ylabel(\"Probability\")\n",
    "        axes[i].set_xlabel(\"Value\")\n",
    "        axes[i].grid()\n",
    "        axes[i].legend(fontsize=16)\n",
    "\n",
    "    # Final artistic composite plot (the \"probability-bow\"), switch cdf and\n",
    "    #  pdf colors to have colorful lines on top:\n",
    "    plot_dfs(\n",
    "        axes[3],\n",
    "        x,\n",
    "        \"cdf\",\n",
    "        [halfcauchy_cdf, t_cdf, f_cdf, dweibull_cdf, genhyperbolic_cdf, lognorm_cdf],\n",
    "        RBOW_COLS,\n",
    "        FUNC_NAMES,\n",
    "        linspace(250, 125, 6),\n",
    "    )\n",
    "    plot_dfs(\n",
    "        axes[3],\n",
    "        x,\n",
    "        \"pdf\",\n",
    "        [halfcauchy_pdf, t_pdf, f_pdf, dweibull_pdf, genhyperbolic_pdf, lognorm_pdf],\n",
    "        BW_COLS,\n",
    "        FUNC_NAMES,\n",
    "        linspace(150, 50, 6),\n",
    "    )\n",
    "    axes[3].set_xlim(8, 25)\n",
    "    axes[3].set_ylim(-0.05, 1.0)\n",
    "    axes[3].set_axis_off()\n",
    "    axes[3].set_title(\"\\n\\n* PROBABILITY-BOW *\\n\", color='goldenrod', size=28, fontfamily='cursive')\n",
    "\n",
    "    plt.suptitle(\n",
    "        (\n",
    "            \"PDFs & CDFs with Various SciPi Functions\\n\"\n",
    "            f\"Data Value Range: {min(x)}-{max(x)}, {N} LinSpace Points\\n\"\n",
    "        ),\n",
    "        size=32,\n",
    "    )\n",
    "\n",
    "    plt.tight_layout()\n",
    "    plt.show()"
   ]
  },
  {
   "cell_type": "markdown",
   "metadata": {},
   "source": [
    "<hr style=\"height: 0; box-shadow: 0 0 5px 4px crimson; width: 90%;\">"
   ]
  },
  {
   "cell_type": "markdown",
   "metadata": {},
   "source": [
    "## **_Wrap-Up:_**"
   ]
  },
  {
   "cell_type": "markdown",
   "metadata": {},
   "source": [
    "The **PDF** shows where values are most dense\n",
    "\n",
    "The **CDF** tells us something more actionable: how much probability has accumulated by a certain point.\n",
    "\n",
    "By plotting the CDF, we can estimate how likely it is:\n",
    "\n",
    "-   For a value to fall **BELOW** a threshold.\n",
    "\n",
    "-   To fall **ABOVE** a threshold: $1 - \\text{cdf}(x)$.\n",
    "\n",
    "-   To fall **BETWEEN** two values: $\\text{cdf}(b) - \\text{cdf}(a)$.\n",
    "\n",
    "We didn't compute these probabilities directly in this notebook's code, but by showing both PDF and CDF together, we built a visual framework to begin asking and answering these kinds of questions."
   ]
  },
  {
   "cell_type": "markdown",
   "metadata": {},
   "source": [
    "<hr style=\"height: 0; box-shadow: 0 0 5px 4px dodgerblue; width: 80%;\">"
   ]
  },
  {
   "cell_type": "markdown",
   "metadata": {},
   "source": [
    "### **_⚠️ Caution:_**\n",
    "\n",
    "You may need to run and re-run the code several times to get a probability-bow that you like."
   ]
  },
  {
   "cell_type": "markdown",
   "metadata": {},
   "source": [
    "<hr style=\"height: 0; box-shadow: 0 0 5px 4px fuchsia; width: 100%; margin: 1.5rem auto;\">\n",
    "<hr style=\"height: 0; box-shadow: 0 0 5px 4px fuchsia; width: 100%; margin: 1.5rem auto;\">\n",
    "<hr style=\"height: 0; box-shadow: 0 0 5px 4px fuchsia; width: 100%; margin: 1.5rem auto;\">"
   ]
  },
  {
   "cell_type": "markdown",
   "metadata": {},
   "source": [
    "<hr style=\"height: 0; box-shadow: 0 0 5px 4px crimson; width: 90%;\">"
   ]
  },
  {
   "cell_type": "markdown",
   "metadata": {},
   "source": [
    "<hr style=\"height: 0; box-shadow: 0 0 5px 4px dodgerblue; width: 80%;\">"
   ]
  },
  {
   "cell_type": "markdown",
   "metadata": {},
   "source": [
    "<hr style=\"height: 0; box-shadow: 0 0 5px 4px #5EDC1F; width: 70%;\">"
   ]
  },
  {
   "cell_type": "markdown",
   "metadata": {},
   "source": [
    "<hr style=\"height: 0; box-shadow: 0 0 5px 4px orangered; width: 60%;\">"
   ]
  },
  {
   "cell_type": "markdown",
   "metadata": {},
   "source": [
    "<hr style=\"height: 0; box-shadow: 0 0 5px 4px gold; width: 50%;\">"
   ]
  },
  {
   "cell_type": "markdown",
   "metadata": {},
   "source": [
    "<font size=2>\n",
    "\n",
    "_Andrew Blais, Boston, Massachusetts_\n",
    "\n",
    "GitHub: https://github.com/andrewblais\n",
    "\n",
    "Website/Python Web Development Porfolio: https://www.andrewblais.dev/\n",
    "\n",
    "</font>"
   ]
  }
 ],
 "metadata": {
  "kernelspec": {
   "display_name": "venv",
   "language": "python",
   "name": "python3"
  },
  "language_info": {
   "codemirror_mode": {
    "name": "ipython",
    "version": 3
   },
   "file_extension": ".py",
   "mimetype": "text/x-python",
   "name": "python",
   "nbconvert_exporter": "python",
   "pygments_lexer": "ipython3",
   "version": "3.13.3"
  }
 },
 "nbformat": 4,
 "nbformat_minor": 2
}
