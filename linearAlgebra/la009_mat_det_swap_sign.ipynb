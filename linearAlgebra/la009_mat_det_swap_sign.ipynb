{
 "cells": [
  {
   "cell_type": "markdown",
   "metadata": {},
   "source": [
    "# **_Matrix Determinant: Swapping Rows and Sign_**"
   ]
  },
  {
   "cell_type": "markdown",
   "metadata": {},
   "source": [
    "<hr style=\"height: 0; box-shadow: 0 0 5px 4px crimson; width: 95%;\">"
   ]
  },
  {
   "cell_type": "markdown",
   "metadata": {},
   "source": [
    "## **_Goal:_**"
   ]
  },
  {
   "cell_type": "markdown",
   "metadata": {},
   "source": [
    "-   Verify that swapping rows or columns of a matrix doesn't change the magnitude of the matrix's determinant, but does change the determinant's sign (`+`/`-`)."
   ]
  },
  {
   "cell_type": "markdown",
   "metadata": {},
   "source": [
    "<hr style=\"height: 0; box-shadow: 0 0 5px 4px crimson; width: 95%;\">"
   ]
  },
  {
   "cell_type": "markdown",
   "metadata": {},
   "source": [
    "This Python Jupyter notebook extrapolates from an exercise in Mike X. Cohen's Linear Algebra course on Udemy.\n",
    "\n",
    "-   Udemy course: https://www.udemy.com/course/linear-algebra-theory-and-implementation\n",
    "\n",
    "-   Professor Cohen's website: https://www.mikexcohen.com/"
   ]
  },
  {
   "cell_type": "markdown",
   "metadata": {},
   "source": [
    "<hr style=\"height: 0; box-shadow: 0 0 5px 4px crimson; width: 95%;\">"
   ]
  },
  {
   "cell_type": "markdown",
   "metadata": {},
   "source": [
    "## **_Code:_**"
   ]
  },
  {
   "cell_type": "code",
   "execution_count": 1,
   "metadata": {},
   "outputs": [],
   "source": [
    "import numpy as np"
   ]
  },
  {
   "cell_type": "code",
   "execution_count": 2,
   "metadata": {},
   "outputs": [
    {
     "name": "stdout",
     "output_type": "stream",
     "text": [
      "22.006396953227483\n",
      "-22.006396953227483\n",
      "22.006396953227483\n"
     ]
    }
   ],
   "source": [
    "# Indicate dimensionality:\n",
    "m = 6\n",
    "\n",
    "# Create matrix to work with:\n",
    "Q = np.random.randn(m, m)\n",
    "# Calculate and print determinant, notice\n",
    "#  whether positive or negative:\n",
    "d1 = np.linalg.det(Q)\n",
    "print(d1)\n",
    "\n",
    "# Swap one row with another:\n",
    "Q[[0, 1], :] = Q[[1, 0], :]\n",
    "# Alternative NumPy syntax for swapping:\n",
    "# Q[[0, 1]] = Q[[1, 0]]\n",
    "# Compute and print the determinant again,\n",
    "#  compare the sign:\n",
    "d2 = np.linalg.det(Q)\n",
    "print(d2)\n",
    "\n",
    "# Repeat the process, compare the sign\n",
    "#  of the determinant once again:\n",
    "Q[[-1, -2], :] = Q[[-2, -1], :]\n",
    "d2 = np.linalg.det(Q)\n",
    "print(d2)"
   ]
  },
  {
   "cell_type": "code",
   "execution_count": 3,
   "metadata": {},
   "outputs": [
    {
     "name": "stdout",
     "output_type": "stream",
     "text": [
      "3.3527357549266323\n",
      "-3.3527357549266315\n",
      "3.3527357549266306\n"
     ]
    }
   ],
   "source": [
    "# Repeat the process for column swaps:\n",
    "C0 = np.random.randn(6, 6)\n",
    "print(np.linalg.det(C0))\n",
    "\n",
    "C1 = C0[:, [1, 0, 2, 3, 4, 5]]\n",
    "print(np.linalg.det(C1))\n",
    "\n",
    "C2 = C0[:, [1, 0, 2, 3, 5, 4]]\n",
    "print(np.linalg.det(C2))"
   ]
  },
  {
   "cell_type": "markdown",
   "metadata": {},
   "source": [
    "<hr style=\"height: 0; box-shadow: 0 0 5px 4px crimson; width: 95%;\">"
   ]
  },
  {
   "cell_type": "markdown",
   "metadata": {},
   "source": [
    "<hr style=\"height: 0; box-shadow: 0 0 5px 4px dodgerblue; width: 85%;\">"
   ]
  },
  {
   "cell_type": "markdown",
   "metadata": {},
   "source": [
    "<hr style=\"height: 0; box-shadow: 0 0 5px 4px #5EDC1F; width: 75%;\">\n"
   ]
  },
  {
   "cell_type": "markdown",
   "metadata": {},
   "source": [
    "<hr style=\"height: 0; box-shadow: 0 0 5px 4px magenta; width: 65%;\">\n"
   ]
  },
  {
   "cell_type": "markdown",
   "metadata": {},
   "source": [
    "<hr style=\"height: 0; box-shadow: 0 0 5px 4px gold; width: 55%;\">"
   ]
  },
  {
   "cell_type": "markdown",
   "metadata": {},
   "source": [
    "<font size=2>\n",
    "\n",
    "_Andrew Blais, Boston, Massachusetts_\n",
    "\n",
    "GitHub: https://github.com/andrewblais\n",
    "\n",
    "Website/Python Web Development Portfolio: https://www.andrewblais.dev/\n",
    "\n",
    "</font>"
   ]
  }
 ],
 "metadata": {
  "kernelspec": {
   "display_name": "venv",
   "language": "python",
   "name": "python3"
  },
  "language_info": {
   "codemirror_mode": {
    "name": "ipython",
    "version": 3
   },
   "file_extension": ".py",
   "mimetype": "text/x-python",
   "name": "python",
   "nbconvert_exporter": "python",
   "pygments_lexer": "ipython3",
   "version": "3.13.0"
  }
 },
 "nbformat": 4,
 "nbformat_minor": 2
}
