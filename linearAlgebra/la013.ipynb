{
 "cells": [
  {
   "cell_type": "markdown",
   "metadata": {},
   "source": [
    "# **_Left and Right Inverse for Non-Square Matrices_**"
   ]
  },
  {
   "cell_type": "markdown",
   "metadata": {},
   "source": [
    "<hr style=\"height: 0; box-shadow: 0 0 5px 4px crimson; width: 95%;\">"
   ]
  },
  {
   "cell_type": "markdown",
   "metadata": {},
   "source": [
    "This notebook demonstrates concepts I learned from a lesson in Mike X. Cohen's Linear Algebra course on Udemy.\n",
    "\n",
    "-   Udemy course: https://www.udemy.com/course/linear-algebra-theory-and-implementation\n",
    "\n",
    "-   Professor Cohen's website: https://www.mikexcohen.com/"
   ]
  },
  {
   "cell_type": "markdown",
   "metadata": {},
   "source": [
    "<hr style=\"height: 0; box-shadow: 0 0 5px 4px crimson; width: 95%;\">"
   ]
  },
  {
   "cell_type": "markdown",
   "metadata": {},
   "source": [
    "## **_Inverting a Non-Square Matrix?_**"
   ]
  },
  {
   "cell_type": "markdown",
   "metadata": {},
   "source": [
    "-   A matrix multiplied by its inverse produces the identity matrix.\n",
    "\n",
    "-   There is no direct inverse to a non-square matrix, so we need a substitute.\n",
    "\n",
    "-   We can mutate the original matrix into a square form by multiplying it by its transpose, multiplying that compound stucture by its inverse, then factoring out the original matrix.\n",
    "\n",
    "-   What remains is either the left-inverse (original matrix is _tall_) or the right-inverse (original matrix is _wide_)."
   ]
  },
  {
   "cell_type": "markdown",
   "metadata": {},
   "source": [
    "-   For a tall (<font color=orangered style=\"font-weight: bold;\">T</font>), full-column rank matrix, we left-multiply by the <font color=orangered style=\"font-weight: bold;\">LEFT-INVERSE</font> to produce the identity matrix:"
   ]
  },
  {
   "cell_type": "markdown",
   "metadata": {},
   "source": [
    "$$\n",
    "\\huge\n",
    "    \\textcolor{orangered}{(T^{T} T)^{-1} T^{T}}\n",
    "    \\quad\n",
    "    T\n",
    "    =\n",
    "    {I}\n",
    "$$"
   ]
  },
  {
   "cell_type": "markdown",
   "metadata": {},
   "source": [
    "-   For a wide (<font color=dodgerblue style=\"font-weight: bold;\">W</font>), full-row rank matrix, we _right-multiply_ the original matrix by its <font color=dodgerblue style=\"font-weight: bold;\">RIGHT-INVERSE</font>:"
   ]
  },
  {
   "cell_type": "markdown",
   "metadata": {},
   "source": [
    "$$\n",
    "\\huge\n",
    "    W\n",
    "    \\quad\n",
    "    \\textcolor{dodgerblue}{W^{T}(W W^{T})^{-1}}\n",
    "    =\n",
    "    {I}\n",
    "$$"
   ]
  },
  {
   "cell_type": "markdown",
   "metadata": {},
   "source": [
    "-   Now we can get on with the business of whatever it is we want to do via multiplication of the original matrix by its inverse, with these substitutes in mind.\n",
    "\n",
    "-   I'll learn more about that later..."
   ]
  },
  {
   "cell_type": "markdown",
   "metadata": {},
   "source": [
    "<hr style=\"height: 0; box-shadow: 0 0 5px 4px crimson; width: 95%;\">"
   ]
  },
  {
   "cell_type": "markdown",
   "metadata": {},
   "source": [
    "## **_Python:_**"
   ]
  },
  {
   "cell_type": "code",
   "execution_count": null,
   "metadata": {},
   "outputs": [],
   "source": [
    "import numpy as np\n",
    "import matplotlib.pyplot as plt\n",
    "from matplotlib.gridspec import GridSpec\n",
    "import sympy as sym"
   ]
  },
  {
   "cell_type": "markdown",
   "metadata": {},
   "source": [
    "### **_Do the Calculations:_**"
   ]
  },
  {
   "cell_type": "code",
   "execution_count": null,
   "metadata": {},
   "outputs": [],
   "source": [
    "m, n = np.random.randint(29, 41), np.random.randint(17, 29)"
   ]
  },
  {
   "cell_type": "code",
   "execution_count": null,
   "metadata": {},
   "outputs": [],
   "source": [
    "# # Create a tall, full-column rank matrix...\n",
    "# rows > columns:\n",
    "TALL = np.random.randn(m, n)\n",
    "\n",
    "# Create 'square' substitute:\n",
    "TALLT_TALL = TALL.T @ TALL\n",
    "\n",
    "# Calculate the left-inverse:\n",
    "TALL_LEFT_INV = np.linalg.inv(TALLT_TALL) @ TALL.T\n",
    "\n",
    "# Compute the identity matrix:\n",
    "ID_TALL = TALL_LEFT_INV @ TALL\n",
    "\n",
    "# Confirm numerically:\n",
    "display(sym.sympify(np.round(ID_TALL, 13)))"
   ]
  },
  {
   "cell_type": "code",
   "execution_count": null,
   "metadata": {},
   "outputs": [],
   "source": [
    "# # Create a wide, full-row rank matrix...\n",
    "# columns > rows:\n",
    "WIDE = np.random.randn(n, m)\n",
    "\n",
    "# Create 'square' substitute:\n",
    "WIDE_WIDET = WIDE @ WIDE.T\n",
    "\n",
    "# Calculate the right-inverse:\n",
    "WIDE_LEFT_INV = WIDE.T @ np.linalg.inv(WIDE_WIDET)\n",
    "\n",
    "# Compute the identity matrix:\n",
    "ID_WIDE = WIDE @ WIDE_LEFT_INV\n",
    "\n",
    "# Confirm numerically:\n",
    "display(sym.sympify(np.round(ID_WIDE, 13)))"
   ]
  },
  {
   "cell_type": "markdown",
   "metadata": {},
   "source": [
    "<hr style=\"height: 0; box-shadow: 0 0 5px 4px dodgerblue; width: 85%;\">"
   ]
  },
  {
   "cell_type": "markdown",
   "metadata": {},
   "source": [
    "### **_Confirm Visually:_**"
   ]
  },
  {
   "cell_type": "code",
   "execution_count": null,
   "metadata": {},
   "outputs": [],
   "source": [
    "with plt.style.context('dark_background'):\n",
    "    # Create figure:\n",
    "    fig = plt.figure(figsize=(23, 31))\n",
    "\n",
    "    # Define rows and columns via GridSpec:\n",
    "    gs = GridSpec(4, 1, figure=fig)\n",
    "\n",
    "    # Generate subplots:\n",
    "    axes = [\n",
    "        fig.add_subplot(gs[0]),\n",
    "        fig.add_subplot(gs[1]),\n",
    "        fig.add_subplot(gs[2]),\n",
    "        fig.add_subplot(gs[3]),\n",
    "    ]\n",
    "\n",
    "    axes[0].imshow(TALL, cmap=\"Reds\")\n",
    "    axes[0].set_title(f\"\\nMatrix T (Tall): {m}x{n}\", size=15)\n",
    "\n",
    "    axes[1].imshow(ID_TALL, cmap=\"seismic\")\n",
    "    axes[1].set_title(\"\\nLEFT-INVERSE $\\\\Rightarrow ((T^T T)^{-1} T^T) \\\\quad T$\", size=15)\n",
    "\n",
    "    axes[2].imshow(WIDE, cmap=\"Blues\")\n",
    "    axes[2].set_title(f\"\\nMatrix W (Wide): {n}x{m}\", size=15)\n",
    "\n",
    "    axes[3].imshow(ID_WIDE, cmap=\"RdBu\")\n",
    "    axes[3].set_title(\"\\nRIGHT-INVERSE $\\\\Rightarrow W \\\\quad (W^T (W W^T)^{-1})$\", size=15)\n",
    "\n",
    "    for i in range(len(axes)):\n",
    "        axes[i].axis('off')\n",
    "\n",
    "    sup_title = \"\\nLEFT INVERSE $\\\\times$ TALL FULL-RANK MATRIX = IDENTITY?\"\n",
    "    sup_title += \"\\nWIDE FULL-RANK MATRIX $\\\\times$ RIGHT INVERSE = IDENTITY?\\n\\n\"\n",
    "    plt.suptitle(sup_title, size=19)\n",
    "\n",
    "    plt.tight_layout()\n",
    "    plt.show()"
   ]
  },
  {
   "cell_type": "markdown",
   "metadata": {},
   "source": [
    "-   We got the ID Matrix both times. Time for supper."
   ]
  },
  {
   "cell_type": "markdown",
   "metadata": {},
   "source": [
    "<hr style=\"height: 0; box-shadow: 0 0 5px 4px crimson; width: 95%;\">"
   ]
  },
  {
   "cell_type": "markdown",
   "metadata": {},
   "source": [
    "<hr style=\"height: 0; box-shadow: 0 0 5px 4px dodgerblue; width: 85%;\">"
   ]
  },
  {
   "cell_type": "markdown",
   "metadata": {},
   "source": [
    "<hr style=\"height: 0; box-shadow: 0 0 5px 4px #5EDC1F; width: 75%;\">\n"
   ]
  },
  {
   "cell_type": "markdown",
   "metadata": {},
   "source": [
    "<hr style=\"height: 0; box-shadow: 0 0 5px 4px magenta; width: 65%;\">\n"
   ]
  },
  {
   "cell_type": "markdown",
   "metadata": {},
   "source": [
    "<hr style=\"height: 0; box-shadow: 0 0 5px 4px gold; width: 55%;\">"
   ]
  },
  {
   "cell_type": "markdown",
   "metadata": {},
   "source": [
    "<font size=2>\n",
    "\n",
    "_Andrew Blais, Boston, Massachusetts_\n",
    "\n",
    "GitHub: https://github.com/andrewblais\n",
    "\n",
    "Website/Python Web Development Porfolio: https://www.andrewblais.dev/\n",
    "\n",
    "</font>"
   ]
  }
 ],
 "metadata": {
  "kernelspec": {
   "display_name": "venv",
   "language": "python",
   "name": "python3"
  },
  "language_info": {
   "codemirror_mode": {
    "name": "ipython",
    "version": 3
   },
   "file_extension": ".py",
   "mimetype": "text/x-python",
   "name": "python",
   "nbconvert_exporter": "python",
   "pygments_lexer": "ipython3",
   "version": "3.13.0"
  }
 },
 "nbformat": 4,
 "nbformat_minor": 2
}
