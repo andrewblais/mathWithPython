{
 "cells": [
  {
   "cell_type": "markdown",
   "metadata": {},
   "source": [
    "# **_Number of Histogram Bins: Different Methods of Calculating `k`_**"
   ]
  },
  {
   "cell_type": "markdown",
   "metadata": {},
   "source": [
    "<hr style=\"height: 0; box-shadow: 0 0 5px 4px crimson; width: 95%;\">"
   ]
  },
  {
   "cell_type": "markdown",
   "metadata": {},
   "source": [
    "## **_Description:_**"
   ]
  },
  {
   "cell_type": "markdown",
   "metadata": {},
   "source": [
    "This Python Jupyter Notebook is my extrapolation on a coding lesson from the Descriptive Statistics section of Mike X. Cohen's Statistics & Machine Learning course on Udemy.\n",
    "\n",
    "The goal is to practice what I've learned and to have a handy, comprehensive guide for future reference.\n",
    "\n",
    "-   Udemy course: https://www.udemy.com/course/statsml_x\n",
    "\n",
    "-   Professor Cohen's website: https://www.mikexcohen.com/"
   ]
  },
  {
   "cell_type": "markdown",
   "metadata": {},
   "source": [
    "<hr style=\"height: 0; box-shadow: 0 0 5px 4px crimson; width: 95%;\">"
   ]
  },
  {
   "cell_type": "markdown",
   "metadata": {},
   "source": [
    "### **_Create a dataset and plot histograms with various methods of calculating number of bins._**\n",
    "\n",
    "-   #### **_Additionally, contrast what plots looks like based on differing numbers of bins._**\n",
    "\n",
    "-   #### **_Use Matplotlib's `GridSpec` functionality to place all the plots in one figure._**\n",
    "\n",
    "##### **1.** _Hard code the bin count with a good estimate for number of bins._\n",
    "\n",
    "##### **2.** _Hard code the bin count with a bad estimate (low) for number of bins._\n",
    "\n",
    "##### **3.** _Hard code the bin count with a bad estimate (high) for number of bins._\n",
    "\n",
    "##### **4.** _Calculate number of bins using the **STURGES** rule:_\n",
    "\n",
    "$$\n",
    "    k \\; (\\textsf{num bins})\\; = \\; \\lceil \\log2(n) \\rceil + 1\n",
    "$$\n",
    "\n",
    "##### **5.** _Calculate number of bins using the **FREEDMAN-DIACONIS (FD)** rule:_\n",
    "\n",
    "$$\n",
    "\\begin{gathered}\n",
    "    h \\; (\\textsf{bin width}) \\; = \\; 2 \\; \\frac{\\text{IQR}}{\\sqrt[3]{n}}\n",
    "    \\\\ \\\\\n",
    "    k \\; (\\textsf{num bins})\\; = \\;\n",
    "    \\left\\lceil\n",
    "        \\frac{\\max(x) - \\min(x)}{h}\n",
    "    \\right\\rceil\n",
    "\\end{gathered}\n",
    "$$\n",
    "\n",
    "##### **6.** _Use the Matplotlib's `.hist(bins='fd')` argument._\n",
    "\n",
    "##### **7.** _Plot with Seaborn's `.histplot()`, which automatically uses the **FD** rule._\n",
    "\n",
    "##### **8.** _Create a line histogram contrasting the distribution with increasing number of bins._\n",
    "\n",
    "##### **9.** _Create a line histogram contrasting the normalized distribution with increasing number of bins._\n",
    "\n",
    "##### **10.** _Create array of number of bins which increases LOGARITHMICALLY, overlay histograms with Seaborn. (Fun result!)_"
   ]
  },
  {
   "cell_type": "markdown",
   "metadata": {},
   "source": [
    "<hr style=\"height: 0; box-shadow: 0 0 5px 4px crimson; width: 95%;\">"
   ]
  },
  {
   "cell_type": "code",
   "execution_count": null,
   "metadata": {},
   "outputs": [],
   "source": [
    "import matplotlib.pyplot as plt\n",
    "from matplotlib.gridspec import GridSpec\n",
    "import numpy as np\n",
    "import scipy.stats as stats\n",
    "import seaborn as sns\n",
    "\n",
    "n = 1000\n",
    "k = 40\n",
    "\n",
    "# # Create a random log-normal distribution:\n",
    "mu, sigma = 0, 1  # Mean and standard deviation\n",
    "data = np.random.lognormal(mu, sigma, n)\n",
    "\n",
    "fig = plt.figure(figsize=(11, 37))\n",
    "\n",
    "# # Create subplots with GridSpec functionality...\n",
    "gs = GridSpec(12, 2, figure=fig)\n",
    "axes = [\n",
    "    fig.add_subplot(gs[0, 0]),\n",
    "    fig.add_subplot(gs[0, 1]),\n",
    "    fig.add_subplot(gs[1, 0]),\n",
    "    fig.add_subplot(gs[1, 1]),\n",
    "    fig.add_subplot(gs[2, 0]),\n",
    "    fig.add_subplot(gs[2, 1]),\n",
    "    fig.add_subplot(gs[3:5, :]),\n",
    "    fig.add_subplot(gs[5:7, :]),\n",
    "    fig.add_subplot(gs[7:9, :]),\n",
    "    fig.add_subplot(gs[9:12, :]),\n",
    "]\n",
    "\n",
    "# # Plot 1 # #\n",
    "# # Plot data with good hard-coded value for k:\n",
    "k_good = 40\n",
    "axes[0].hist(data, k_good, color=\"firebrick\")\n",
    "axes[0].set_title(\"Good Num Bins: Hard Coding k=%g\" % k_good)\n",
    "\n",
    "# Choose factor to make lower/higher k's:\n",
    "distort_factor = 10\n",
    "\n",
    "# # Plot 2 # #\n",
    "# # Plot data with low hard-coded value for k:\n",
    "k_low = int(k_good / distort_factor)\n",
    "axes[1].hist(data, k_low, color=\"firebrick\")\n",
    "axes[1].set_title(\"Too Few Bins: Hard Coding k=%g\" % k_low)\n",
    "\n",
    "# # Plot 3 # #\n",
    "# # Plot data with high hard-coded value for k:\n",
    "k_high = int(k_good * distort_factor)\n",
    "axes[2].hist(data, k_high, color=\"firebrick\")\n",
    "axes[2].set_title(\"Too Many Bins: Hard Coding k=%g\" % k_high)\n",
    "\n",
    "# # Plot 4 # #\n",
    "# # Calculate Sturges manually and plot...\n",
    "k_sturges = np.ceil(np.log2(n)) + 1\n",
    "axes[3].hist(data, int(k_sturges), color=\"dodgerblue\")\n",
    "axes[3].set_title(\"Sturges Rule k=%g bins\" % k_sturges)\n",
    "\n",
    "# # Plot 5 # #\n",
    "# # Calculate FD manually and plot...\n",
    "h_fd = 2 * stats.iqr(data) * n ** (-1 / 3)\n",
    "k_fd = np.ceil((max(data) - min(data)) / h_fd)\n",
    "axes[4].hist(data, int(k_fd), color=\"dodgerblue\")\n",
    "axes[4].set_title(\"F-D Rule k= %g bins\" % k_fd)\n",
    "\n",
    "# # Plot 6 # #\n",
    "# # Use helpful bins='fd' functionality to bypass\n",
    "# #  calculations...\n",
    "axes[5].hist(data, bins=\"fd\", color=\"goldenrod\")\n",
    "axes[5].set_title(\"plt.hist(bins='fd') kwarg\")\n",
    "\n",
    "# # Plot 7 # #\n",
    "# # Use Seaborn sns.histplot():\n",
    "sns.histplot(data=data, ax=axes[6], color=\"forestgreen\")\n",
    "axes[6].set_title(\"Seaborn histplot\")\n",
    "\n",
    "# # Plot 8 # #\n",
    "# # Plot data with increasing number of bins...\n",
    "num_bins = np.linspace(5, n / 2, 25, dtype=np.int64)\n",
    "# Create alpha values:\n",
    "alphas = np.linspace(1, 0, len(num_bins))\n",
    "\n",
    "for bin_i in range(len(num_bins)):\n",
    "    y, x = np.histogram(data, int(num_bins[bin_i]))\n",
    "    x = (x[:-1] + x[1:]) / 2\n",
    "    axes[7].plot(x, y, \"o--\", lw=2, alpha=alphas[bin_i])\n",
    "axes[7].set_title(\"Number of Bins: %g to %g\" % (num_bins[0], num_bins[-1]))\n",
    "\n",
    "# # Plot 9 # #\n",
    "# # Plot normalized data with increasing number of bins...\n",
    "for bin_i in range(len(num_bins)):\n",
    "    y, x = np.histogram(data, int(num_bins[bin_i]))\n",
    "    x = (x[:-1] + x[1:]) / 2\n",
    "    y = y / np.max(y)\n",
    "    axes[8].plot(x, y, \"o--\", lw=2, alpha=alphas[bin_i])\n",
    "axes[8].set_title(\"Number of Bins: %g to %g (Normalized)\" % (num_bins[0], num_bins[-1]))\n",
    "\n",
    "# # Plot 10 # #\n",
    "# # Plot normalized data with log-spaced number of bins...\n",
    "num_bins = np.logspace(0.3, 3, num=10, dtype=np.int64)\n",
    "for bin_i in num_bins:\n",
    "    sns.histplot(data=data, ax=axes[9], bins=int(bin_i))\n",
    "axes[9].set_title(\"(Seaborn) Number of Bins Increasing Logarithmically: %s\" % num_bins)\n",
    "\n",
    "# # Add labels programmatically...\n",
    "for i in range(len(axes)):\n",
    "    axes[i].set_xlabel(\"Value\")\n",
    "    axes[i].set_ylabel(\"Count\")\n",
    "\n",
    "sup_title = \"Calculating Number of Histogram Bins\\n\"\n",
    "sup_title += \" via Different Methods for a Log-normal Distribution\\n\\n\"\n",
    "plt.suptitle(sup_title, size=20)\n",
    "\n",
    "# # Make room...\n",
    "plt.tight_layout()\n",
    "plt.show()"
   ]
  },
  {
   "cell_type": "markdown",
   "metadata": {},
   "source": [
    "<hr style=\"height: 0; box-shadow: 0 0 5px 4px crimson; width: 95%;\">"
   ]
  },
  {
   "cell_type": "markdown",
   "metadata": {},
   "source": [
    "## **_Conclusions:_**"
   ]
  },
  {
   "cell_type": "markdown",
   "metadata": {},
   "source": [
    "-   **Freedman-Diaconis (FD)** is the best method for calculating number of bins.\n",
    "\n",
    "-   **Sturges** falls a little short, literally and figuratively.\n",
    "\n",
    "-   The _logarithmically-calculated number of bins_ plot via Seaborn looks pretty cool.\n",
    "\n",
    "-   `GridSpec` is hard to get a handle on, but with a little practice provides amazingly flexible functionality with a lot of possibilities."
   ]
  },
  {
   "cell_type": "markdown",
   "metadata": {},
   "source": [
    "<hr style=\"height: 0; box-shadow: 0 0 5px 4px crimson; width: 95%;\">"
   ]
  },
  {
   "cell_type": "markdown",
   "metadata": {},
   "source": [
    "<hr style=\"height: 0; box-shadow: 0 0 5px 4px dodgerblue; width: 85%;\">"
   ]
  },
  {
   "cell_type": "markdown",
   "metadata": {},
   "source": [
    "<hr style=\"height: 0; box-shadow: 0 0 5px 4px #5EDC1F; width: 75%;\">\n"
   ]
  },
  {
   "cell_type": "markdown",
   "metadata": {},
   "source": [
    "<hr style=\"height: 0; box-shadow: 0 0 5px 4px magenta; width: 65%;\">\n"
   ]
  },
  {
   "cell_type": "markdown",
   "metadata": {},
   "source": [
    "<hr style=\"height: 0; box-shadow: 0 0 5px 4px gold; width: 55%;\">"
   ]
  },
  {
   "cell_type": "markdown",
   "metadata": {},
   "source": [
    "<font size=2>\n",
    "\n",
    "_Andrew Blais, Boston, Massachusetts_\n",
    "\n",
    "GitHub: https://github.com/andrewblais\n",
    "\n",
    "Website/Python Web Development Porfolio: https://www.andrewblais.dev/\n",
    "\n",
    "</font>"
   ]
  }
 ],
 "metadata": {
  "kernelspec": {
   "display_name": "venv",
   "language": "python",
   "name": "python3"
  },
  "language_info": {
   "codemirror_mode": {
    "name": "ipython",
    "version": 3
   },
   "file_extension": ".py",
   "mimetype": "text/x-python",
   "name": "python",
   "nbconvert_exporter": "python",
   "pygments_lexer": "ipython3",
   "version": "3.13.0"
  }
 },
 "nbformat": 4,
 "nbformat_minor": 2
}
