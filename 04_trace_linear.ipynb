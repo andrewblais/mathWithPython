{
 "cells": [
  {
   "cell_type": "markdown",
   "metadata": {},
   "source": [
    "# **_Linear Algebra: Is Trace a Linear Operator?_**"
   ]
  },
  {
   "cell_type": "markdown",
   "metadata": {},
   "source": [
    "<hr style=\"height: 0; box-shadow: 0 0 5px 4px gold; width: 95%;\">"
   ]
  },
  {
   "cell_type": "markdown",
   "metadata": {},
   "source": [
    "## **_Description:_**"
   ]
  },
  {
   "cell_type": "markdown",
   "metadata": {},
   "source": [
    "This Python Jupyter notebook consists of my solution to an exercise from Mike X. Cohen's Linear Algebra course on Udemy.\n",
    "\n",
    "-   Udemy course: https://www.udemy.com/course/linear-algebra-theory-and-implementation\n",
    "\n",
    "-   Professor Cohen's website: https://www.mikexcohen.com/"
   ]
  },
  {
   "cell_type": "markdown",
   "metadata": {},
   "source": [
    "<hr style=\"height: 0; box-shadow: 0 0 5px 4px dodgerblue; width: 95%;\">"
   ]
  },
  {
   "cell_type": "markdown",
   "metadata": {},
   "source": [
    "## **_Instructions:_**"
   ]
  },
  {
   "cell_type": "markdown",
   "metadata": {},
   "source": [
    "-   Determine the relationship between these two expressions:\n",
    "\n",
    "$$\n",
    "\\Large\n",
    "    tr(\\textbf{A}) + tr(\\textbf{B})\n",
    "    \\; \\; \\text{and} \\; \\;\n",
    "    tr(\\textbf{A} + \\textbf{B})\n",
    "$$\n",
    "\n",
    "-   Determine the relationship between these two expressions:\n",
    "\n",
    "$$\n",
    "\\Large\n",
    "    tr(\\lambda \\times \\textbf{A})\n",
    "    \\; \\; \\text{and} \\; \\;\n",
    "    \\lambda \\times tr(\\textbf{A})\n",
    "$$\n",
    "\n",
    "-   $\\textbf{A}$ and $\\textbf{B}$ are each random-value $(m \\times n)$ square matrices.\n",
    "\n",
    "-   $\\lambda$ is a random-value scalar.\n",
    "\n",
    "-   Display each operation in the output.\n",
    "\n",
    "#### **_If TRACE is a linear operator then each individual pair should be equal._**"
   ]
  },
  {
   "cell_type": "markdown",
   "metadata": {},
   "source": [
    "#### **_Notes:_**\n",
    "\n",
    "-   I'm adding constants from `scipy` for fun.\n",
    "\n",
    "-   Also made a small function to handle spacing when printing to output."
   ]
  },
  {
   "cell_type": "markdown",
   "metadata": {},
   "source": [
    "<hr style=\"height: 0; box-shadow: 0 0 5px 4px forestgreen; width: 95%;\">"
   ]
  },
  {
   "cell_type": "markdown",
   "metadata": {},
   "source": [
    "## **_Solution:_**"
   ]
  },
  {
   "cell_type": "code",
   "execution_count": 1,
   "metadata": {},
   "outputs": [
    {
     "name": "stdout",
     "output_type": "stream",
     "text": [
      "Speed of Sound Matrix:\n",
      "[[2.16119294 1.72161268 1.21242273 1.65406785 2.28919244]\n",
      " [1.98754842 0.1448649  2.80120112 0.48724299 0.02917485]\n",
      " [2.55056964 1.18863382 1.70784523 0.73670756 2.63086064]\n",
      " [1.57883823 0.49036873 0.70808781 1.13255422 0.02141113]\n",
      " [0.79212251 0.10683232 2.30659354 0.28582434 0.82350166]]\n",
      "\n",
      "Speed of Light Matrix:\n",
      "[[-0.0033221  -0.35135063  0.5513535   0.0225583   0.13701305]\n",
      " [-0.53944065  0.70945159 -0.03929814 -0.3254106   0.49609926]\n",
      " [-0.04310278 -0.5478986   0.24494298  0.21636546 -0.47335   ]\n",
      " [ 0.01930931  0.12353816  0.17332891  0.35957815 -0.1308674 ]\n",
      " [-0.15875384 -0.08101521  0.0965529  -0.24987218  0.20507973]]\n",
      "\n",
      "Scalar Lambda:\n",
      "0.17512683524647635\n",
      "\n",
      "Separate Addition:\n",
      "7.49\n",
      "\n",
      "Combined Addition:\n",
      "7.49\n",
      "\n",
      "TRACE closed under addition?\n",
      "True\n",
      "\n",
      "Separate Multiplication:\n",
      "1.05\n",
      "\n",
      "Combined Multiplication:\n",
      "1.05\n",
      "\n",
      "TRACE closed under scalar-multiplication?\n",
      "True\n",
      "\n",
      "TRACE is a Linear Operator?\n",
      "True\n",
      "\n"
     ]
    }
   ],
   "source": [
    "# Import libraries:\n",
    "import numpy as np\n",
    "from scipy.constants import blob, kilo, speed_of_light, speed_of_sound\n",
    "\n",
    "\n",
    "def print_awesome(info_str, data):\n",
    "    \"\"\"Prints string and data in a well-spaced fashion.\"\"\"\n",
    "    print(info_str, data, sep=\"\\n\", end=\"\\n\\n\")\n",
    "\n",
    "\n",
    "# Define shape:\n",
    "m = 5\n",
    "n = 5\n",
    "\n",
    "# Define matrices and scalar:\n",
    "M_SOUND = np.random.rand(m, n) * kilo / speed_of_sound\n",
    "M_LIGHT = np.random.randn(m, n) * speed_of_light / kilo**3\n",
    "l_blob = np.random.randint(1, 10) * blob / kilo\n",
    "\n",
    "# Print matrices and scalar:\n",
    "print_awesome(\"Speed of Sound Matrix:\", M_SOUND)\n",
    "print_awesome(\"Speed of Light Matrix:\", M_LIGHT)\n",
    "print_awesome(\"Scalar Lambda:\", l_blob)\n",
    "\n",
    "# Define conclusion bools as False to begin:\n",
    "lin_add_valid = False\n",
    "lin_mult_valid = False\n",
    "overall_conclusion = False\n",
    "\n",
    "# Get sums two ways, round so we don't get lost in the weeds:\n",
    "tr_add_sep = np.round(np.trace(M_SOUND) + np.trace(M_LIGHT), 2)\n",
    "tr_add_comb = np.round(np.trace(np.add(M_SOUND, M_LIGHT)), 2)\n",
    "# Conclude whether addition property is valid:\n",
    "lin_add_valid = tr_add_sep == tr_add_comb\n",
    "\n",
    "# Print additon conclusion:\n",
    "print_awesome(\"Separate Addition:\", tr_add_sep)\n",
    "print_awesome(\"Combined Addition:\", tr_add_comb)\n",
    "print_awesome(\"TRACE closed under addition?\", lin_add_valid)\n",
    "\n",
    "# Get products two ways, round to clarify comparison:\n",
    "tr_mult_sep = np.round(np.trace(l_blob * M_SOUND), 2)\n",
    "tr_mult_comb = np.round(l_blob * np.trace(M_SOUND), 2)\n",
    "# Conclude whether multiplication property is valid:\n",
    "lin_mult_valid = tr_mult_sep == tr_mult_comb\n",
    "\n",
    "# Print scalar-multiplication conclusion:\n",
    "print_awesome(\"Separate Multiplication:\", tr_mult_sep)\n",
    "print_awesome(\"Combined Multiplication:\", tr_mult_comb)\n",
    "print_awesome(\"TRACE closed under scalar-multiplication?\", lin_mult_valid)\n",
    "\n",
    "# Overall conclusion:\n",
    "overall_conclusion = lin_add_valid and lin_mult_valid\n",
    "print_awesome(\"TRACE is a Linear Operator?\", overall_conclusion)"
   ]
  },
  {
   "cell_type": "markdown",
   "metadata": {},
   "source": [
    "<hr style=\"height: 0; box-shadow: 0 0 5px 4px crimson; width: 95%;\">"
   ]
  },
  {
   "cell_type": "markdown",
   "metadata": {},
   "source": [
    "## **_Conclusion:_**"
   ]
  },
  {
   "cell_type": "markdown",
   "metadata": {},
   "source": [
    "#### **_1. Trace IS a linear operator because:_**\n",
    "\n",
    "$$\n",
    "\\Large\n",
    "    tr(\\textbf{A}) + tr(\\textbf{B})\n",
    "    \\; \\; = \\; \\;\n",
    "    tr(\\textbf{A} + \\textbf{B})\n",
    "$$\n",
    "\n",
    "$$\n",
    "\\Large\n",
    "    tr(\\lambda \\times \\textbf{A})\n",
    "    \\; \\; = \\; \\;\n",
    "    \\lambda \\times tr(\\textbf{A})\n",
    "$$\n",
    "\n",
    "-   Performing addition/scalar-multiplication on matrix elements before and after applying the trace function returns the same result."
   ]
  },
  {
   "cell_type": "markdown",
   "metadata": {},
   "source": [
    "<hr style=\"height: 0; box-shadow: 0 0 5px 4px darkslateblue; width: 95%;\">"
   ]
  },
  {
   "cell_type": "markdown",
   "metadata": {},
   "source": [
    "<font size=2>\n",
    "\n",
    "_Andrew Blais, Boston, Massachusetts_\n",
    "\n",
    "GitHub: https://github.com/andrewblais\n",
    "\n",
    "Website/Python Web Development Porfolio: https://www.andrewblais.dev/\n",
    "\n",
    "</font>"
   ]
  }
 ],
 "metadata": {
  "kernelspec": {
   "display_name": "venv",
   "language": "python",
   "name": "python3"
  },
  "language_info": {
   "codemirror_mode": {
    "name": "ipython",
    "version": 3
   },
   "file_extension": ".py",
   "mimetype": "text/x-python",
   "name": "python",
   "nbconvert_exporter": "python",
   "pygments_lexer": "ipython3",
   "version": "3.13.0"
  }
 },
 "nbformat": 4,
 "nbformat_minor": 2
}
