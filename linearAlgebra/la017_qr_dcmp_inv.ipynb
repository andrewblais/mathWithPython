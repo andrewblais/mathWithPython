{
 "cells": [
  {
   "cell_type": "markdown",
   "metadata": {},
   "source": [
    "# **_QR Decomposition: Manipulation, Inverse, Validation_**"
   ]
  },
  {
   "cell_type": "markdown",
   "metadata": {},
   "source": [
    "_Take the Identity Matrix and add/subtract a Rank 1 Matrix (formed from two vectors) of — a.k.a. a Rank-1 Update. Factor with QR decomposition, reconstruct, verify the inverse. Run numerical and visual checks._"
   ]
  },
  {
   "cell_type": "markdown",
   "metadata": {},
   "source": [
    "<hr style=\"height: 0; box-shadow: 0 0 5px 4px crimson; width: 95%;\">\n"
   ]
  },
  {
   "cell_type": "markdown",
   "metadata": {},
   "source": [
    "## **_Intro:_**"
   ]
  },
  {
   "cell_type": "markdown",
   "metadata": {},
   "source": [
    "This notebook demonstrates concepts from coding challenges I studied in Mike X. Cohen's Linear Algebra course on Udemy.\n",
    "\n",
    "Essentially, this is my homework, which serves as a step-by-step review and a future quick-reference."
   ]
  },
  {
   "cell_type": "markdown",
   "metadata": {},
   "source": [
    "Visit Dr. Cohen's course here:\n",
    "\n",
    "-   [**_Udemy Course_**](https://www.udemy.com/course/linear-algebra-theory-and-implementation)\n",
    "\n",
    "-   [**_Mike X. Cohen's Website_**](https://www.mikexcohen.com/)\n",
    "\n",
    "This course has helped not only with Linear Algebra, but has significantly improved my coding skills.\n",
    "\n",
    "I'm still moving forward, slowly, toward the goal of contributing to the AI Safety conversation."
   ]
  },
  {
   "cell_type": "markdown",
   "metadata": {},
   "source": [
    "<hr style=\"height: 0; box-shadow: 0 0 5px 4px crimson; width: 90%;\">\n"
   ]
  },
  {
   "cell_type": "markdown",
   "metadata": {},
   "source": [
    "## **_Goals:_**"
   ]
  },
  {
   "cell_type": "markdown",
   "metadata": {},
   "source": [
    "1. Create two random vectors of equal length.\n",
    "\n",
    "    - Use the **Sherman-Morrison formula** to construct matrix `M` and its inverse `N`.\n",
    "\n",
    "2. Decompose `M` and `N` into their **orthogonal (`Q`)** and **upper-triangular (`R`)** components.\n",
    "\n",
    "    - Validate that these components satisfy QR decomposition properties.\n",
    "\n",
    "3. Reconstruct the inverses of `M` and `N` using the derived identity:  \n",
    "   $A^{-1} = R^{-1} Q^T$\n",
    "\n",
    "4. Recover the original `M` and `N` by inverting these results with NumPy’s built-in method.\n",
    "\n",
    "5. Confirm reconstruction by checking that the current $A^T A$ equals Step 2's $R^T R$.\n",
    "\n",
    "6. Finally, confirm that the current `M` and `N` are still **true inverses** of one another.  \n",
    "   Design and run a few different tests to verify."
   ]
  },
  {
   "cell_type": "markdown",
   "metadata": {},
   "source": [
    "<hr style=\"height: 0; box-shadow: 0 0 5px 4px crimson; width: 90%;\">\n"
   ]
  },
  {
   "cell_type": "markdown",
   "metadata": {},
   "source": [
    "## **_Quick Review:_**"
   ]
  },
  {
   "cell_type": "markdown",
   "metadata": {},
   "source": [
    "**_1. Decomposing a matrix `A` breaks it into two parts:_**\n",
    "\n",
    "1. Matrix `Q` an orthogonalized version of `A`.\n",
    "\n",
    "2. Matrix `R`, an upper-triangular matrix `R`. Multiply `Q` by `R` to recreate `A`.\n",
    "\n",
    "Use NumPy's `np.linalg.qr()` to get these parts."
   ]
  },
  {
   "cell_type": "markdown",
   "metadata": {},
   "source": [
    "**_2. By definition, a matrix times its inverse equals the identity matrix:_**\n",
    "\n",
    "$A A^{-1} = I$"
   ]
  },
  {
   "cell_type": "markdown",
   "metadata": {},
   "source": [
    "<hr style=\"height: 0; box-shadow: 0 0 5px 4px crimson; width: 90%;\">\n"
   ]
  },
  {
   "cell_type": "markdown",
   "metadata": {},
   "source": [
    "## **_Theory and Implementation with Code:_**"
   ]
  },
  {
   "cell_type": "code",
   "execution_count": 2,
   "metadata": {},
   "outputs": [],
   "source": [
    "import matplotlib.pyplot as plt\n",
    "import numpy as np"
   ]
  },
  {
   "cell_type": "markdown",
   "metadata": {},
   "source": [
    "<hr style=\"height: 0; box-shadow: 0 0 5px 4px dodgerblue; width: 80%;\">"
   ]
  },
  {
   "cell_type": "markdown",
   "metadata": {},
   "source": [
    "#### **_1. Start with vectors `a` and `b`:_**\n",
    "\n",
    "Using the **Sherman-Morrison formula**, compute a modified identity matrix and its inverse.\n",
    "\n",
    "Let:\n",
    "\n",
    "- $M = I - \\mathbf{ab}^T$\n",
    "- $N = I + \\dfrac{\\mathbf{ab}^T}{1 - \\mathbf{a}^T \\mathbf{b}}$\n",
    "\n",
    "Here, $M$ is the original matrix, and $N$ is its inverse."
   ]
  },
  {
   "cell_type": "code",
   "execution_count": 3,
   "metadata": {},
   "outputs": [],
   "source": [
    "# 1. Start with vectors a and b:\n",
    "n = np.random.randint(2, 11)\n",
    "a = np.random.randn(n)\n",
    "b = np.random.randn(n)"
   ]
  },
  {
   "cell_type": "code",
   "execution_count": 4,
   "metadata": {},
   "outputs": [],
   "source": [
    "# Build the formula's components:\n",
    "# Calculate the Sherman-Morrison formula:\n",
    "I = np.eye(n)\n",
    "outer_ab = np.outer(a, b)\n",
    "dot_ab = np.dot(a, b)\n",
    "denom = 1 - np.dot(a, b)"
   ]
  },
  {
   "cell_type": "markdown",
   "metadata": {},
   "source": [
    "**_Caveat:_**\n",
    "\n",
    "Sherman-Morrison breaks down if $\\mathbf{a}^T \\mathbf{b} \\approx 1$.\n",
    "\n",
    "Since $1 - \\mathbf{a}^T \\mathbf{b}$ appears in the denominator of the second equation,  \n",
    "is safe to proceed only if this value is **not equal to 0** (or very close to it).\n",
    "\n",
    "This situation occurs when `a` and `b` are nearly aligned and are both unit vectors. In that case their dot product approaches 1.\n",
    "\n",
    "So I'll include this failsafe:"
   ]
  },
  {
   "cell_type": "code",
   "execution_count": 5,
   "metadata": {},
   "outputs": [],
   "source": [
    "# Regenerate vectors until stable:\n",
    "dot_ab = np.dot(a, b)\n",
    "denom = 1 - dot_ab\n",
    "\n",
    "while np.isclose(denom, 0):\n",
    "    print(\"Numerical instability detected: 1 - a.T b about equal to 0.\")\n",
    "    print(\"Reinitializing vectors and recomputing...\")\n",
    "    n = np.random.randint(2, 11)\n",
    "    a = np.random.randn(n)\n",
    "    b = np.random.randn(n)\n",
    "    I = np.eye(n)\n",
    "    outer_ab = np.outer(a, b)\n",
    "    dot_ab = np.dot(a, b)\n",
    "    denom = 1 - dot_ab"
   ]
  },
  {
   "cell_type": "code",
   "execution_count": 6,
   "metadata": {},
   "outputs": [],
   "source": [
    "# Calculate the Sherman-Morrison formula:\n",
    "I = np.eye(n)\n",
    "M1 = I - outer_ab\n",
    "N1 = I + (outer_ab / (1 - dot_ab))"
   ]
  },
  {
   "cell_type": "code",
   "execution_count": 7,
   "metadata": {},
   "outputs": [
    {
     "name": "stdout",
     "output_type": "stream",
     "text": [
      "True\n"
     ]
    }
   ],
   "source": [
    "# Quick validation in medias res:\n",
    "print(np.allclose(M1, np.linalg.inv(N1)))"
   ]
  },
  {
   "cell_type": "markdown",
   "metadata": {},
   "source": [
    "<hr style=\"height: 0; box-shadow: 0 0 5px 4px dodgerblue; width: 80%;\">"
   ]
  },
  {
   "cell_type": "markdown",
   "metadata": {},
   "source": [
    "#### **_2. Decompose $M$ and $N$ using `np.linalg.qr()`:_**\n",
    "\n",
    "Compute QR decompositions:\n",
    "\n",
    "$$\n",
    "\\LARGE\n",
    "\\begin{aligned}\n",
    "M &= Q_m R_m \\\\\n",
    "N &= Q_n R_n\n",
    "\\end{aligned}\n",
    "$$\n",
    "\n",
    "Pick two random rows each from the $Q$ matrices, plot to verify orthogonality.\n",
    "\n",
    "Plot $R$ matrices to verify they're _upper-triangular_."
   ]
  },
  {
   "cell_type": "code",
   "execution_count": 8,
   "metadata": {},
   "outputs": [],
   "source": [
    "# 2. Decompose M and N using `np.linalg.qr()`:\n",
    "Q_m, R_m = np.linalg.qr(M1)\n",
    "Q_n, R_n = np.linalg.qr(N1)"
   ]
  },
  {
   "cell_type": "markdown",
   "metadata": {},
   "source": [
    "##### **_Using four ways to verify `Q_m` and `Q_n` orthogonality:_**"
   ]
  },
  {
   "cell_type": "markdown",
   "metadata": {},
   "source": [
    "**_Built-In Method:_**"
   ]
  },
  {
   "cell_type": "code",
   "execution_count": 9,
   "metadata": {},
   "outputs": [
    {
     "name": "stdout",
     "output_type": "stream",
     "text": [
      "True\n",
      "True\n"
     ]
    }
   ],
   "source": [
    "# 1. Quick orthogonality check with built-in method, O(1):\n",
    "Q_m_is_orthogonal = np.allclose(Q_m.T @ Q_m, np.eye(n))\n",
    "print(Q_m_is_orthogonal)\n",
    "Q_n_is_orthogonal = np.allclose(Q_n.T @ Q_n, np.eye(n))\n",
    "print(Q_n_is_orthogonal)"
   ]
  },
  {
   "cell_type": "markdown",
   "metadata": {},
   "source": [
    "**_`dot_product == 0` Methods:_**"
   ]
  },
  {
   "cell_type": "code",
   "execution_count": 10,
   "metadata": {},
   "outputs": [
    {
     "name": "stdout",
     "output_type": "stream",
     "text": [
      "Dot product for Q_m[:, 0] and Q_m[:, 1] is 0.0\n",
      "Dot product for Q_n[:, 0] and Q_n[:, 1] is 0.0\n",
      "\n",
      "Dot product for Q_m[:, 1] and Q_m[:, 2] is 0.0\n",
      "Dot product for Q_n[:, 1] and Q_n[:, 2] is 0.0\n",
      "\n",
      "Dot product for Q_m[:, 2] and Q_m[:, 3] is 0.0\n",
      "Dot product for Q_n[:, 2] and Q_n[:, 3] is 0.0\n",
      "\n",
      "Dot product for Q_m[:, 3] and Q_m[:, 4] is 0.0\n",
      "Dot product for Q_n[:, 3] and Q_n[:, 4] is 0.0\n",
      "\n",
      "Dot product for Q_m[:, 4] and Q_m[:, 5] is 0.0\n",
      "Dot product for Q_n[:, 4] and Q_n[:, 5] is 0.0\n",
      "\n"
     ]
    }
   ],
   "source": [
    "# 2. Sliding window orthogonality check (adjacent pairs only), O(n):\n",
    "for i in range(n - 1):\n",
    "    q_m_col1, q_m_col2 = Q_m[:, i], Q_m[:, i + 1]\n",
    "    pairwise_dot = abs(np.round(np.dot(q_m_col1, q_m_col2), 13))\n",
    "    print(f\"Dot product for Q_m[:, {i}] and Q_m[:, {i + 1}] is {pairwise_dot}\")\n",
    "    q_n_col1, q_n_col2 = Q_n[:, i], Q_n[:, i + 1]\n",
    "    pairwise_dot = abs(np.round(np.dot(q_n_col1, q_n_col2), 13))\n",
    "    print(f\"Dot product for Q_n[:, {i}] and Q_n[:, {i + 1}] is {pairwise_dot}\")\n",
    "    print()"
   ]
  },
  {
   "cell_type": "code",
   "execution_count": 11,
   "metadata": {},
   "outputs": [
    {
     "name": "stdout",
     "output_type": "stream",
     "text": [
      "Dot product for Q_m[:, 0] and Q_m[:, 1] is 0.0\n",
      "Dot product for Q_n[:, 0] and Q_n[:, 1] is 0.0\n",
      "\n",
      "Dot product for Q_m[:, 0] and Q_m[:, 2] is 0.0\n",
      "Dot product for Q_n[:, 0] and Q_n[:, 2] is 0.0\n",
      "\n",
      "Dot product for Q_m[:, 0] and Q_m[:, 3] is 0.0\n",
      "Dot product for Q_n[:, 0] and Q_n[:, 3] is 0.0\n",
      "\n",
      "Dot product for Q_m[:, 0] and Q_m[:, 4] is 0.0\n",
      "Dot product for Q_n[:, 0] and Q_n[:, 4] is 0.0\n",
      "\n",
      "Dot product for Q_m[:, 0] and Q_m[:, 5] is 0.0\n",
      "Dot product for Q_n[:, 0] and Q_n[:, 5] is 0.0\n",
      "\n",
      "Dot product for Q_m[:, 1] and Q_m[:, 2] is 0.0\n",
      "Dot product for Q_n[:, 1] and Q_n[:, 2] is 0.0\n",
      "\n",
      "Dot product for Q_m[:, 1] and Q_m[:, 3] is 0.0\n",
      "Dot product for Q_n[:, 1] and Q_n[:, 3] is 0.0\n",
      "\n",
      "Dot product for Q_m[:, 1] and Q_m[:, 4] is 0.0\n",
      "Dot product for Q_n[:, 1] and Q_n[:, 4] is 0.0\n",
      "\n",
      "Dot product for Q_m[:, 1] and Q_m[:, 5] is 0.0\n",
      "Dot product for Q_n[:, 1] and Q_n[:, 5] is 0.0\n",
      "\n",
      "Dot product for Q_m[:, 2] and Q_m[:, 3] is 0.0\n",
      "Dot product for Q_n[:, 2] and Q_n[:, 3] is 0.0\n",
      "\n",
      "Dot product for Q_m[:, 2] and Q_m[:, 4] is 0.0\n",
      "Dot product for Q_n[:, 2] and Q_n[:, 4] is 0.0\n",
      "\n",
      "Dot product for Q_m[:, 2] and Q_m[:, 5] is 0.0\n",
      "Dot product for Q_n[:, 2] and Q_n[:, 5] is 0.0\n",
      "\n",
      "Dot product for Q_m[:, 3] and Q_m[:, 4] is 0.0\n",
      "Dot product for Q_n[:, 3] and Q_n[:, 4] is 0.0\n",
      "\n",
      "Dot product for Q_m[:, 3] and Q_m[:, 5] is 0.0\n",
      "Dot product for Q_n[:, 3] and Q_n[:, 5] is 0.0\n",
      "\n",
      "Dot product for Q_m[:, 4] and Q_m[:, 5] is 0.0\n",
      "Dot product for Q_n[:, 4] and Q_n[:, 5] is 0.0\n",
      "\n"
     ]
    }
   ],
   "source": [
    "# 3. Full pairwise orthogonality check via nested loops, O(n^2):\n",
    "for i in range(n - 1):\n",
    "    for j in range(i, n - 1):\n",
    "        q_m_col1, q_m_col2 = Q_m[:, i], Q_m[:, j + 1]\n",
    "        pairwise_dot = abs(np.round(np.dot(q_m_col1, q_m_col2), 13))\n",
    "        print(f\"Dot product for Q_m[:, {i}] and Q_m[:, {j + 1}] is {pairwise_dot}\")\n",
    "        q_n_col1, q_n_col2 = Q_n[:, i], Q_n[:, j + 1]\n",
    "        pairwise_dot = abs(np.round(np.dot(q_n_col1, q_n_col2), 13))\n",
    "        print(f\"Dot product for Q_n[:, {i}] and Q_n[:, {j + 1}] is {pairwise_dot}\")\n",
    "        print()"
   ]
  },
  {
   "cell_type": "code",
   "execution_count": 12,
   "metadata": {},
   "outputs": [
    {
     "name": "stdout",
     "output_type": "stream",
     "text": [
      "Q_m[:, 0] ⋅ Q_m[:, 1] = 0.0\n",
      "Q_n[:, 0] ⋅ Q_n[:, 1] = 0.0\n",
      "\n",
      "Q_m[:, 0] ⋅ Q_m[:, 2] = 0.0\n",
      "Q_n[:, 0] ⋅ Q_n[:, 2] = 0.0\n",
      "\n",
      "Q_m[:, 0] ⋅ Q_m[:, 3] = 0.0\n",
      "Q_n[:, 0] ⋅ Q_n[:, 3] = 0.0\n",
      "\n",
      "Q_m[:, 0] ⋅ Q_m[:, 4] = 0.0\n",
      "Q_n[:, 0] ⋅ Q_n[:, 4] = 0.0\n",
      "\n",
      "Q_m[:, 0] ⋅ Q_m[:, 5] = 0.0\n",
      "Q_n[:, 0] ⋅ Q_n[:, 5] = 0.0\n",
      "\n",
      "Q_m[:, 1] ⋅ Q_m[:, 2] = 0.0\n",
      "Q_n[:, 1] ⋅ Q_n[:, 2] = 0.0\n",
      "\n",
      "Q_m[:, 1] ⋅ Q_m[:, 3] = 0.0\n",
      "Q_n[:, 1] ⋅ Q_n[:, 3] = 0.0\n",
      "\n",
      "Q_m[:, 1] ⋅ Q_m[:, 4] = 0.0\n",
      "Q_n[:, 1] ⋅ Q_n[:, 4] = 0.0\n",
      "\n",
      "Q_m[:, 1] ⋅ Q_m[:, 5] = 0.0\n",
      "Q_n[:, 1] ⋅ Q_n[:, 5] = 0.0\n",
      "\n",
      "Q_m[:, 2] ⋅ Q_m[:, 3] = 0.0\n",
      "Q_n[:, 2] ⋅ Q_n[:, 3] = 0.0\n",
      "\n",
      "Q_m[:, 2] ⋅ Q_m[:, 4] = 0.0\n",
      "Q_n[:, 2] ⋅ Q_n[:, 4] = 0.0\n",
      "\n",
      "Q_m[:, 2] ⋅ Q_m[:, 5] = 0.0\n",
      "Q_n[:, 2] ⋅ Q_n[:, 5] = 0.0\n",
      "\n",
      "Q_m[:, 3] ⋅ Q_m[:, 4] = 0.0\n",
      "Q_n[:, 3] ⋅ Q_n[:, 4] = 0.0\n",
      "\n",
      "Q_m[:, 3] ⋅ Q_m[:, 5] = 0.0\n",
      "Q_n[:, 3] ⋅ Q_n[:, 5] = 0.0\n",
      "\n",
      "Q_m[:, 4] ⋅ Q_m[:, 5] = 0.0\n",
      "Q_n[:, 4] ⋅ Q_n[:, 5] = 0.0\n",
      "\n"
     ]
    }
   ],
   "source": [
    "# 4. Full pairwise dot products using itertools.combinations, cleaner O(n^2):\n",
    "from itertools import combinations\n",
    "\n",
    "for i, j in combinations(range(n), 2):\n",
    "    dp_m = abs(np.round(np.dot(Q_m[:, i], Q_m[:, j]), 13))\n",
    "    dp_n = abs(np.round(np.dot(Q_n[:, i], Q_n[:, j]), 13))\n",
    "    print(f\"Q_m[:, {i}] ⋅ Q_m[:, {j}] = {dp_m}\")\n",
    "    print(f\"Q_n[:, {i}] ⋅ Q_n[:, {j}] = {dp_n}\")\n",
    "    print()"
   ]
  },
  {
   "cell_type": "markdown",
   "metadata": {},
   "source": [
    "#### **_Confirm `R` matrices are upper-triangular:_**"
   ]
  },
  {
   "cell_type": "code",
   "execution_count": 13,
   "metadata": {},
   "outputs": [
    {
     "data": {
      "image/png": "[encoded data removed]",
      "text/plain": [
       "<Figure size 640x480 with 2 Axes>"
      ]
     },
     "metadata": {},
     "output_type": "display_data"
    }
   ],
   "source": [
    "fig, ax = plt.subplots(1, 2)\n",
    "ax[0].imshow(R_m, cmap=\"prism\")\n",
    "ax[0].set_title(\"R_m Upper-Triangular?\")\n",
    "ax[1].imshow(R_n, cmap=\"prism\")\n",
    "ax[1].set_title(\"R_n Upper-Triangular?\")\n",
    "\n",
    "plt.tight_layout()\n",
    "plt.show()"
   ]
  },
  {
   "cell_type": "markdown",
   "metadata": {},
   "source": [
    "<hr style=\"height: 0; box-shadow: 0 0 5px 4px dodgerblue; width: 80%;\">"
   ]
  },
  {
   "cell_type": "markdown",
   "metadata": {},
   "source": [
    "#### **_3. Construct inverses using $R^{-1} Q^T$:_**\n",
    "\n",
    "From:\n",
    "\n",
    "$$\n",
    "\\large\n",
    "\\begin{gathered}\n",
    "A = QR\n",
    "\\\\ \\Downarrow \\\\\n",
    "A^{-1} = (QR)^{-1}\n",
    "\\\\ \\Downarrow \\\\\n",
    "A^{-1} = R^{-1} Q^{-1}\n",
    "\\\\ \\Downarrow \\\\\n",
    "A^{-1} = R^{-1} Q^T \\quad \\text{(since } Q \\text{ is orthogonal)}\n",
    "\\end{gathered}\n",
    "$$\n",
    "\n",
    "Reconstruct:\n",
    "\n",
    "$$\n",
    "\\LARGE\n",
    "\\begin{aligned}\n",
    "M^{-1} &= R_m^{-1} Q_m^T \\\\\n",
    "N^{-1} &= R_n^{-1} Q_n^T\n",
    "\\end{aligned}\n",
    "$$\n",
    "\n",
    "Avoid calling `np.linalg.inv()` directly on $M$ or $N$. Instead, invert $R$ using `solve()` or an equivalent triangular solver."
   ]
  },
  {
   "cell_type": "code",
   "execution_count": 14,
   "metadata": {},
   "outputs": [],
   "source": [
    "M_inv = np.linalg.solve(R_m, Q_m.T)\n",
    "N_inv = np.linalg.solve(R_n, Q_n.T)"
   ]
  },
  {
   "cell_type": "code",
   "execution_count": 15,
   "metadata": {},
   "outputs": [
    {
     "name": "stdout",
     "output_type": "stream",
     "text": [
      "True\n"
     ]
    }
   ],
   "source": [
    "# Quick validation in medias res:\n",
    "print(np.allclose(M_inv, np.linalg.inv(N_inv)))"
   ]
  },
  {
   "cell_type": "markdown",
   "metadata": {},
   "source": [
    "<hr style=\"height: 0; box-shadow: 0 0 5px 4px dodgerblue; width: 80%;\">"
   ]
  },
  {
   "cell_type": "markdown",
   "metadata": {},
   "source": [
    "#### **_4. Validate by re-inverting:_**\n",
    "\n",
    "Use `np.linalg.inv()` to invert the constructed $M^{-1}$ and $N^{-1}$ back to $M$ and $N$.\n",
    "\n",
    "This step ensures the QR-based inverse reconstruction was correct."
   ]
  },
  {
   "cell_type": "code",
   "execution_count": 16,
   "metadata": {},
   "outputs": [],
   "source": [
    "M2 = np.linalg.inv(M_inv)\n",
    "N2 = np.linalg.inv(N_inv)"
   ]
  },
  {
   "cell_type": "code",
   "execution_count": 17,
   "metadata": {},
   "outputs": [
    {
     "name": "stdout",
     "output_type": "stream",
     "text": [
      "True\n",
      "True\n"
     ]
    }
   ],
   "source": [
    "# Quickly check M1==M2 and N1==N2:\n",
    "print(np.allclose(M1, M2))\n",
    "print(np.allclose(N1, N2))"
   ]
  },
  {
   "cell_type": "code",
   "execution_count": 18,
   "metadata": {},
   "outputs": [
    {
     "name": "stdout",
     "output_type": "stream",
     "text": [
      "True\n"
     ]
    }
   ],
   "source": [
    "# Quick validation in medias res:\n",
    "print(np.allclose(M2, np.linalg.inv(N2)))"
   ]
  },
  {
   "cell_type": "markdown",
   "metadata": {},
   "source": [
    "<hr style=\"height: 0; box-shadow: 0 0 5px 4px dodgerblue; width: 80%;\">"
   ]
  },
  {
   "cell_type": "markdown",
   "metadata": {},
   "source": [
    "#### **_5. Compare $A^T A$ to $R^T R$:_**\n",
    "\n",
    "Given:\n",
    "\n",
    "$$\n",
    "\\large\n",
    "A^T A = (QR)^T (QR) = R^T Q^T Q R = R^T R\n",
    "$$\n",
    "\n",
    "Therefore:\n",
    "\n",
    "$$\n",
    "\\LARGE\n",
    "\\begin{aligned}\n",
    "M^T M &= R_m^T R_m \\\\\n",
    "N^T N &= R_n^T R_n\n",
    "\\end{aligned}\n",
    "$$\n",
    "\n",
    "Use the $R$ matrices from **Step 2** and check whether the identities hold with the current $M$ and $N$."
   ]
  },
  {
   "cell_type": "code",
   "execution_count": 19,
   "metadata": {},
   "outputs": [
    {
     "name": "stdout",
     "output_type": "stream",
     "text": [
      "True\n",
      "True\n"
     ]
    }
   ],
   "source": [
    "print(np.allclose(M2.T @ M2, R_m.T @ R_m))\n",
    "print(np.allclose(N2.T @ N2, R_n.T @ R_n))"
   ]
  },
  {
   "cell_type": "markdown",
   "metadata": {},
   "source": [
    "<hr style=\"height: 0; box-shadow: 0 0 5px 4px dodgerblue; width: 80%;\">"
   ]
  },
  {
   "cell_type": "markdown",
   "metadata": {},
   "source": [
    "#### **_6. Final checks:_**\n",
    "\n",
    "If **Step 5** is successful, confirm that $MN \\approx I \\; \\text{and} \\; NM \\approx I$ with a variety of numerical and visual tests.\n",
    "\n",
    "Initiate other tests to look at the results through different lenses."
   ]
  },
  {
   "cell_type": "code",
   "execution_count": 20,
   "metadata": {},
   "outputs": [],
   "source": [
    "I = np.eye(n)"
   ]
  },
  {
   "cell_type": "code",
   "execution_count": 21,
   "metadata": {},
   "outputs": [
    {
     "name": "stdout",
     "output_type": "stream",
     "text": [
      "True\n",
      "True\n",
      "True\n",
      "True\n"
     ]
    }
   ],
   "source": [
    "# All combinations should equal I, return True:\n",
    "print(np.allclose(M1 @ N1, I))\n",
    "print(np.allclose(M1 @ N2, I))\n",
    "print(np.allclose(M2 @ N1, I))\n",
    "print(np.allclose(M2 @ N2, I))"
   ]
  },
  {
   "cell_type": "code",
   "execution_count": 22,
   "metadata": {},
   "outputs": [
    {
     "name": "stdout",
     "output_type": "stream",
     "text": [
      "[[ 1.  0.  0.  0. -0.  0.]\n",
      " [ 0.  1.  0.  0. -0. -0.]\n",
      " [ 0.  0.  1. -0. -0. -0.]\n",
      " [ 0.  0.  0.  1.  0. -0.]\n",
      " [ 0. -0.  0. -0.  1.  0.]\n",
      " [-0.  0. -0. -0.  0.  1.]]\n",
      "[[ 1.  0.  0.  0.  0.  0.]\n",
      " [ 0.  1.  0. -0.  0.  0.]\n",
      " [-0.  0.  1. -0. -0.  0.]\n",
      " [ 0.  0. -0.  1. -0. -0.]\n",
      " [-0. -0.  0. -0.  1.  0.]\n",
      " [ 0.  0. -0. -0. -0.  1.]]\n",
      "[[ 1.  0. -0. -0. -0. -0.]\n",
      " [-0.  1.  0. -0. -0. -0.]\n",
      " [-0. -0.  1. -0. -0.  0.]\n",
      " [ 0.  0.  0.  1. -0.  0.]\n",
      " [-0.  0. -0. -0.  1.  0.]\n",
      " [ 0.  0. -0.  0.  0.  1.]]\n",
      "[[ 1.  0.  0.  0. -0.  0.]\n",
      " [-0.  1.  0. -0. -0.  0.]\n",
      " [-0. -0.  1. -0. -0.  0.]\n",
      " [ 0.  0. -0.  1. -0. -0.]\n",
      " [-0.  0.  0. -0.  1.  0.]\n",
      " [ 0. -0. -0.  0. -0.  1.]]\n"
     ]
    }
   ],
   "source": [
    "# All combinations should return easily identifiable\n",
    "#  Identity Matrices:\n",
    "print(np.round(M1 @ N1, 13))\n",
    "print(np.round(M1 @ N2, 13))\n",
    "print(np.round(M2 @ N1, 13))\n",
    "print(np.round(M2 @ N2, 13))"
   ]
  },
  {
   "cell_type": "code",
   "execution_count": 23,
   "metadata": {},
   "outputs": [
    {
     "name": "stdout",
     "output_type": "stream",
     "text": [
      "[[1. 1.]\n",
      " [1. 1.]]\n",
      "[[1. 1.]\n",
      " [1. 1.]]\n",
      "[[1. 1.]\n",
      " [1. 1.]]\n"
     ]
    }
   ],
   "source": [
    "# Different combinations should correlate perfectly:\n",
    "print(np.corrcoef(M1.flatten(), M2.flatten()))\n",
    "print(np.corrcoef(np.linalg.inv(M2).flatten(), M_inv.flatten()))\n",
    "print(np.corrcoef(np.linalg.inv(N2).flatten(), N_inv.flatten()))"
   ]
  },
  {
   "cell_type": "code",
   "execution_count": 24,
   "metadata": {},
   "outputs": [
    {
     "data": {
      "image/png": "[encoded data removed]",
      "text/plain": [
       "<Figure size 640x480 with 4 Axes>"
      ]
     },
     "metadata": {},
     "output_type": "display_data"
    }
   ],
   "source": [
    "# Should all display descending diagonal stripes\n",
    "#  in indicating the Identity Matrix:\n",
    "plt.subplot(1, 4, 1)\n",
    "plt.imshow(M1 @ N1)\n",
    "plt.title(\"$M1 N1$\")\n",
    "\n",
    "plt.subplot(1, 4, 2)\n",
    "plt.imshow(M1 @ N2)\n",
    "plt.title(\"$M1 N2$\")\n",
    "\n",
    "plt.subplot(1, 4, 3)\n",
    "plt.imshow(M2 @ N1)\n",
    "plt.title(\"$M2 N1$\")\n",
    "\n",
    "plt.subplot(1, 4, 4)\n",
    "plt.imshow(M2 @ N2)\n",
    "plt.title(\"$M2 N2$\")\n",
    "\n",
    "plt.show()"
   ]
  },
  {
   "cell_type": "markdown",
   "metadata": {},
   "source": [
    "<hr style=\"height: 0; box-shadow: 0 0 5px 4px crimson; width: 90%;\">\n"
   ]
  },
  {
   "cell_type": "markdown",
   "metadata": {},
   "source": [
    "## **_Takeaway:_**"
   ]
  },
  {
   "cell_type": "markdown",
   "metadata": {},
   "source": [
    "Mike X. Cohen's course has helped me learn, practice and reinforce the multitude of operations possible to exert upon matrices and vectors.\n",
    "\n",
    "This section had me taking things apart and putting them back together, and has me feeling much more confident in my abilities around these mathematical concepts and coding.\n",
    "\n",
    "QR Decomposition seems to open a world of possibilities, like taking an engine apart to examine its components.\n",
    "\n",
    "The subject has been very slow and challenging for me to learn, but I'm continuing to grind through..."
   ]
  },
  {
   "cell_type": "markdown",
   "metadata": {},
   "source": [
    "<hr style=\"height: 0; box-shadow: 0 0 5px 4px crimson; width: 90%;\">\n"
   ]
  },
  {
   "cell_type": "markdown",
   "metadata": {},
   "source": [
    "<hr style=\"height: 0; box-shadow: 0 0 5px 4px dodgerblue; width: 80%;\">\n"
   ]
  },
  {
   "cell_type": "markdown",
   "metadata": {},
   "source": [
    "<hr style=\"height: 0; box-shadow: 0 0 5px 4px #5EDC1F; width: 70%;\">\n"
   ]
  },
  {
   "cell_type": "markdown",
   "metadata": {},
   "source": [
    "<hr style=\"height: 0; box-shadow: 0 0 5px 4px orangered; width: 60%;\">\n"
   ]
  },
  {
   "cell_type": "markdown",
   "metadata": {},
   "source": [
    "<hr style=\"height: 0; box-shadow: 0 0 5px 4px gold; width: 50%;\">\n"
   ]
  },
  {
   "cell_type": "markdown",
   "metadata": {},
   "source": [
    "<font size=2>\n",
    "\n",
    "_Andrew Blais, Boston, Massachusetts_\n",
    "\n",
    "[**_GitHub_**](https://github.com/andrewblais)\n",
    "\n",
    "[**_Website_**](https://www.andrewblais.dev/)\n",
    "\n",
    "</font>"
   ]
  }
 ],
 "metadata": {
  "kernelspec": {
   "display_name": "venv",
   "language": "python",
   "name": "python3"
  },
  "language_info": {
   "codemirror_mode": {
    "name": "ipython",
    "version": 3
   },
   "file_extension": ".py",
   "mimetype": "text/x-python",
   "name": "python",
   "nbconvert_exporter": "python",
   "pygments_lexer": "ipython3",
   "version": "3.13.7"
  }
 },
 "nbformat": 4,
 "nbformat_minor": 2
}
